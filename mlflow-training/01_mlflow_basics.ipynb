{
 "cells": [
  {
   "cell_type": "markdown",
   "id": "a72e640a-c64e-46cf-b270-48e1f357995d",
   "metadata": {},
   "source": [
    "# MLFlow Training"
   ]
  },
  {
   "cell_type": "markdown",
   "id": "4e98c735-3f86-40ff-9dfc-935cc96569a2",
   "metadata": {},
   "source": [
    "based on:  https://www.mlflow.org/docs/latest/quickstart.html"
   ]
  },
  {
   "cell_type": "code",
   "execution_count": 4,
   "id": "22c04d2a-aedc-4a45-b772-139486a83920",
   "metadata": {},
   "outputs": [],
   "source": [
    "import mlflow"
   ]
  },
  {
   "cell_type": "code",
   "execution_count": 5,
   "id": "be2d6f57-64db-4a03-acbb-112795f29f52",
   "metadata": {},
   "outputs": [
    {
     "data": {
      "text/plain": [
       "'1.30.0'"
      ]
     },
     "execution_count": 5,
     "metadata": {},
     "output_type": "execute_result"
    }
   ],
   "source": [
    "mlflow.__version__"
   ]
  },
  {
   "cell_type": "code",
   "execution_count": 6,
   "id": "7c564b80-d429-4e85-997d-26108301558f",
   "metadata": {},
   "outputs": [],
   "source": [
    "import os\n",
    "from random import random, randint\n",
    "from mlflow import log_metric, log_param, log_artifacts"
   ]
  },
  {
   "cell_type": "markdown",
   "id": "7ed8cf2e-6f63-4560-aa31-b7c152bdb4c4",
   "metadata": {},
   "source": [
    "Scenarios are based on https://www.mlflow.org/docs/latest/tracking.html# "
   ]
  },
  {
   "cell_type": "markdown",
   "id": "2d96f2b2-45f0-4705-b4ca-33f7375fa0e6",
   "metadata": {},
   "source": []
  },
  {
   "cell_type": "markdown",
   "id": "f668dc24-f915-43c6-8a2e-57c6c401d5d6",
   "metadata": {},
   "source": [
    "### Scenario 1 - running MLFlow with LocalArtifactRepository and FileStore"
   ]
  },
  {
   "cell_type": "markdown",
   "id": "431ce0f7-da39-4cea-b46f-f5c8e967c33b",
   "metadata": {},
   "source": [
    "Now execute command in a terminal: \n",
    "\n",
    "$ mlflow ui  # in the same directory where notebook is (parent of mlruns) or point it to the mlrun directory:\n",
    "\n",
    "\n",
    "$ mlflow ui --backend-store-uri file:///home/wojtek/Workspace/max-ml/datascience-trainings/mlflow-training/mlruns\n",
    "\n",
    "-> then open the ui in browser http://localhost:5000"
   ]
  },
  {
   "cell_type": "code",
   "execution_count": 7,
   "id": "81cf6853-58b5-4f36-9e33-f8eee626f3dc",
   "metadata": {},
   "outputs": [],
   "source": [
    "# this example will save all data to local file -> see the ./mlruns directory\n",
    "\n",
    "with mlflow.start_run():\n",
    "    # Log a parameter (key-value pair)\n",
    "    log_param(\"param2\", randint(0, 100))\n",
    "\n",
    "    # Log a metric; metrics can be updated throughout the run\n",
    "    log_metric(\"foo\", random())\n",
    "    log_metric(\"foo\", random() + 1)\n",
    "    log_metric(\"foo\", random() + 2)\n",
    "\n",
    "    # Log an artifact (output file)\n",
    "    if not os.path.exists(\"outputs\"):\n",
    "        os.makedirs(\"outputs\")\n",
    "    with open(\"outputs/test.txt\", \"w\") as f:\n",
    "        f.write(\"hello world!\")\n",
    "    log_artifacts(\"outputs\")\n"
   ]
  },
  {
   "cell_type": "code",
   "execution_count": 5,
   "id": "9364923b-5f16-46ef-a041-c4f0348bbafc",
   "metadata": {},
   "outputs": [],
   "source": []
  },
  {
   "cell_type": "code",
   "execution_count": null,
   "id": "3b5d4e1e-df73-440c-8738-3a781ff125d0",
   "metadata": {},
   "outputs": [],
   "source": []
  }
 ],
 "metadata": {
  "kernelspec": {
   "display_name": "Python 3 (ipykernel)",
   "language": "python",
   "name": "python3"
  },
  "language_info": {
   "codemirror_mode": {
    "name": "ipython",
    "version": 3
   },
   "file_extension": ".py",
   "mimetype": "text/x-python",
   "name": "python",
   "nbconvert_exporter": "python",
   "pygments_lexer": "ipython3",
   "version": "3.9.13"
  }
 },
 "nbformat": 4,
 "nbformat_minor": 5
}
