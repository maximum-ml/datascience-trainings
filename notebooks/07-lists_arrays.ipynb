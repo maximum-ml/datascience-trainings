{
 "cells": [
  {
   "cell_type": "markdown",
   "id": "bc50a27b-f597-4eb5-bb21-e89239a8931b",
   "metadata": {},
   "source": [
    "# Lists & Arrays"
   ]
  },
  {
   "cell_type": "markdown",
   "id": "f9c96bb1-49b8-4871-ab5f-1091e7f73aec",
   "metadata": {},
   "source": [
    "## Lists"
   ]
  },
  {
   "cell_type": "markdown",
   "id": "60b22e7a-14df-4558-a08b-e41dcc79f8a7",
   "metadata": {},
   "source": [
    "- list is build-in data type in python: <class 'list'>\n",
    "- lists are mutable\n",
    "- a single list can contain different objects eg: ['str', 1, obj]\n"
   ]
  },
  {
   "cell_type": "code",
   "execution_count": 4,
   "id": "e76ad5a8-dedd-49a8-b10f-7c9fe8574e47",
   "metadata": {},
   "outputs": [],
   "source": [
    "list = ['a', 'b', 'c', 1]"
   ]
  },
  {
   "cell_type": "code",
   "execution_count": 5,
   "id": "b3fec318-e137-4a49-b985-712491dd5684",
   "metadata": {},
   "outputs": [
    {
     "name": "stdout",
     "output_type": "stream",
     "text": [
      "<class 'list'>\n"
     ]
    }
   ],
   "source": [
    "print(type(list))"
   ]
  },
  {
   "cell_type": "markdown",
   "id": "a05695e2-ae73-4318-935c-fd66c0fad9a2",
   "metadata": {},
   "source": [
    "#### Sort a List"
   ]
  },
  {
   "cell_type": "code",
   "execution_count": 8,
   "id": "ed9d2a2d-f12b-4b7d-80f1-1cf6da32ca81",
   "metadata": {},
   "outputs": [
    {
     "data": {
      "text/plain": [
       "['aae', 'cxc', 'dfa', 'rfb']"
      ]
     },
     "execution_count": 8,
     "metadata": {},
     "output_type": "execute_result"
    }
   ],
   "source": [
    "list = ['dfa', 'rfb', 'cxc', 'aae']\n",
    "list.sort() ## sorting is done inplace\n",
    "list"
   ]
  },
  {
   "cell_type": "markdown",
   "id": "7cad5beb-cb23-42ee-ad9a-221e3ee81a1d",
   "metadata": {},
   "source": [
    "### Arrays"
   ]
  },
  {
   "cell_type": "markdown",
   "id": "540d4dc5-800d-426b-8821-3d512fe680ae",
   "metadata": {},
   "source": [
    "To use arrays in Python, you need to import either an __array__ module or a __NumPy__ package."
   ]
  },
  {
   "cell_type": "markdown",
   "id": "d8599054-ae09-40aa-a9ba-7fbac6cbde69",
   "metadata": {},
   "source": [
    "#### Array"
   ]
  },
  {
   "cell_type": "code",
   "execution_count": 5,
   "id": "ced3a111-85ba-411e-a687-0ab93b5dc6c7",
   "metadata": {},
   "outputs": [],
   "source": [
    "import array as arr"
   ]
  },
  {
   "cell_type": "code",
   "execution_count": 15,
   "id": "f5462264-7cda-4fb6-9bb4-7b729cf8970c",
   "metadata": {},
   "outputs": [
    {
     "name": "stdout",
     "output_type": "stream",
     "text": [
      "array('i', [3, 6, 9, 12])\n",
      "<class 'array.array'>\n"
     ]
    }
   ],
   "source": [
    "array1 = arr.array(\"i\", [3, 6, 9, 12]) # i - means it's an array of integers only\n",
    "print(array1)\n",
    "print(type(array1))"
   ]
  },
  {
   "cell_type": "code",
   "execution_count": 9,
   "id": "60dbf4b5-8c89-4917-af56-46e2f842e822",
   "metadata": {},
   "outputs": [
    {
     "data": {
      "text/plain": [
       "4"
      ]
     },
     "execution_count": 9,
     "metadata": {},
     "output_type": "execute_result"
    }
   ],
   "source": [
    "len(array1)"
   ]
  },
  {
   "cell_type": "markdown",
   "id": "e2804665-8756-4555-ae8c-9682ad17d5bd",
   "metadata": {},
   "source": [
    "#### Numpy"
   ]
  },
  {
   "cell_type": "code",
   "execution_count": 11,
   "id": "23a311c0-0ead-4510-9cd8-13b4838b3fc9",
   "metadata": {},
   "outputs": [],
   "source": [
    "import numpy as np"
   ]
  },
  {
   "cell_type": "code",
   "execution_count": 14,
   "id": "e14718bd-f755-4a8f-a2b1-69db139e9998",
   "metadata": {},
   "outputs": [
    {
     "name": "stdout",
     "output_type": "stream",
     "text": [
      "['numbers' '3' '6' '9' '12']\n",
      "<class 'numpy.ndarray'>\n"
     ]
    }
   ],
   "source": [
    "array2 = np.array([\"numbers\", 3, 6, 9, 12]) # numpy array accepts different types of elements\n",
    "print (array2)\n",
    "print(type(array2))"
   ]
  },
  {
   "cell_type": "code",
   "execution_count": 13,
   "id": "8dc69572-cd15-4c00-9e1a-3048ef9d66fc",
   "metadata": {},
   "outputs": [
    {
     "data": {
      "text/plain": [
       "5"
      ]
     },
     "execution_count": 13,
     "metadata": {},
     "output_type": "execute_result"
    }
   ],
   "source": [
    "len(array2)"
   ]
  },
  {
   "cell_type": "code",
   "execution_count": null,
   "id": "676b48a0-8aa8-4f00-8491-ac10500a25bc",
   "metadata": {},
   "outputs": [],
   "source": []
  }
 ],
 "metadata": {
  "kernelspec": {
   "display_name": "Python 3 (ipykernel)",
   "language": "python",
   "name": "python3"
  },
  "language_info": {
   "codemirror_mode": {
    "name": "ipython",
    "version": 3
   },
   "file_extension": ".py",
   "mimetype": "text/x-python",
   "name": "python",
   "nbconvert_exporter": "python",
   "pygments_lexer": "ipython3",
   "version": "3.8.10"
  }
 },
 "nbformat": 4,
 "nbformat_minor": 5
}
