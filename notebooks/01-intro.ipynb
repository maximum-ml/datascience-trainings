{
 "cells": [
  {
   "cell_type": "markdown",
   "id": "04476ff0-0590-4228-919a-5e776cc60321",
   "metadata": {},
   "source": [
    "# Intro into Python syntax"
   ]
  },
  {
   "cell_type": "markdown",
   "id": "88d75ec7-4dce-4f21-9122-58c11710110f",
   "metadata": {},
   "source": [
    "https://www.youtube.com/watch?v=_uQrJ0TkZlc&t=9605s\n",
    "\n"
   ]
  },
  {
   "cell_type": "code",
   "execution_count": null,
   "id": "d40fe1c3-e29f-4884-80ad-0bf6f23a1083",
   "metadata": {},
   "outputs": [],
   "source": []
  }
 ],
 "metadata": {
  "kernelspec": {
   "display_name": "Python 3",
   "language": "python",
   "name": "python3"
  },
  "language_info": {
   "codemirror_mode": {
    "name": "ipython",
    "version": 3
   },
   "file_extension": ".py",
   "mimetype": "text/x-python",
   "name": "python",
   "nbconvert_exporter": "python",
   "pygments_lexer": "ipython3",
   "version": "3.7.11"
  }
 },
 "nbformat": 4,
 "nbformat_minor": 5
}
