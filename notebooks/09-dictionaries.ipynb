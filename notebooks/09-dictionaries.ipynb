{
 "cells": [
  {
   "cell_type": "markdown",
   "id": "f6247038-7ec5-4257-9bdc-cc8856eb6bd9",
   "metadata": {},
   "source": [
    "# Dictionaries\n",
    "\n",
    "(a dictionary represent a map)"
   ]
  },
  {
   "cell_type": "markdown",
   "id": "582727ee-a306-47c0-8a4f-26cb789d8567",
   "metadata": {},
   "source": [
    "## Create a dictionary"
   ]
  },
  {
   "cell_type": "code",
   "execution_count": 6,
   "id": "7f361393-7752-4661-9aaf-42d0debeee62",
   "metadata": {},
   "outputs": [
    {
     "data": {
      "text/plain": [
       "{'a': 1, 'b': 2, 'c': 3}"
      ]
     },
     "execution_count": 6,
     "metadata": {},
     "output_type": "execute_result"
    }
   ],
   "source": [
    "d = {\n",
    "    \"a\" : 1,\n",
    "    \"b\" : 2,\n",
    "    \"c\" : 3\n",
    "}\n",
    "d"
   ]
  },
  {
   "cell_type": "code",
   "execution_count": 7,
   "id": "d010af60-cdf5-42bf-b8d7-6437c39ae333",
   "metadata": {},
   "outputs": [
    {
     "data": {
      "text/plain": [
       "dict"
      ]
     },
     "execution_count": 7,
     "metadata": {},
     "output_type": "execute_result"
    }
   ],
   "source": [
    "type(d)"
   ]
  },
  {
   "cell_type": "markdown",
   "id": "6e31b6e3-e1a0-4d9e-b955-3af3c1a285c2",
   "metadata": {},
   "source": [
    "## Get element"
   ]
  },
  {
   "cell_type": "code",
   "execution_count": 24,
   "id": "dfe93fd0-26a4-485f-a3ab-8883f6d8dd4b",
   "metadata": {},
   "outputs": [
    {
     "data": {
      "text/plain": [
       "10"
      ]
     },
     "execution_count": 24,
     "metadata": {},
     "output_type": "execute_result"
    }
   ],
   "source": [
    "element = d['a']\n",
    "element"
   ]
  },
  {
   "cell_type": "code",
   "execution_count": 31,
   "id": "7f1f6948-d5fb-478c-be6b-6cfe4ab97fbc",
   "metadata": {},
   "outputs": [
    {
     "data": {
      "text/plain": [
       "[10, 100]"
      ]
     },
     "execution_count": 31,
     "metadata": {},
     "output_type": "execute_result"
    }
   ],
   "source": [
    "element = d.get('a')\n",
    "element"
   ]
  },
  {
   "cell_type": "markdown",
   "id": "f28f3b43-7ea4-42b1-af61-cf8e75af071f",
   "metadata": {},
   "source": [
    "## Get all "
   ]
  },
  {
   "cell_type": "code",
   "execution_count": 33,
   "id": "2ca73fcf-4818-42a6-87bb-65b31fe9dad6",
   "metadata": {},
   "outputs": [
    {
     "data": {
      "text/plain": [
       "dict_keys(['a', 'b', 'c'])"
      ]
     },
     "execution_count": 33,
     "metadata": {},
     "output_type": "execute_result"
    }
   ],
   "source": [
    "keys = d.keys()\n",
    "keys"
   ]
  },
  {
   "cell_type": "code",
   "execution_count": 34,
   "id": "0b97d5d2-e1c7-4f28-9f5a-bfafe5279b2f",
   "metadata": {},
   "outputs": [
    {
     "data": {
      "text/plain": [
       "['a', 'b', 'c']"
      ]
     },
     "execution_count": 34,
     "metadata": {},
     "output_type": "execute_result"
    }
   ],
   "source": [
    "list(d.keys())"
   ]
  },
  {
   "cell_type": "markdown",
   "id": "021acb17-2603-4736-b9ca-8db8d77dd127",
   "metadata": {},
   "source": [
    "## Add element"
   ]
  },
  {
   "cell_type": "code",
   "execution_count": 18,
   "id": "dced7ac1-ca56-4db6-8811-3cbcda927f77",
   "metadata": {},
   "outputs": [
    {
     "data": {
      "text/plain": [
       "{'a': 10, 'b': 2, 'c': 3, 'd': 4}"
      ]
     },
     "execution_count": 18,
     "metadata": {},
     "output_type": "execute_result"
    }
   ],
   "source": [
    "d['d'] = 4\n",
    "d"
   ]
  },
  {
   "cell_type": "markdown",
   "id": "2f036171-1a9c-485b-9ed2-1ec0a487429c",
   "metadata": {},
   "source": [
    "## Change element"
   ]
  },
  {
   "cell_type": "code",
   "execution_count": 17,
   "id": "0d7842b3-86fd-498c-ac55-97a6cc78649b",
   "metadata": {},
   "outputs": [
    {
     "data": {
      "text/plain": [
       "{'a': 10, 'b': 2, 'c': 3}"
      ]
     },
     "execution_count": 17,
     "metadata": {},
     "output_type": "execute_result"
    }
   ],
   "source": [
    "d['a'] = 10\n",
    "d"
   ]
  },
  {
   "cell_type": "markdown",
   "id": "04f3c702-76f8-42c6-b98b-0f5b41c66449",
   "metadata": {},
   "source": [
    "## Remove element"
   ]
  },
  {
   "cell_type": "code",
   "execution_count": 19,
   "id": "e19dd375-3939-4325-8284-96eb98aa4c70",
   "metadata": {},
   "outputs": [
    {
     "name": "stdout",
     "output_type": "stream",
     "text": [
      "removed_element 4\n"
     ]
    },
    {
     "data": {
      "text/plain": [
       "{'a': 10, 'b': 2, 'c': 3}"
      ]
     },
     "execution_count": 19,
     "metadata": {},
     "output_type": "execute_result"
    }
   ],
   "source": [
    "# using pop() method\n",
    "removed_element = d.pop('d');\n",
    "print('removed_element', removed_element)\n",
    "d"
   ]
  },
  {
   "cell_type": "code",
   "execution_count": 28,
   "id": "4f165b22-3a0a-430c-b262-4e0a29f035af",
   "metadata": {},
   "outputs": [
    {
     "data": {
      "text/plain": [
       "{'a': [10, 100], 'b': [20], 'c': [30]}"
      ]
     },
     "execution_count": 28,
     "metadata": {},
     "output_type": "execute_result"
    }
   ],
   "source": [
    "# using del\n",
    "d['d'] = 100\n",
    "del d['d']\n",
    "d"
   ]
  },
  {
   "cell_type": "markdown",
   "id": "7f1da398-29fe-457e-8578-7653493bb0e4",
   "metadata": {},
   "source": [
    "## Multimap"
   ]
  },
  {
   "cell_type": "code",
   "execution_count": 29,
   "id": "b5bf98fe-a4b9-4673-9351-30359f6c44a6",
   "metadata": {},
   "outputs": [
    {
     "data": {
      "text/plain": [
       "{'a': [10, 100], 'b': [20], 'c': [30]}"
      ]
     },
     "execution_count": 29,
     "metadata": {},
     "output_type": "execute_result"
    }
   ],
   "source": [
    "\n",
    "d = {'a': [10], 'b': [20], 'c': [30]}\n",
    "\n",
    "key = 'a'\n",
    "val = 100\n",
    "\n",
    "d.setdefault(key, []).append(val)\n",
    "d"
   ]
  },
  {
   "cell_type": "code",
   "execution_count": 27,
   "id": "54637d77-cdad-412b-a8a1-dda4650d6bbe",
   "metadata": {},
   "outputs": [
    {
     "data": {
      "text/plain": [
       "{'a': [10, 100], 'b': [20], 'c': [30], 'd': [40]}"
      ]
     },
     "execution_count": 27,
     "metadata": {},
     "output_type": "execute_result"
    }
   ],
   "source": [
    "key = 'd'\n",
    "val = 40\n",
    "\n",
    "d.setdefault(key, []).append(val)\n",
    "d"
   ]
  },
  {
   "cell_type": "code",
   "execution_count": null,
   "id": "5903228b-847d-4d0e-be14-8050c6f4fd9b",
   "metadata": {},
   "outputs": [],
   "source": []
  }
 ],
 "metadata": {
  "kernelspec": {
   "display_name": "Python 3 (ipykernel)",
   "language": "python",
   "name": "python3"
  },
  "language_info": {
   "codemirror_mode": {
    "name": "ipython",
    "version": 3
   },
   "file_extension": ".py",
   "mimetype": "text/x-python",
   "name": "python",
   "nbconvert_exporter": "python",
   "pygments_lexer": "ipython3",
   "version": "3.8.10"
  }
 },
 "nbformat": 4,
 "nbformat_minor": 5
}
