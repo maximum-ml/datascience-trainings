{
 "cells": [
  {
   "cell_type": "markdown",
   "id": "36617b2a-cade-4939-b202-593eccdef896",
   "metadata": {},
   "source": [
    "# Simple Types"
   ]
  },
  {
   "cell_type": "markdown",
   "id": "e0e1acd9-5326-4562-9b9f-30b1e4e8c791",
   "metadata": {},
   "source": [
    "### Int & Float"
   ]
  },
  {
   "cell_type": "code",
   "execution_count": 8,
   "id": "ba31dd46-6bdb-4bb6-8a5b-aafad4bb82c4",
   "metadata": {},
   "outputs": [
    {
     "data": {
      "text/plain": [
       "(10, int)"
      ]
     },
     "execution_count": 8,
     "metadata": {},
     "output_type": "execute_result"
    }
   ],
   "source": [
    "a = 10      # int type\n",
    "a, type(a)"
   ]
  },
  {
   "cell_type": "code",
   "execution_count": 7,
   "id": "52e472e1-8c6a-475e-899b-5f259556031f",
   "metadata": {},
   "outputs": [
    {
     "data": {
      "text/plain": [
       "(2.5, float)"
      ]
     },
     "execution_count": 7,
     "metadata": {},
     "output_type": "execute_result"
    }
   ],
   "source": [
    "b = 2.5     # float type\n",
    "b, type(b)"
   ]
  },
  {
   "cell_type": "code",
   "execution_count": 9,
   "id": "ee57e4b2-2fa5-44c7-9ed0-eb8aea1db494",
   "metadata": {},
   "outputs": [
    {
     "data": {
      "text/plain": [
       "(12.5, float)"
      ]
     },
     "execution_count": 9,
     "metadata": {},
     "output_type": "execute_result"
    }
   ],
   "source": [
    "c = a + b\n",
    "c, type(c)"
   ]
  },
  {
   "cell_type": "code",
   "execution_count": 12,
   "id": "5cbea243-fe50-4c71-8eea-7cb6c602409b",
   "metadata": {},
   "outputs": [
    {
     "data": {
      "text/plain": [
       "(1000000000, int)"
      ]
     },
     "execution_count": 12,
     "metadata": {},
     "output_type": "execute_result"
    }
   ],
   "source": [
    "d = 1_000_000_000\n",
    "d, type(d)"
   ]
  },
  {
   "cell_type": "code",
   "execution_count": 14,
   "id": "2a518f3f-55c3-4ba8-b74b-53b02d1f33e8",
   "metadata": {},
   "outputs": [
    {
     "data": {
      "text/plain": [
       "(3.3333333333333335, float)"
      ]
     },
     "execution_count": 14,
     "metadata": {},
     "output_type": "execute_result"
    }
   ],
   "source": [
    "x = 10 / 3      # floating-point division\n",
    "x, type(x)"
   ]
  },
  {
   "cell_type": "code",
   "execution_count": 16,
   "id": "4f79a75c-9545-44c3-bda5-23171577b857",
   "metadata": {},
   "outputs": [
    {
     "data": {
      "text/plain": [
       "(3, int)"
      ]
     },
     "execution_count": 16,
     "metadata": {},
     "output_type": "execute_result"
    }
   ],
   "source": [
    "x = 10 // 3     # fixed-point division\n",
    "x, type(x)"
   ]
  },
  {
   "cell_type": "markdown",
   "id": "0215bd9d-06d4-4b31-ab79-5654a3f38b5e",
   "metadata": {},
   "source": [
    "### String"
   ]
  },
  {
   "cell_type": "code",
   "execution_count": 11,
   "id": "ae635477-dcf0-4b68-9576-acfe2965394c",
   "metadata": {},
   "outputs": [
    {
     "data": {
      "text/plain": [
       "('10', str)"
      ]
     },
     "execution_count": 11,
     "metadata": {},
     "output_type": "execute_result"
    }
   ],
   "source": [
    "e = \"10\"\n",
    "e, type(e)"
   ]
  },
  {
   "cell_type": "markdown",
   "id": "efa2f810-653b-4a54-a1e1-d1bdfb42022d",
   "metadata": {},
   "source": [
    "### Boolean"
   ]
  },
  {
   "cell_type": "code",
   "execution_count": 20,
   "id": "ec7ea916-effb-4030-9bf5-575d1877d93c",
   "metadata": {},
   "outputs": [],
   "source": [
    "is_true = True\n",
    "is_false = False"
   ]
  },
  {
   "cell_type": "code",
   "execution_count": 23,
   "id": "951bb864-4d36-4ade-beb1-f6dace2a0e22",
   "metadata": {},
   "outputs": [
    {
     "data": {
      "text/plain": [
       "(False, bool)"
      ]
     },
     "execution_count": 23,
     "metadata": {},
     "output_type": "execute_result"
    }
   ],
   "source": [
    "is_equal = a == b\n",
    "is_equal, type(is_equal)"
   ]
  },
  {
   "cell_type": "markdown",
   "id": "571add82-81cb-42ce-a5af-d5ce404e882b",
   "metadata": {},
   "source": [
    "### Other"
   ]
  },
  {
   "cell_type": "code",
   "execution_count": null,
   "id": "6f649fb4-509b-49c8-88c3-b56611ab8d4e",
   "metadata": {},
   "outputs": [],
   "source": [
    "# str\t    Ciąg znaków (niezmienny)\t'Wikipedia' lub \"Wikipedia\"\n",
    "# bytes \tSekwencja bajtów (niezmienna)\tb'Wikipedia' lub b\"Wikipedia\"\n",
    "# list\t    Lista (zmienna, zawartość, długość)\t[4.0, 'string', True]\n",
    "# tuple \tKrotka (niezmienna)\t(4.0, 'string', True)\n",
    "# set\t    Zbiór (zmienny)\t{4.0, 'string', True}\n",
    "# frozenset\tZbiór (niezmienny)\tfrozenset({4.0, 'string', True})\n",
    "# dict\t    Słownik, czyli tablica asocjacyjna (zmienny).\t{'key1': 1.0, 3: False}\n",
    "# int\t    Liczba całkowita o dowolnej wartości\t42\n",
    "# float \tLiczba zmiennoprzecinkowa\t3.1415927\n",
    "# complex\tLiczba zespolona\t3+2.7j\n",
    "# bool\t    Wartość logiczna (prawda lub fałsz)\tTrue / False\n",
    "# NoneType\tObiekt reprezentujący brak wartości, będący odpowiednikiem wartości null w innych językach\tNone"
   ]
  }
 ],
 "metadata": {
  "kernelspec": {
   "display_name": "Python 3 (ipykernel)",
   "language": "python",
   "name": "python3"
  },
  "language_info": {
   "codemirror_mode": {
    "name": "ipython",
    "version": 3
   },
   "file_extension": ".py",
   "mimetype": "text/x-python",
   "name": "python",
   "nbconvert_exporter": "python",
   "pygments_lexer": "ipython3",
   "version": "3.8.10"
  }
 },
 "nbformat": 4,
 "nbformat_minor": 5
}
