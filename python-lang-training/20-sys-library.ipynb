{
 "cells": [
  {
   "cell_type": "markdown",
   "id": "6201bbf0-017e-47de-9091-2ddb0c25a22c",
   "metadata": {},
   "source": [
    "# Sys Library"
   ]
  },
  {
   "cell_type": "code",
   "execution_count": 2,
   "id": "96a6cea1-3c4c-4ea2-92c9-e805c321ae4a",
   "metadata": {},
   "outputs": [],
   "source": [
    "import sys"
   ]
  },
  {
   "cell_type": "code",
   "execution_count": 3,
   "id": "22bae174-467f-4f13-8d27-d8ff033b6e50",
   "metadata": {},
   "outputs": [],
   "source": [
    "my_list = [1, 2, 3, 'ala', 5]\n",
    "my_tuple = (1, 2, 3, 'ala', 5)"
   ]
  },
  {
   "cell_type": "code",
   "execution_count": 4,
   "id": "7e8f1edc-93f2-45ad-8f65-d6cebb5bfeeb",
   "metadata": {},
   "outputs": [
    {
     "name": "stdout",
     "output_type": "stream",
     "text": [
      "96\n"
     ]
    }
   ],
   "source": [
    "print(sys.getsizeof(my_list)) # size in bytes"
   ]
  },
  {
   "cell_type": "code",
   "execution_count": 6,
   "id": "33bd77bd-88a6-4119-a012-6c9062a4e2c1",
   "metadata": {},
   "outputs": [
    {
     "name": "stdout",
     "output_type": "stream",
     "text": [
      "80\n"
     ]
    }
   ],
   "source": [
    "print(sys.getsizeof(my_tuple)) # size in bytes"
   ]
  },
  {
   "cell_type": "code",
   "execution_count": null,
   "id": "69f20398-34a9-47c4-bdf2-8ec75e8e970c",
   "metadata": {},
   "outputs": [],
   "source": []
  }
 ],
 "metadata": {
  "kernelspec": {
   "display_name": "Python 3 (ipykernel)",
   "language": "python",
   "name": "python3"
  },
  "language_info": {
   "codemirror_mode": {
    "name": "ipython",
    "version": 3
   },
   "file_extension": ".py",
   "mimetype": "text/x-python",
   "name": "python",
   "nbconvert_exporter": "python",
   "pygments_lexer": "ipython3",
   "version": "3.9.13"
  }
 },
 "nbformat": 4,
 "nbformat_minor": 5
}
