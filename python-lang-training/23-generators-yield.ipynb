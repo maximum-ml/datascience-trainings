{
 "cells": [
  {
   "cell_type": "markdown",
   "id": "cf8ba7e7-04e3-43d6-b883-c0189c9552df",
   "metadata": {},
   "source": [
    "# Generators (yield keyword)"
   ]
  },
  {
   "cell_type": "markdown",
   "id": "87c6c9f8-c6d3-46fd-b74e-708ff021ff8b",
   "metadata": {},
   "source": [
    "The __yield__ keyword can be used just like the __return__ statement in a function. When done so, the function instead of returning the output value, returns a generator object that can be iterated upon.\n",
    "\n",
    "We can either iterate over the generator (using for or while loops) to get all values or calling next() method to get one element.\n",
    "\n",
    "Each time you iterate, Python runs the code until it encounters a yield statement inside the function. Then, it sends the yielded value and pauses the function in that state without exiting. When the function is invoked the next time, the state at which it was last paused is recalled and execution is continued from that point onwards. This continues until the generator is exhausted.\n",
    "\n",
    "More info: https://www.machinelearningplus.com/python/what-does-yield-keyword-do/\n"
   ]
  },
  {
   "cell_type": "code",
   "execution_count": 1,
   "id": "19251ba8-595e-41b6-bdb1-5954d11f6872",
   "metadata": {},
   "outputs": [],
   "source": [
    "def simple_generator():\n",
    "    x = 1\n",
    "    yield x\n",
    "    yield x + 1\n",
    "    yield x + 2"
   ]
  },
  {
   "cell_type": "code",
   "execution_count": 5,
   "id": "f8a31987-8d11-48b9-ad1a-be4e662edbd5",
   "metadata": {},
   "outputs": [
    {
     "data": {
      "text/plain": [
       "generator"
      ]
     },
     "execution_count": 5,
     "metadata": {},
     "output_type": "execute_result"
    }
   ],
   "source": [
    "generator_object = simple_generator()\n",
    "type(generator_object)"
   ]
  },
  {
   "cell_type": "code",
   "execution_count": 6,
   "id": "b51c4150-16a6-460c-a986-4872d0504eff",
   "metadata": {},
   "outputs": [
    {
     "name": "stdout",
     "output_type": "stream",
     "text": [
      "1\n",
      "2\n",
      "3\n"
     ]
    }
   ],
   "source": [
    "# Now we can iterate through the generator object. But it works only once.\n",
    "for g in generator_object:\n",
    "    print (g)"
   ]
  },
  {
   "cell_type": "code",
   "execution_count": 8,
   "id": "1dab9f8b-6149-453f-9bcb-eca6093a942d",
   "metadata": {},
   "outputs": [
    {
     "name": "stdout",
     "output_type": "stream",
     "text": [
      "1\n",
      "2\n"
     ]
    }
   ],
   "source": [
    "# Now getting values using next() method\n",
    "g2 = simple_generator()\n",
    "print(next(g2))\n",
    "print(next(g2))"
   ]
  },
  {
   "cell_type": "code",
   "execution_count": 10,
   "id": "0e35a0e2-7b89-4ee5-987d-685b151ab196",
   "metadata": {},
   "outputs": [],
   "source": [
    "# len(g2) --> this won't work. (TypeError: object of type 'generator' has no len())"
   ]
  },
  {
   "cell_type": "code",
   "execution_count": null,
   "id": "d4a272eb-4177-4b7b-bef7-193d163a27b9",
   "metadata": {},
   "outputs": [],
   "source": []
  }
 ],
 "metadata": {
  "kernelspec": {
   "display_name": "Python 3 (ipykernel)",
   "language": "python",
   "name": "python3"
  },
  "language_info": {
   "codemirror_mode": {
    "name": "ipython",
    "version": 3
   },
   "file_extension": ".py",
   "mimetype": "text/x-python",
   "name": "python",
   "nbconvert_exporter": "python",
   "pygments_lexer": "ipython3",
   "version": "3.9.7"
  }
 },
 "nbformat": 4,
 "nbformat_minor": 5
}
