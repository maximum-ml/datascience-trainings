{
 "cells": [
  {
   "cell_type": "markdown",
   "id": "39616cab-59a7-49eb-ad4a-597c80f7e8e6",
   "metadata": {},
   "source": [
    "# Operator Overloading"
   ]
  },
  {
   "cell_type": "code",
   "execution_count": 7,
   "id": "15745218-a301-48b4-b298-990fcd2fb9d6",
   "metadata": {},
   "outputs": [],
   "source": [
    "class MyPoint:\n",
    "    def __init__(self, x, y): # constructor\n",
    "        self.x = x\n",
    "        self.y = y\n",
    " \n",
    "    def __add__(self, other): # add operator overloading\n",
    "        return MyPoint(self.x + other.x, self.y + other.y)\n",
    "\n",
    "    def move(self):\n",
    "        print(\"move\")\n",
    "\n",
    "    def draw(self):\n",
    "        print(f\"draw: [{self.x}, {self.y}]\")"
   ]
  },
  {
   "cell_type": "code",
   "execution_count": 8,
   "id": "c2264138-07f8-466c-8be0-4d00890a2d39",
   "metadata": {},
   "outputs": [
    {
     "name": "stdout",
     "output_type": "stream",
     "text": [
      "draw: [1, 2]\n",
      "draw: [3, 5]\n"
     ]
    }
   ],
   "source": [
    "p1 = MyPoint(1, 2)\n",
    "p2 = MyPoint(3, 5)\n",
    "\n",
    "p1.draw()\n",
    "p2.draw()"
   ]
  },
  {
   "cell_type": "code",
   "execution_count": 9,
   "id": "7ac3cb77-e14b-47fe-bce7-ba7b16b30447",
   "metadata": {},
   "outputs": [
    {
     "name": "stdout",
     "output_type": "stream",
     "text": [
      "draw: [4, 7]\n"
     ]
    }
   ],
   "source": [
    "p3 = p1 + p2\n",
    "p3.draw()"
   ]
  },
  {
   "cell_type": "code",
   "execution_count": null,
   "id": "9165d2f8-6c09-46e1-825b-9ec9d562af8f",
   "metadata": {},
   "outputs": [],
   "source": []
  },
  {
   "cell_type": "code",
   "execution_count": null,
   "id": "c93fa71b-6909-44aa-bb29-a2b7811318d8",
   "metadata": {},
   "outputs": [],
   "source": []
  }
 ],
 "metadata": {
  "kernelspec": {
   "display_name": "Python 3 (ipykernel)",
   "language": "python",
   "name": "python3"
  },
  "language_info": {
   "codemirror_mode": {
    "name": "ipython",
    "version": 3
   },
   "file_extension": ".py",
   "mimetype": "text/x-python",
   "name": "python",
   "nbconvert_exporter": "python",
   "pygments_lexer": "ipython3",
   "version": "3.8.10"
  }
 },
 "nbformat": 4,
 "nbformat_minor": 5
}
