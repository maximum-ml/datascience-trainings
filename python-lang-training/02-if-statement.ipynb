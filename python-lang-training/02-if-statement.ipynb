{
 "cells": [
  {
   "cell_type": "markdown",
   "id": "cf7f7ed3-3adb-4748-a703-1f486acfa721",
   "metadata": {},
   "source": [
    "# \"if else\" Statement"
   ]
  },
  {
   "cell_type": "code",
   "execution_count": null,
   "id": "3595b53e-4457-4d11-8876-96821f09e7c9",
   "metadata": {},
   "outputs": [],
   "source": []
  },
  {
   "cell_type": "code",
   "execution_count": null,
   "id": "8646c548-3619-4069-8be1-4252dc25f470",
   "metadata": {},
   "outputs": [],
   "source": []
  }
 ],
 "metadata": {
  "kernelspec": {
   "display_name": "Python 3 (ipykernel)",
   "language": "python",
   "name": "python3"
  },
  "language_info": {
   "codemirror_mode": {
    "name": "ipython",
    "version": 3
   },
   "file_extension": ".py",
   "mimetype": "text/x-python",
   "name": "python",
   "nbconvert_exporter": "python",
   "pygments_lexer": "ipython3",
   "version": "3.8.10"
  }
 },
 "nbformat": 4,
 "nbformat_minor": 5
}
