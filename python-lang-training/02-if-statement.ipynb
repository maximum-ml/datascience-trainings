{
 "cells": [
  {
   "cell_type": "markdown",
   "id": "cf7f7ed3-3adb-4748-a703-1f486acfa721",
   "metadata": {},
   "source": [
    "# \"if else\" Statement"
   ]
  },
  {
   "cell_type": "code",
   "execution_count": 2,
   "id": "3595b53e-4457-4d11-8876-96821f09e7c9",
   "metadata": {},
   "outputs": [
    {
     "name": "stdout",
     "output_type": "stream",
     "text": [
      "100>1\n"
     ]
    }
   ],
   "source": [
    "x = 100\n",
    "if x > 1:\n",
    "    print (f\"{x}>1\")\n",
    "else:\n",
    "    print (f\"{x}<=1\")"
   ]
  },
  {
   "cell_type": "markdown",
   "id": "2d2069ed-ec52-4da4-97e8-f8974744fcc0",
   "metadata": {},
   "source": [
    "### Ternary Operator"
   ]
  },
  {
   "cell_type": "code",
   "execution_count": 2,
   "id": "ca31086d-49e2-4fed-8e44-851ef9730506",
   "metadata": {},
   "outputs": [],
   "source": [
    "t_value = True\n",
    "f_value = False"
   ]
  },
  {
   "cell_type": "code",
   "execution_count": 3,
   "id": "f119f866-1b42-44e2-88a9-e5c7b75bdabe",
   "metadata": {},
   "outputs": [
    {
     "data": {
      "text/plain": [
       "'OK'"
      ]
     },
     "execution_count": 3,
     "metadata": {},
     "output_type": "execute_result"
    }
   ],
   "source": [
    "out1 = \"OK\" if t_value else \"NOT OK\"\n",
    "out1"
   ]
  },
  {
   "cell_type": "code",
   "execution_count": 4,
   "id": "18825f1f-1fac-46f3-a5c7-fbc0286222e9",
   "metadata": {},
   "outputs": [
    {
     "data": {
      "text/plain": [
       "'NOT OK'"
      ]
     },
     "execution_count": 4,
     "metadata": {},
     "output_type": "execute_result"
    }
   ],
   "source": [
    "out2 = \"OK\" if f_value else \"NOT OK\"\n",
    "out2"
   ]
  },
  {
   "cell_type": "code",
   "execution_count": null,
   "id": "1a4337a2-051d-4d9e-ab05-b2689fa3dd46",
   "metadata": {},
   "outputs": [],
   "source": []
  }
 ],
 "metadata": {
  "kernelspec": {
   "display_name": "Python 3 (ipykernel)",
   "language": "python",
   "name": "python3"
  },
  "language_info": {
   "codemirror_mode": {
    "name": "ipython",
    "version": 3
   },
   "file_extension": ".py",
   "mimetype": "text/x-python",
   "name": "python",
   "nbconvert_exporter": "python",
   "pygments_lexer": "ipython3",
   "version": "3.9.13"
  }
 },
 "nbformat": 4,
 "nbformat_minor": 5
}
