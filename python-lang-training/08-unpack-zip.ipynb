{
 "cells": [
  {
   "cell_type": "markdown",
   "id": "826a9ab9-066b-45bf-a3be-05886d7d6706",
   "metadata": {},
   "source": [
    "# Unpack & Zip"
   ]
  },
  {
   "cell_type": "code",
   "execution_count": 2,
   "id": "7f73a099-75ea-4d99-a448-afba0b10b076",
   "metadata": {},
   "outputs": [],
   "source": [
    "numbers = (1, 2, 3)"
   ]
  },
  {
   "cell_type": "code",
   "execution_count": 3,
   "id": "9abad9d0-af9c-4660-b99c-7a35d8aadfaf",
   "metadata": {},
   "outputs": [
    {
     "data": {
      "text/plain": [
       "((1, 2, 3), tuple)"
      ]
     },
     "execution_count": 3,
     "metadata": {},
     "output_type": "execute_result"
    }
   ],
   "source": [
    "numbers, type(numbers)"
   ]
  },
  {
   "cell_type": "markdown",
   "id": "56a95267-ec30-4041-888f-e18ab8e977f3",
   "metadata": {},
   "source": [
    "### Unpacking"
   ]
  },
  {
   "cell_type": "code",
   "execution_count": 5,
   "id": "1b0c84ce-6857-480d-bf21-8f119374a323",
   "metadata": {},
   "outputs": [
    {
     "name": "stdout",
     "output_type": "stream",
     "text": [
      "x=1, y=2, z=3\n"
     ]
    }
   ],
   "source": [
    "x, y, z = numbers   # this is called unpacking, works the same way for arrays\n",
    "print(f'x={x}, y={y}, z={z}')"
   ]
  },
  {
   "cell_type": "code",
   "execution_count": 6,
   "id": "7a9505a4-6011-4f60-8e7f-63edfa57807b",
   "metadata": {},
   "outputs": [
    {
     "name": "stdout",
     "output_type": "stream",
     "text": [
      "a= 10\n",
      "b= 20\n",
      "c= 30\n"
     ]
    }
   ],
   "source": [
    "a, b, c = 10, 20, 30\n",
    "print(\"a=\", a)\n",
    "print(\"b=\", b)\n",
    "print(\"c=\", c)"
   ]
  },
  {
   "cell_type": "code",
   "execution_count": 15,
   "id": "2ed48b4b-8ac4-4e5c-9aa7-d1d9a3c6f810",
   "metadata": {},
   "outputs": [
    {
     "name": "stdout",
     "output_type": "stream",
     "text": [
      "aa= 10\n",
      "bb= [20, 30]\n"
     ]
    }
   ],
   "source": [
    "aa, *bb = 10, 20, 30    # unpacking\n",
    "print(\"aa=\", aa)\n",
    "print(\"bb=\", bb)"
   ]
  },
  {
   "cell_type": "markdown",
   "id": "bf0669f5-ad9d-41c8-b8cb-6b136dbf9fe0",
   "metadata": {},
   "source": [
    "### Unpacking in the Loop"
   ]
  },
  {
   "cell_type": "code",
   "execution_count": 20,
   "id": "16de2033-97fb-4549-86e4-d1758d89c4ce",
   "metadata": {},
   "outputs": [],
   "source": [
    "x = [(1, 2), (3, 4), (5, 6), (7, 8)]"
   ]
  },
  {
   "cell_type": "code",
   "execution_count": 21,
   "id": "bf6df28b-c2de-4b4b-91e3-a8577b7caa5a",
   "metadata": {},
   "outputs": [
    {
     "data": {
      "text/plain": [
       "(1, 2)"
      ]
     },
     "execution_count": 21,
     "metadata": {},
     "output_type": "execute_result"
    }
   ],
   "source": [
    "elem1 = x[0][0]\n",
    "elem2 = x[0][1]\n",
    "elem1, elem2"
   ]
  },
  {
   "cell_type": "code",
   "execution_count": 22,
   "id": "974f98cd-8848-4e2f-a4e2-168801856f9b",
   "metadata": {},
   "outputs": [
    {
     "name": "stdout",
     "output_type": "stream",
     "text": [
      "a=1, b=2\n",
      "a=3, b=4\n",
      "a=5, b=6\n",
      "a=7, b=8\n"
     ]
    }
   ],
   "source": [
    "for a, b in x:      # or for (a, b) in x:\n",
    "    print(f'a={a}, b={b}')"
   ]
  },
  {
   "cell_type": "markdown",
   "id": "d5f5199f-c532-41f2-8e29-5e3b0deb8e3b",
   "metadata": {},
   "source": [
    "### Zip"
   ]
  },
  {
   "cell_type": "code",
   "execution_count": 23,
   "id": "9b9c75a1-83ad-4d5c-9069-e7f4fcfd4215",
   "metadata": {},
   "outputs": [],
   "source": [
    "a = (\"John\", \"Charles\", \"Mike\")\n",
    "b = (\"Jenny\", \"Christy\", \"Monica\", \"Vicky\", \"Tom\")"
   ]
  },
  {
   "cell_type": "code",
   "execution_count": 13,
   "id": "ef686044-6f68-4193-9530-263f2a82f6eb",
   "metadata": {},
   "outputs": [
    {
     "data": {
      "text/plain": [
       "<zip at 0x7fc6e9b8cc40>"
      ]
     },
     "execution_count": 13,
     "metadata": {},
     "output_type": "execute_result"
    }
   ],
   "source": [
    "z = zip(a, b)       # - pair elemennts from the collections as a zip - one by one, stops when the sorter finishes\n",
    "z"
   ]
  },
  {
   "cell_type": "code",
   "execution_count": 14,
   "id": "42ed113a-520e-4a1f-80ac-40bca9890b1b",
   "metadata": {},
   "outputs": [
    {
     "name": "stdout",
     "output_type": "stream",
     "text": [
      "zi=('John', 'Jenny')\n",
      "zi=('Charles', 'Christy')\n",
      "zi=('Mike', 'Monica')\n"
     ]
    }
   ],
   "source": [
    "for i in z:\n",
    "    print(f'zi={i}')"
   ]
  },
  {
   "cell_type": "code",
   "execution_count": null,
   "id": "56005ccc-b876-4f0f-a48b-577403af694a",
   "metadata": {},
   "outputs": [],
   "source": []
  }
 ],
 "metadata": {
  "kernelspec": {
   "display_name": "Python 3 (ipykernel)",
   "language": "python",
   "name": "python3"
  },
  "language_info": {
   "codemirror_mode": {
    "name": "ipython",
    "version": 3
   },
   "file_extension": ".py",
   "mimetype": "text/x-python",
   "name": "python",
   "nbconvert_exporter": "python",
   "pygments_lexer": "ipython3",
   "version": "3.9.7"
  }
 },
 "nbformat": 4,
 "nbformat_minor": 5
}
