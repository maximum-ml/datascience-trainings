{
 "cells": [
  {
   "cell_type": "markdown",
   "id": "84fb46ff-4c94-4f4d-a0fa-8b2038b9d840",
   "metadata": {},
   "source": [
    "# Decorators"
   ]
  },
  {
   "cell_type": "code",
   "execution_count": 1,
   "id": "7541b4d9-e583-4c7c-97fc-72b316cbd116",
   "metadata": {},
   "outputs": [],
   "source": [
    "# Dekoratory to coś zbliżonego do adnotacji w Javie\n",
    "# Dekoratory to zwykłe funkcje które zmieniają zachowanie funkcji dekorowanych"
   ]
  },
  {
   "cell_type": "markdown",
   "id": "909e0bd2-a983-4dca-ac03-86d9abc6a2b4",
   "metadata": {},
   "source": [
    "### Example "
   ]
  },
  {
   "cell_type": "raw",
   "id": "b3c0e5d9-c4a8-4f2a-85e9-3abfbed7f1b2",
   "metadata": {},
   "source": [
    "(points indicate the logical flow)"
   ]
  },
  {
   "cell_type": "code",
   "execution_count": 3,
   "id": "800c3827-24ca-4c21-ad2c-b52b93e40db4",
   "metadata": {},
   "outputs": [],
   "source": [
    "# 3. Define the decorator function\n",
    "def dec(function):\n",
    "\n",
    "    def inner(list_of_arguments):\n",
    "        return [function(item) for item in list_of_arguments]\n",
    "\n",
    "    return inner"
   ]
  },
  {
   "cell_type": "code",
   "execution_count": 5,
   "id": "61695353-82d1-461e-9439-76adf9d5038c",
   "metadata": {},
   "outputs": [],
   "source": [
    "# 2. We want to be able to call the base function also for list of str arguments\n",
    "@dec\n",
    "# 1. The base function\n",
    "def camelcase(input):\n",
    "\n",
    "    \" turn 'string_like_this' into 'StringLikeThis' \"\n",
    "\n",
    "    return ''.join([word.capitalize() for word in input.split('_')])"
   ]
  },
  {
   "cell_type": "code",
   "execution_count": 7,
   "id": "2754e299-6618-4374-ab7e-4ab8732878b5",
   "metadata": {},
   "outputs": [
    {
     "data": {
      "text/plain": [
       "['A', 'L', 'A', '', 'M', 'A', '', 'K', 'O', 'T', 'A']"
      ]
     },
     "execution_count": 7,
     "metadata": {},
     "output_type": "execute_result"
    }
   ],
   "source": [
    "out = camelcase('ala_ma_kota')\n",
    "out"
   ]
  },
  {
   "cell_type": "code",
   "execution_count": 8,
   "id": "1e54a3f7-0ace-4d78-8f71-1a519a75fe36",
   "metadata": {},
   "outputs": [
    {
     "data": {
      "text/plain": [
       "['AlaMaKota', 'UlaMaPsa']"
      ]
     },
     "execution_count": 8,
     "metadata": {},
     "output_type": "execute_result"
    }
   ],
   "source": [
    "out = camelcase(['ala_ma_kota', 'ula_ma_psa'])\n",
    "out"
   ]
  },
  {
   "cell_type": "code",
   "execution_count": 9,
   "id": "cff732b4-84fd-4a8e-9ffb-3f34f988e4f9",
   "metadata": {},
   "outputs": [],
   "source": [
    "# Hmmm something is not working as it should... (#TODO)"
   ]
  },
  {
   "cell_type": "code",
   "execution_count": null,
   "id": "ff08c950-bf03-4682-856c-fe27691666d8",
   "metadata": {},
   "outputs": [],
   "source": []
  }
 ],
 "metadata": {
  "kernelspec": {
   "display_name": "Python 3 (ipykernel)",
   "language": "python",
   "name": "python3"
  },
  "language_info": {
   "codemirror_mode": {
    "name": "ipython",
    "version": 3
   },
   "file_extension": ".py",
   "mimetype": "text/x-python",
   "name": "python",
   "nbconvert_exporter": "python",
   "pygments_lexer": "ipython3",
   "version": "3.9.7"
  }
 },
 "nbformat": 4,
 "nbformat_minor": 5
}
