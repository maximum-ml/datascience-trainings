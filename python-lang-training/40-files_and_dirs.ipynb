{
 "cells": [
  {
   "cell_type": "markdown",
   "id": "79f9e4de-b595-4138-b666-46ff855b6c95",
   "metadata": {},
   "source": [
    "# Work with files and directories"
   ]
  },
  {
   "cell_type": "code",
   "execution_count": 7,
   "id": "9ed132dc-c177-4ff0-9a1d-a1ba28854c57",
   "metadata": {},
   "outputs": [],
   "source": [
    "import os "
   ]
  },
  {
   "cell_type": "markdown",
   "id": "8da78fc6-a061-4ace-9a0b-828fbc953dcb",
   "metadata": {},
   "source": [
    "### Check if directory is empty"
   ]
  },
  {
   "cell_type": "code",
   "execution_count": null,
   "id": "e532c08c-690d-4476-961a-771e472aa698",
   "metadata": {},
   "outputs": [],
   "source": [
    "dir_name = '/home'\n",
    "\n",
    "if len(os.listdir(dir_name)) == 0:\n",
    "    print ('Directory [' + dir_name + '] is empty.')\n",
    "else :\n",
    "    print ('Directory [' + dir_name + '] is NOT empty.')"
   ]
  }
 ],
 "metadata": {
  "kernelspec": {
   "display_name": "Python 3 (ipykernel)",
   "language": "python",
   "name": "python3"
  },
  "language_info": {
   "codemirror_mode": {
    "name": "ipython",
    "version": 3
   },
   "file_extension": ".py",
   "mimetype": "text/x-python",
   "name": "python",
   "nbconvert_exporter": "python",
   "pygments_lexer": "ipython3",
   "version": "3.8.10"
  }
 },
 "nbformat": 4,
 "nbformat_minor": 5
}
