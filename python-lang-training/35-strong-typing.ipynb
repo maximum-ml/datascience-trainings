{
 "cells": [
  {
   "cell_type": "markdown",
   "id": "67ce4c61-d23c-4732-870b-96a4ec3be9cf",
   "metadata": {},
   "source": [
    "# Strong Typing - my[py]"
   ]
  },
  {
   "cell_type": "raw",
   "id": "13e89352-512c-4d69-8090-6befd9887cdf",
   "metadata": {},
   "source": [
    "https://mypy.readthedocs.io/en/stable/getting_started.html"
   ]
  },
  {
   "cell_type": "code",
   "execution_count": null,
   "id": "413e910c-4c36-463e-9f6c-130ebb8fceb1",
   "metadata": {},
   "outputs": [],
   "source": []
  }
 ],
 "metadata": {
  "kernelspec": {
   "display_name": "Python 3 (ipykernel)",
   "language": "python",
   "name": "python3"
  },
  "language_info": {
   "codemirror_mode": {
    "name": "ipython",
    "version": 3
   },
   "file_extension": ".py",
   "mimetype": "text/x-python",
   "name": "python",
   "nbconvert_exporter": "python",
   "pygments_lexer": "ipython3",
   "version": "3.9.13"
  }
 },
 "nbformat": 4,
 "nbformat_minor": 5
}
