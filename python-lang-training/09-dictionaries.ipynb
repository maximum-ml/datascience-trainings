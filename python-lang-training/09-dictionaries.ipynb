{
 "cells": [
  {
   "cell_type": "markdown",
   "id": "f6247038-7ec5-4257-9bdc-cc8856eb6bd9",
   "metadata": {},
   "source": [
    "# Dictionaries\n",
    "\n",
    "(a dictionary represents a map)"
   ]
  },
  {
   "cell_type": "markdown",
   "id": "582727ee-a306-47c0-8a4f-26cb789d8567",
   "metadata": {},
   "source": [
    "## Create a dictionary"
   ]
  },
  {
   "cell_type": "code",
   "execution_count": 1,
   "id": "7f361393-7752-4661-9aaf-42d0debeee62",
   "metadata": {},
   "outputs": [
    {
     "data": {
      "text/plain": [
       "{'a': 1, 'b': 2, 'c': 3}"
      ]
     },
     "execution_count": 1,
     "metadata": {},
     "output_type": "execute_result"
    }
   ],
   "source": [
    "d = {\n",
    "    \"a\" : 1,\n",
    "    \"b\" : 2,\n",
    "    \"c\" : 3\n",
    "}\n",
    "d"
   ]
  },
  {
   "cell_type": "code",
   "execution_count": 2,
   "id": "d010af60-cdf5-42bf-b8d7-6437c39ae333",
   "metadata": {},
   "outputs": [
    {
     "data": {
      "text/plain": [
       "dict"
      ]
     },
     "execution_count": 2,
     "metadata": {},
     "output_type": "execute_result"
    }
   ],
   "source": [
    "type(d)"
   ]
  },
  {
   "cell_type": "markdown",
   "id": "6e31b6e3-e1a0-4d9e-b955-3af3c1a285c2",
   "metadata": {},
   "source": [
    "## Get element"
   ]
  },
  {
   "cell_type": "code",
   "execution_count": 3,
   "id": "dfe93fd0-26a4-485f-a3ab-8883f6d8dd4b",
   "metadata": {},
   "outputs": [
    {
     "data": {
      "text/plain": [
       "1"
      ]
     },
     "execution_count": 3,
     "metadata": {},
     "output_type": "execute_result"
    }
   ],
   "source": [
    "element = d['a']\n",
    "element"
   ]
  },
  {
   "cell_type": "code",
   "execution_count": 4,
   "id": "7f1f6948-d5fb-478c-be6b-6cfe4ab97fbc",
   "metadata": {},
   "outputs": [
    {
     "data": {
      "text/plain": [
       "1"
      ]
     },
     "execution_count": 4,
     "metadata": {},
     "output_type": "execute_result"
    }
   ],
   "source": [
    "element = d.get('a')\n",
    "element"
   ]
  },
  {
   "cell_type": "code",
   "execution_count": 5,
   "id": "4f3c480b-628f-42cd-a187-c5db10285e05",
   "metadata": {},
   "outputs": [
    {
     "ename": "KeyError",
     "evalue": "'x'",
     "output_type": "error",
     "traceback": [
      "\u001b[0;31m---------------------------------------------------------------------------\u001b[0m",
      "\u001b[0;31mKeyError\u001b[0m                                  Traceback (most recent call last)",
      "Input \u001b[0;32mIn [5]\u001b[0m, in \u001b[0;36m<cell line: 1>\u001b[0;34m()\u001b[0m\n\u001b[0;32m----> 1\u001b[0m element \u001b[38;5;241m=\u001b[39m \u001b[43md\u001b[49m\u001b[43m[\u001b[49m\u001b[38;5;124;43m'\u001b[39;49m\u001b[38;5;124;43mx\u001b[39;49m\u001b[38;5;124;43m'\u001b[39;49m\u001b[43m]\u001b[49m \u001b[38;5;66;03m# this will throw exception, so we must check first if element is present\u001b[39;00m\n\u001b[1;32m      2\u001b[0m element\n",
      "\u001b[0;31mKeyError\u001b[0m: 'x'"
     ]
    }
   ],
   "source": [
    "element = d['x'] # this will throw exception, so we must check first if element is present\n",
    "element"
   ]
  },
  {
   "cell_type": "code",
   "execution_count": null,
   "id": "22e3c7fa-68c2-431e-ac91-018937e388ce",
   "metadata": {},
   "outputs": [],
   "source": []
  },
  {
   "cell_type": "markdown",
   "id": "f28f3b43-7ea4-42b1-af61-cf8e75af071f",
   "metadata": {},
   "source": [
    "## Get all "
   ]
  },
  {
   "cell_type": "code",
   "execution_count": 6,
   "id": "2ca73fcf-4818-42a6-87bb-65b31fe9dad6",
   "metadata": {},
   "outputs": [
    {
     "data": {
      "text/plain": [
       "dict_keys(['a', 'b', 'c'])"
      ]
     },
     "execution_count": 6,
     "metadata": {},
     "output_type": "execute_result"
    }
   ],
   "source": [
    "keys = d.keys()\n",
    "keys"
   ]
  },
  {
   "cell_type": "code",
   "execution_count": 7,
   "id": "0b97d5d2-e1c7-4f28-9f5a-bfafe5279b2f",
   "metadata": {},
   "outputs": [
    {
     "data": {
      "text/plain": [
       "['a', 'b', 'c']"
      ]
     },
     "execution_count": 7,
     "metadata": {},
     "output_type": "execute_result"
    }
   ],
   "source": [
    "list(d.keys())"
   ]
  },
  {
   "cell_type": "markdown",
   "id": "021acb17-2603-4736-b9ca-8db8d77dd127",
   "metadata": {},
   "source": [
    "## Add element"
   ]
  },
  {
   "cell_type": "code",
   "execution_count": 8,
   "id": "dced7ac1-ca56-4db6-8811-3cbcda927f77",
   "metadata": {},
   "outputs": [
    {
     "data": {
      "text/plain": [
       "{'a': 1, 'b': 2, 'c': 3, 'd': 4}"
      ]
     },
     "execution_count": 8,
     "metadata": {},
     "output_type": "execute_result"
    }
   ],
   "source": [
    "d['d'] = 4\n",
    "d"
   ]
  },
  {
   "cell_type": "markdown",
   "id": "259bb070-0de3-40e6-93d2-a67735166fc0",
   "metadata": {},
   "source": [
    "### Merge two dictionaries"
   ]
  },
  {
   "cell_type": "code",
   "execution_count": 10,
   "id": "3c742b20-cbd3-4062-9249-26718ac4040d",
   "metadata": {},
   "outputs": [
    {
     "data": {
      "text/plain": [
       "{'a': 1, 'b': 2, 'c': 5, 'd': 6, 'e': 7}"
      ]
     },
     "execution_count": 10,
     "metadata": {},
     "output_type": "execute_result"
    }
   ],
   "source": [
    "d1 = {\"a\" : 1, \"b\" : 2, \"c\" : 3}\n",
    "d2 = {\"c\" : 5, \"d\" : 6, \"e\" : 7}\n",
    "d1.update(d2) # this will override elements from d1 (c = 5)\n",
    "d1"
   ]
  },
  {
   "cell_type": "code",
   "execution_count": 12,
   "id": "a90958d9-4a1d-4556-850e-964af68c04fb",
   "metadata": {},
   "outputs": [
    {
     "data": {
      "text/plain": [
       "{'c': 3, 'd': 6, 'e': 7, 'a': 1, 'b': 2}"
      ]
     },
     "execution_count": 12,
     "metadata": {},
     "output_type": "execute_result"
    }
   ],
   "source": [
    "d1 = {\"a\" : 1, \"b\" : 2, \"c\" : 3}\n",
    "d2 = {\"c\" : 5, \"d\" : 6, \"e\" : 7}\n",
    "d2.update(d1)\n",
    "d2"
   ]
  },
  {
   "cell_type": "code",
   "execution_count": 14,
   "id": "99b89f8f-782e-40db-bfb5-d8589b1f394a",
   "metadata": {},
   "outputs": [
    {
     "data": {
      "text/plain": [
       "{'a': 1, 'b': 2, 'c': 5, 'd': 6, 'e': 7}"
      ]
     },
     "execution_count": 14,
     "metadata": {},
     "output_type": "execute_result"
    }
   ],
   "source": [
    "# From Puthon 3.5\n",
    "d1 = {\"a\" : 1, \"b\" : 2, \"c\" : 3}\n",
    "d2 = {\"c\" : 5, \"d\" : 6, \"e\" : 7}\n",
    "d = {**d1, **d2} # the order matters\n",
    "d"
   ]
  },
  {
   "cell_type": "code",
   "execution_count": null,
   "id": "d2493daa-27bb-42ce-b688-cdb4678b779e",
   "metadata": {},
   "outputs": [],
   "source": []
  },
  {
   "cell_type": "markdown",
   "id": "2f036171-1a9c-485b-9ed2-1ec0a487429c",
   "metadata": {},
   "source": [
    "## Change element"
   ]
  },
  {
   "cell_type": "code",
   "execution_count": 17,
   "id": "0d7842b3-86fd-498c-ac55-97a6cc78649b",
   "metadata": {},
   "outputs": [
    {
     "data": {
      "text/plain": [
       "{'a': 10, 'b': 2, 'c': 3}"
      ]
     },
     "execution_count": 17,
     "metadata": {},
     "output_type": "execute_result"
    }
   ],
   "source": [
    "d['a'] = 10\n",
    "d"
   ]
  },
  {
   "cell_type": "markdown",
   "id": "04f3c702-76f8-42c6-b98b-0f5b41c66449",
   "metadata": {},
   "source": [
    "## Remove element"
   ]
  },
  {
   "cell_type": "code",
   "execution_count": 19,
   "id": "e19dd375-3939-4325-8284-96eb98aa4c70",
   "metadata": {},
   "outputs": [
    {
     "name": "stdout",
     "output_type": "stream",
     "text": [
      "removed_element 4\n"
     ]
    },
    {
     "data": {
      "text/plain": [
       "{'a': 10, 'b': 2, 'c': 3}"
      ]
     },
     "execution_count": 19,
     "metadata": {},
     "output_type": "execute_result"
    }
   ],
   "source": [
    "# using pop() method\n",
    "removed_element = d.pop('d');\n",
    "print('removed_element', removed_element)\n",
    "d"
   ]
  },
  {
   "cell_type": "code",
   "execution_count": 28,
   "id": "4f165b22-3a0a-430c-b262-4e0a29f035af",
   "metadata": {},
   "outputs": [
    {
     "data": {
      "text/plain": [
       "{'a': [10, 100], 'b': [20], 'c': [30]}"
      ]
     },
     "execution_count": 28,
     "metadata": {},
     "output_type": "execute_result"
    }
   ],
   "source": [
    "# using del\n",
    "d['d'] = 100\n",
    "del d['d']\n",
    "d"
   ]
  },
  {
   "cell_type": "markdown",
   "id": "7f1da398-29fe-457e-8578-7653493bb0e4",
   "metadata": {},
   "source": [
    "## Multimap"
   ]
  },
  {
   "cell_type": "code",
   "execution_count": 29,
   "id": "b5bf98fe-a4b9-4673-9351-30359f6c44a6",
   "metadata": {},
   "outputs": [
    {
     "data": {
      "text/plain": [
       "{'a': [10, 100], 'b': [20], 'c': [30]}"
      ]
     },
     "execution_count": 29,
     "metadata": {},
     "output_type": "execute_result"
    }
   ],
   "source": [
    "\n",
    "d = {'a': [10], 'b': [20], 'c': [30]}\n",
    "\n",
    "key = 'a'\n",
    "val = 100\n",
    "\n",
    "d.setdefault(key, []).append(val)\n",
    "d"
   ]
  },
  {
   "cell_type": "code",
   "execution_count": 27,
   "id": "54637d77-cdad-412b-a8a1-dda4650d6bbe",
   "metadata": {},
   "outputs": [
    {
     "data": {
      "text/plain": [
       "{'a': [10, 100], 'b': [20], 'c': [30], 'd': [40]}"
      ]
     },
     "execution_count": 27,
     "metadata": {},
     "output_type": "execute_result"
    }
   ],
   "source": [
    "key = 'd'\n",
    "val = 40\n",
    "\n",
    "d.setdefault(key, []).append(val)\n",
    "d"
   ]
  },
  {
   "cell_type": "code",
   "execution_count": null,
   "id": "5903228b-847d-4d0e-be14-8050c6f4fd9b",
   "metadata": {},
   "outputs": [],
   "source": []
  }
 ],
 "metadata": {
  "kernelspec": {
   "display_name": "Python 3 (ipykernel)",
   "language": "python",
   "name": "python3"
  },
  "language_info": {
   "codemirror_mode": {
    "name": "ipython",
    "version": 3
   },
   "file_extension": ".py",
   "mimetype": "text/x-python",
   "name": "python",
   "nbconvert_exporter": "python",
   "pygments_lexer": "ipython3",
   "version": "3.9.13"
  }
 },
 "nbformat": 4,
 "nbformat_minor": 5
}
