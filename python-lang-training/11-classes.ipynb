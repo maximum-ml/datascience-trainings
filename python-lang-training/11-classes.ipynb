{
 "cells": [
  {
   "cell_type": "markdown",
   "id": "ce10fb5b-fd2a-4d7d-a06f-58c113274c9e",
   "metadata": {},
   "source": [
    "# Classes"
   ]
  },
  {
   "cell_type": "markdown",
   "id": "3e309e94-72fa-446e-a8fc-d5d943acef7b",
   "metadata": {},
   "source": [
    "### Creating Classes and Objects"
   ]
  },
  {
   "cell_type": "code",
   "execution_count": 1,
   "id": "416e9b9a-df76-49fd-86c0-b5e9741d142e",
   "metadata": {},
   "outputs": [],
   "source": [
    "# Class definition\n",
    "class Point:\n",
    "    def __init__(self): # constructor, 'self' is not a reserve keyword, only convention, it can be any other name\n",
    "        print(\"init\")\n",
    "    def move(self):     # method\n",
    "        print(\"move\")\n",
    "    def draw(self):\n",
    "        print(\"draw\")"
   ]
  },
  {
   "cell_type": "code",
   "execution_count": 2,
   "id": "f24c983e-726e-4d1f-9a1b-42210c6e86ef",
   "metadata": {},
   "outputs": [
    {
     "name": "stdout",
     "output_type": "stream",
     "text": [
      "init\n",
      "draw\n"
     ]
    }
   ],
   "source": [
    "# Creating instance of a class\n",
    "point1 = Point()\n",
    "point1.draw()"
   ]
  },
  {
   "cell_type": "code",
   "execution_count": 3,
   "id": "d4742778-d67b-4757-adf6-4d3b3f640bd5",
   "metadata": {},
   "outputs": [
    {
     "name": "stdout",
     "output_type": "stream",
     "text": [
      "Type of object: <class '__main__.Point'>\n",
      "Type of Class: <class 'type'>\n"
     ]
    }
   ],
   "source": [
    "print(f'Type of object: {type(point1)}')\n",
    "print(f'Type of Class: {type(Point)}')  # klasa w Pythonie jest typu 'type'"
   ]
  },
  {
   "cell_type": "markdown",
   "id": "c3c621ee-ccbc-4754-979b-daefd0323cab",
   "metadata": {},
   "source": [
    "### Modifing Classes"
   ]
  },
  {
   "cell_type": "code",
   "execution_count": 4,
   "id": "d12d2971-80ea-4300-96e8-18896269387b",
   "metadata": {},
   "outputs": [],
   "source": [
    " # it's possible to assign value to a non-existing attribute (in that way we create for the one particular object)\n",
    "point1.x = 10      \n",
    "point1.y = 20"
   ]
  },
  {
   "cell_type": "code",
   "execution_count": 5,
   "id": "80a9ba1a-60d7-4be3-9010-52be8b396ea4",
   "metadata": {},
   "outputs": [
    {
     "data": {
      "text/plain": [
       "(10, 20)"
      ]
     },
     "execution_count": 5,
     "metadata": {},
     "output_type": "execute_result"
    }
   ],
   "source": [
    "point1.x, point1.y"
   ]
  },
  {
   "cell_type": "code",
   "execution_count": 6,
   "id": "17bc4a4f-3c38-4432-bce9-ffb946af135d",
   "metadata": {},
   "outputs": [],
   "source": [
    "#point1.z # this will won't work -> AttributeError: 'Point' object has no attribute 'z'"
   ]
  },
  {
   "cell_type": "markdown",
   "id": "d16a2b8e-f8fc-4f91-858b-da4acf6db0aa",
   "metadata": {},
   "source": [
    "### Empty Class "
   ]
  },
  {
   "cell_type": "markdown",
   "id": "b4c5c1e9-e11d-4a94-8452-a1b474b22aec",
   "metadata": {},
   "source": [
    "Three ways to define a new class"
   ]
  },
  {
   "cell_type": "code",
   "execution_count": 10,
   "id": "f9d292e9-ee6a-4c38-9cb4-27ff25f6def8",
   "metadata": {},
   "outputs": [],
   "source": [
    "class EmptyClass1:\n",
    "    pass   # this is to make code compile (pass - means do nothing)"
   ]
  },
  {
   "cell_type": "code",
   "execution_count": 8,
   "id": "58bbf33a-800f-48f5-a52d-61b111efa8a2",
   "metadata": {},
   "outputs": [],
   "source": [
    "class EmptyClass2():\n",
    "    pass   # this is to make code compile (pass - means do nothing)"
   ]
  },
  {
   "cell_type": "code",
   "execution_count": 11,
   "id": "65b81db7-b0ad-4feb-bef5-e53219eedbe3",
   "metadata": {},
   "outputs": [],
   "source": [
    "class EmptyClass3(object):\n",
    "    pass   # this is to make code compile (pass - means do nothing)"
   ]
  },
  {
   "cell_type": "code",
   "execution_count": 12,
   "id": "d661c92e-efa9-4035-8a98-431721e87238",
   "metadata": {},
   "outputs": [
    {
     "name": "stdout",
     "output_type": "stream",
     "text": [
      "<class 'object'>\n"
     ]
    }
   ],
   "source": [
    "print(object)"
   ]
  },
  {
   "cell_type": "code",
   "execution_count": null,
   "id": "a525b5ce-180f-4ad3-ac92-4a23125923dc",
   "metadata": {},
   "outputs": [],
   "source": []
  },
  {
   "cell_type": "code",
   "execution_count": 8,
   "id": "2ec52343-084e-44a5-8b37-d0c53b0c9747",
   "metadata": {},
   "outputs": [],
   "source": [
    "class MyPoint:\n",
    "    def __init__(self, x, y): # constructor, 'self' has to be always on the first positionS\n",
    "        self.x = x\n",
    "        self.y = y\n",
    "\n",
    "    def move(self):\n",
    "        print(\"move\")\n",
    "\n",
    "    def draw(self):\n",
    "        print(f\"draw: [{self.x}, {self.y}]\")"
   ]
  },
  {
   "cell_type": "code",
   "execution_count": 9,
   "id": "b7730e92-b4c9-4174-afc1-0a18f1222818",
   "metadata": {},
   "outputs": [
    {
     "name": "stdout",
     "output_type": "stream",
     "text": [
      "draw: [10, 50]\n"
     ]
    }
   ],
   "source": [
    "myPoint = MyPoint(10, 50)\n",
    "myPoint.draw()"
   ]
  },
  {
   "cell_type": "markdown",
   "id": "2d4e0c2d-03e6-4c41-a167-0c5ef57bfaea",
   "metadata": {},
   "source": [
    "### Inheritance"
   ]
  },
  {
   "cell_type": "code",
   "execution_count": 11,
   "id": "34687eb0-5d80-4e36-8e78-0e8a96fb0463",
   "metadata": {},
   "outputs": [],
   "source": [
    "class Animal:\n",
    "    def walk(self):\n",
    "        print(\"walk...\")\n",
    "\n",
    "class Dog(Animal):\n",
    "    def bark(self):\n",
    "        print(\"bark bark\")\n"
   ]
  },
  {
   "cell_type": "code",
   "execution_count": 12,
   "id": "c33ec2f6-4db6-4b06-b884-6650117e826f",
   "metadata": {},
   "outputs": [
    {
     "name": "stdout",
     "output_type": "stream",
     "text": [
      "bark bark\n",
      "walk...\n"
     ]
    }
   ],
   "source": [
    "dog = Dog()\n",
    "dog.bark()\n",
    "dog.walk()"
   ]
  },
  {
   "cell_type": "markdown",
   "id": "edc44047-83cf-4922-9c16-df915056e1b0",
   "metadata": {},
   "source": [
    "### Inheritance with explicit constructor call"
   ]
  },
  {
   "cell_type": "code",
   "execution_count": 19,
   "id": "2c466832-11dd-447a-9f8b-6840198e00e3",
   "metadata": {},
   "outputs": [],
   "source": [
    "class Animal:\n",
    "    \n",
    "    # name = None # this is not needed\n",
    "    \n",
    "    def __init__(self, name): # constructor, 'self' is not a reserve keyword, only convention, it can be any other name\n",
    "        self.name = name\n",
    "        print(f\"animal init[{name}]\")\n",
    "\n",
    "    def get_name(self):\n",
    "        print(f\"Name={self.name}\")\n",
    "\n",
    "        \n",
    "class Dog(Animal):\n",
    "    def __init__(self, name):\n",
    "        super(Dog, self).__init__(name) # quite strange construct!!!\n",
    "        print(f\"dog init[{name}]\")\n",
    "        \n",
    "    def bark(self):\n",
    "        print(\"bark bark\")"
   ]
  },
  {
   "cell_type": "code",
   "execution_count": 20,
   "id": "ce13c676-010e-4af1-8fd4-dd6cc74cfc94",
   "metadata": {},
   "outputs": [
    {
     "name": "stdout",
     "output_type": "stream",
     "text": [
      "animal init[rex]\n",
      "dog init[rex]\n"
     ]
    }
   ],
   "source": [
    "dog = Dog('rex')"
   ]
  },
  {
   "cell_type": "code",
   "execution_count": null,
   "id": "e7b452da-9847-44cc-b298-e3e173985449",
   "metadata": {},
   "outputs": [],
   "source": []
  }
 ],
 "metadata": {
  "kernelspec": {
   "display_name": "Python 3 (ipykernel)",
   "language": "python",
   "name": "python3"
  },
  "language_info": {
   "codemirror_mode": {
    "name": "ipython",
    "version": 3
   },
   "file_extension": ".py",
   "mimetype": "text/x-python",
   "name": "python",
   "nbconvert_exporter": "python",
   "pygments_lexer": "ipython3",
   "version": "3.9.13"
  }
 },
 "nbformat": 4,
 "nbformat_minor": 5
}
