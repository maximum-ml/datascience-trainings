{
 "cells": [
  {
   "cell_type": "markdown",
   "id": "ce10fb5b-fd2a-4d7d-a06f-58c113274c9e",
   "metadata": {},
   "source": [
    "# Classes"
   ]
  },
  {
   "cell_type": "markdown",
   "id": "3e309e94-72fa-446e-a8fc-d5d943acef7b",
   "metadata": {},
   "source": [
    "### Creating Classes and Objects"
   ]
  },
  {
   "cell_type": "code",
   "execution_count": 2,
   "id": "416e9b9a-df76-49fd-86c0-b5e9741d142e",
   "metadata": {},
   "outputs": [],
   "source": [
    "# Class definition\n",
    "class Point:\n",
    "    def __init__(self): # constructor, 'self' is not a reserve keyword, only convention, it can be any other name\n",
    "        print(\"init\")\n",
    "    def move(self):     # method\n",
    "        print(\"move\")\n",
    "    def draw(self):\n",
    "        print(\"draw\")"
   ]
  },
  {
   "cell_type": "code",
   "execution_count": 3,
   "id": "f24c983e-726e-4d1f-9a1b-42210c6e86ef",
   "metadata": {},
   "outputs": [
    {
     "name": "stdout",
     "output_type": "stream",
     "text": [
      "init\n",
      "draw\n"
     ]
    }
   ],
   "source": [
    "# Creating instance of a class\n",
    "point1 = Point()\n",
    "point1.draw()"
   ]
  },
  {
   "cell_type": "code",
   "execution_count": 4,
   "id": "d4742778-d67b-4757-adf6-4d3b3f640bd5",
   "metadata": {},
   "outputs": [
    {
     "name": "stdout",
     "output_type": "stream",
     "text": [
      "Type of object: <class '__main__.Point'>\n",
      "Type of Class: <class 'type'>\n"
     ]
    }
   ],
   "source": [
    "print(f'Type of object: {type(point1)}')\n",
    "print(f'Type of Class: {type(Point)}')  # klasa w Pythonie jest typu 'type'"
   ]
  },
  {
   "cell_type": "markdown",
   "id": "c3c621ee-ccbc-4754-979b-daefd0323cab",
   "metadata": {},
   "source": [
    "### Modifing Classes"
   ]
  },
  {
   "cell_type": "code",
   "execution_count": 6,
   "id": "d12d2971-80ea-4300-96e8-18896269387b",
   "metadata": {},
   "outputs": [],
   "source": [
    " # it's possible to assign value to a non-existing attribute (in that way we create for the one particular object)\n",
    "point1.x = 10      \n",
    "point1.y = 20"
   ]
  },
  {
   "cell_type": "code",
   "execution_count": 8,
   "id": "80a9ba1a-60d7-4be3-9010-52be8b396ea4",
   "metadata": {},
   "outputs": [
    {
     "data": {
      "text/plain": [
       "(10, 20)"
      ]
     },
     "execution_count": 8,
     "metadata": {},
     "output_type": "execute_result"
    }
   ],
   "source": [
    "point1.x, point1.y"
   ]
  },
  {
   "cell_type": "code",
   "execution_count": 10,
   "id": "17bc4a4f-3c38-4432-bce9-ffb946af135d",
   "metadata": {},
   "outputs": [],
   "source": [
    "#point1.z # this will won't work -> AttributeError: 'Point' object has no attribute 'z'"
   ]
  },
  {
   "cell_type": "markdown",
   "id": "d16a2b8e-f8fc-4f91-858b-da4acf6db0aa",
   "metadata": {},
   "source": [
    "### Empty Class "
   ]
  },
  {
   "cell_type": "code",
   "execution_count": 12,
   "id": "f9d292e9-ee6a-4c38-9cb4-27ff25f6def8",
   "metadata": {},
   "outputs": [],
   "source": [
    "class EmptyClass:\n",
    "    pass   # this is to make code compile (pass - means do nothing)"
   ]
  },
  {
   "cell_type": "code",
   "execution_count": null,
   "id": "58bbf33a-800f-48f5-a52d-61b111efa8a2",
   "metadata": {},
   "outputs": [],
   "source": []
  },
  {
   "cell_type": "code",
   "execution_count": 13,
   "id": "2ec52343-084e-44a5-8b37-d0c53b0c9747",
   "metadata": {},
   "outputs": [],
   "source": [
    "class MyPoint:\n",
    "    def __init__(self, x, y): # constructor, 'self' has to be always on the first positionS\n",
    "        self.x = x\n",
    "        self.y = y\n",
    "\n",
    "    def move(self):\n",
    "        print(\"move\")\n",
    "\n",
    "    def draw(self):\n",
    "        print(f\"draw: [{self.x}, {self.y}]\")"
   ]
  },
  {
   "cell_type": "code",
   "execution_count": 14,
   "id": "b7730e92-b4c9-4174-afc1-0a18f1222818",
   "metadata": {},
   "outputs": [
    {
     "name": "stdout",
     "output_type": "stream",
     "text": [
      "draw: [10, 50]\n"
     ]
    }
   ],
   "source": [
    "myPoint = MyPoint(10, 50)\n",
    "myPoint.draw()"
   ]
  },
  {
   "cell_type": "code",
   "execution_count": 15,
   "id": "ae5b96c0-0c04-41c3-aa84-91d1a3ab9400",
   "metadata": {},
   "outputs": [],
   "source": [
    "# Inheritance"
   ]
  },
  {
   "cell_type": "code",
   "execution_count": 17,
   "id": "34687eb0-5d80-4e36-8e78-0e8a96fb0463",
   "metadata": {},
   "outputs": [],
   "source": [
    "class Animal:\n",
    "    def walk(self):\n",
    "        print(\"walk...\")\n",
    "\n",
    "class Dog(Animal):\n",
    "    def bark(self):\n",
    "        print(\"bark bark\")\n"
   ]
  },
  {
   "cell_type": "code",
   "execution_count": 18,
   "id": "c33ec2f6-4db6-4b06-b884-6650117e826f",
   "metadata": {},
   "outputs": [
    {
     "name": "stdout",
     "output_type": "stream",
     "text": [
      "bark bark\n",
      "walk...\n"
     ]
    }
   ],
   "source": [
    "dog = Dog()\n",
    "dog.bark()\n",
    "dog.walk()"
   ]
  },
  {
   "cell_type": "code",
   "execution_count": null,
   "id": "05e3d4be-ae91-4cb8-86d9-3d8090151ad8",
   "metadata": {},
   "outputs": [],
   "source": []
  }
 ],
 "metadata": {
  "kernelspec": {
   "display_name": "Python 3 (ipykernel)",
   "language": "python",
   "name": "python3"
  },
  "language_info": {
   "codemirror_mode": {
    "name": "ipython",
    "version": 3
   },
   "file_extension": ".py",
   "mimetype": "text/x-python",
   "name": "python",
   "nbconvert_exporter": "python",
   "pygments_lexer": "ipython3",
   "version": "3.8.10"
  }
 },
 "nbformat": 4,
 "nbformat_minor": 5
}
