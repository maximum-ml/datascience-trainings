{
 "cells": [
  {
   "cell_type": "markdown",
   "id": "359c888c-4993-44d1-9591-0698bee92562",
   "metadata": {},
   "source": [
    "# String"
   ]
  },
  {
   "cell_type": "markdown",
   "id": "e089e00b-bfaa-45e6-9d97-d6269fbecf8b",
   "metadata": {},
   "source": [
    "### Defining Strings"
   ]
  },
  {
   "cell_type": "code",
   "execution_count": 14,
   "id": "0f227889-7b42-48fa-917d-e2b50729fb1e",
   "metadata": {},
   "outputs": [
    {
     "data": {
      "text/plain": [
       "str"
      ]
     },
     "execution_count": 14,
     "metadata": {},
     "output_type": "execute_result"
    }
   ],
   "source": [
    "s = \"string\"\n",
    "type(s)"
   ]
  },
  {
   "cell_type": "code",
   "execution_count": 6,
   "id": "133a03cb-9fa5-46a3-963e-6b59a5e3bb07",
   "metadata": {},
   "outputs": [
    {
     "data": {
      "text/plain": [
       "'Ala ma kota.'"
      ]
     },
     "execution_count": 6,
     "metadata": {},
     "output_type": "execute_result"
    }
   ],
   "source": [
    "str1 = \"Ala ma kota.\"        \n",
    "str1"
   ]
  },
  {
   "cell_type": "code",
   "execution_count": 5,
   "id": "feccb4bd-849a-4b26-99a6-dbc31d1157c5",
   "metadata": {},
   "outputs": [
    {
     "data": {
      "text/plain": [
       "'Ola ma psa.'"
      ]
     },
     "execution_count": 5,
     "metadata": {},
     "output_type": "execute_result"
    }
   ],
   "source": [
    "str2 = 'Ola ma psa.'\n",
    "str2"
   ]
  },
  {
   "cell_type": "code",
   "execution_count": 3,
   "id": "88c118f0-1a36-431a-929b-f082a60219f9",
   "metadata": {},
   "outputs": [
    {
     "data": {
      "text/plain": [
       "'Ula \\n        ma\\n        bzika...'"
      ]
     },
     "execution_count": 3,
     "metadata": {},
     "output_type": "execute_result"
    }
   ],
   "source": [
    "str3 = \"\"\"Ula \n",
    "        ma\n",
    "        bzika...\"\"\"    # pozwala tworzyć stringi wielo-linijkowe\n",
    "str3"
   ]
  },
  {
   "cell_type": "markdown",
   "id": "9c41de23-93a9-4584-952a-b6bd47e65a99",
   "metadata": {},
   "source": [
    "### Formated String"
   ]
  },
  {
   "cell_type": "code",
   "execution_count": 7,
   "id": "5ebc89f3-8f42-487b-91e7-3d885e8f0d10",
   "metadata": {},
   "outputs": [
    {
     "data": {
      "text/plain": [
       "'Hello Wojtek in Kraków'"
      ]
     },
     "execution_count": 7,
     "metadata": {},
     "output_type": "execute_result"
    }
   ],
   "source": [
    "name = \"Wojtek\"\n",
    "place = \"Kraków\"\n",
    "\n",
    "msg = f'Hello {name} in {place}'\n",
    "msg"
   ]
  },
  {
   "cell_type": "markdown",
   "id": "e911b2b7-a905-4c35-bc72-2050a5dc1727",
   "metadata": {},
   "source": [
    "### String Length"
   ]
  },
  {
   "cell_type": "code",
   "execution_count": 9,
   "id": "d6cdff46-fdd7-4b94-9457-f446b9709204",
   "metadata": {},
   "outputs": [
    {
     "data": {
      "text/plain": [
       "6"
      ]
     },
     "execution_count": 9,
     "metadata": {},
     "output_type": "execute_result"
    }
   ],
   "source": [
    "l = len(\"Wojtek\")\n",
    "l"
   ]
  },
  {
   "cell_type": "code",
   "execution_count": 10,
   "id": "4c41626b-1265-4236-828c-57baf2730cca",
   "metadata": {},
   "outputs": [],
   "source": [
    "### Uppercase & Lowercase"
   ]
  },
  {
   "cell_type": "code",
   "execution_count": 10,
   "id": "554aaa8b-fd0f-4fae-8751-eb8647d4cac5",
   "metadata": {},
   "outputs": [
    {
     "data": {
      "text/plain": [
       "'ALA MA KOTA.'"
      ]
     },
     "execution_count": 10,
     "metadata": {},
     "output_type": "execute_result"
    }
   ],
   "source": [
    "uc = \"Ala ma kota.\".upper() # it returns a new instance\n",
    "uc"
   ]
  },
  {
   "cell_type": "code",
   "execution_count": 12,
   "id": "1413d465-ff7c-43aa-86c1-b0de8551dbb7",
   "metadata": {},
   "outputs": [
    {
     "data": {
      "text/plain": [
       "'wojtek bez portek.'"
      ]
     },
     "execution_count": 12,
     "metadata": {},
     "output_type": "execute_result"
    }
   ],
   "source": [
    "lc = 'Wojtek bez portek.'.lower() # it returns a new instance\n",
    "lc"
   ]
  },
  {
   "cell_type": "markdown",
   "id": "03311860-4cce-4136-a0ec-0871d989f5ca",
   "metadata": {},
   "source": [
    "#### Check if string is empty"
   ]
  },
  {
   "cell_type": "code",
   "execution_count": 18,
   "id": "03b61b7c-cf5e-4323-9b0a-1e5443e8f414",
   "metadata": {},
   "outputs": [],
   "source": [
    "not_empty_str = \"Not empty string\"\n",
    "empty_str = \"\""
   ]
  },
  {
   "cell_type": "code",
   "execution_count": 22,
   "id": "0258a777-317a-4c34-9e4e-6dbebfc4cb4c",
   "metadata": {},
   "outputs": [
    {
     "name": "stdout",
     "output_type": "stream",
     "text": [
      "string is not empty\n"
     ]
    }
   ],
   "source": [
    "if not_empty_str != '':\n",
    "    print(\"string is not empty\")\n",
    "else:     \n",
    "    print(\"string is empty\")"
   ]
  },
  {
   "cell_type": "code",
   "execution_count": 26,
   "id": "0355d221-5c90-4e58-8955-eda84e28b37c",
   "metadata": {},
   "outputs": [
    {
     "name": "stdout",
     "output_type": "stream",
     "text": [
      "not empty string\n"
     ]
    }
   ],
   "source": [
    "if not_empty_str:  # short form\n",
    "    print(\"not empty string\")"
   ]
  },
  {
   "cell_type": "markdown",
   "id": "9161d854-0253-4e31-904c-95fbf81be8d1",
   "metadata": {},
   "source": [
    "### Multiply a String"
   ]
  },
  {
   "cell_type": "code",
   "execution_count": 18,
   "id": "a4429974-560e-4a8d-9e5a-62aa6141bbd0",
   "metadata": {},
   "outputs": [
    {
     "data": {
      "text/plain": [
       "'aaa'"
      ]
     },
     "execution_count": 18,
     "metadata": {},
     "output_type": "execute_result"
    }
   ],
   "source": [
    "s = \"a\" * 3\n",
    "s"
   ]
  },
  {
   "cell_type": "code",
   "execution_count": 22,
   "id": "0e15bf60-47f8-4547-b44f-79b56882da38",
   "metadata": {},
   "outputs": [
    {
     "data": {
      "text/plain": [
       "'a b ca b c'"
      ]
     },
     "execution_count": 22,
     "metadata": {},
     "output_type": "execute_result"
    }
   ],
   "source": [
    "s = \"a b c\" * 2\n",
    "s"
   ]
  },
  {
   "cell_type": "markdown",
   "id": "37e199bc-1e01-432a-b4ef-60b36cab1989",
   "metadata": {},
   "source": [
    "### Convert String to Int"
   ]
  },
  {
   "cell_type": "code",
   "execution_count": 26,
   "id": "e7de8417-9e53-4339-aaf8-c2b5cd62a5bc",
   "metadata": {},
   "outputs": [
    {
     "name": "stdout",
     "output_type": "stream",
     "text": [
      "500\n"
     ]
    }
   ],
   "source": [
    "string_value = \"100\"\n",
    "int_value = int(string_value)\n",
    "print(5 * int_value)"
   ]
  },
  {
   "cell_type": "markdown",
   "id": "d397f89d-e875-481f-bda9-07ae01754fff",
   "metadata": {},
   "source": [
    "### Convert Int to String"
   ]
  },
  {
   "cell_type": "code",
   "execution_count": 29,
   "id": "8edecd65-a287-4c68-9774-00a83029eef9",
   "metadata": {},
   "outputs": [
    {
     "name": "stdout",
     "output_type": "stream",
     "text": [
      "10 * x = 50 ?\n"
     ]
    }
   ],
   "source": [
    "int_value = 10\n",
    "str_value = str(int_value)\n",
    "print(str_value + \" * x = 50 ?\")"
   ]
  },
  {
   "cell_type": "markdown",
   "id": "0665dbb2-4253-4199-a0d6-5428d71006e7",
   "metadata": {},
   "source": [
    "### Adding String & Int"
   ]
  },
  {
   "cell_type": "code",
   "execution_count": 37,
   "id": "d9e69987-9ab7-43c3-a308-c9929f460798",
   "metadata": {},
   "outputs": [],
   "source": [
    "i = 10\n",
    "s = \"a\"\n",
    "#print (i + s) # this won't work"
   ]
  },
  {
   "cell_type": "markdown",
   "id": "04696dd6-2a82-42ac-8e6f-5e5c8c5258e4",
   "metadata": {},
   "source": [
    "### String Split"
   ]
  },
  {
   "cell_type": "code",
   "execution_count": 32,
   "id": "dc9f4c40-3cd8-4a79-b26c-93d3503f2476",
   "metadata": {},
   "outputs": [
    {
     "name": "stdout",
     "output_type": "stream",
     "text": [
      "tokens=['ala', 'ma', 'kota']\n",
      "type(tokens)=<class 'list'>\n"
     ]
    }
   ],
   "source": [
    "str = 'ala_ma_kota'\n",
    "tokens = str.split('_')\n",
    "print(f'tokens={tokens}')\n",
    "print(f'type(tokens)={type(tokens)}')"
   ]
  },
  {
   "cell_type": "code",
   "execution_count": 35,
   "id": "b550f9d7-8dd7-48e8-9ef7-2d489996485a",
   "metadata": {},
   "outputs": [
    {
     "name": "stdout",
     "output_type": "stream",
     "text": [
      "t=ala\n",
      "t=ma\n",
      "t=kota\n"
     ]
    }
   ],
   "source": [
    "for t in tokens:\n",
    "    print(f't={t}')"
   ]
  },
  {
   "cell_type": "code",
   "execution_count": 36,
   "id": "d7828608-a4e8-403a-a97d-2b0ab6645383",
   "metadata": {},
   "outputs": [
    {
     "data": {
      "text/plain": [
       "['ala', 'ma', 'kota']"
      ]
     },
     "execution_count": 36,
     "metadata": {},
     "output_type": "execute_result"
    }
   ],
   "source": [
    "l = [t for t in tokens] # list comprehension\n",
    "l"
   ]
  },
  {
   "cell_type": "markdown",
   "id": "5414b0fb-470d-4277-9e2d-75f8abe4a258",
   "metadata": {},
   "source": [
    "### String Join"
   ]
  },
  {
   "cell_type": "code",
   "execution_count": 2,
   "id": "a47a4c2d-bf40-49af-8d86-0ee071056f4a",
   "metadata": {},
   "outputs": [
    {
     "name": "stdout",
     "output_type": "stream",
     "text": [
      "out1=abcd\n",
      "out2=a+b+c+d\n"
     ]
    }
   ],
   "source": [
    "words = ['a', 'b', 'c', 'd']\n",
    "out = ''.join(words)\n",
    "print(f'out1={out}')\n",
    "\n",
    "out = '+'.join(words)\n",
    "print(f'out2={out}')"
   ]
  },
  {
   "cell_type": "markdown",
   "id": "3b6b868c-9ef6-4ce2-85c1-749127516966",
   "metadata": {},
   "source": [
    "### Substrings"
   ]
  },
  {
   "cell_type": "code",
   "execution_count": 3,
   "id": "dfc0516b-8b6c-446c-9b38-f2526713c862",
   "metadata": {},
   "outputs": [],
   "source": [
    "name = \"Wojtek\""
   ]
  },
  {
   "cell_type": "code",
   "execution_count": 4,
   "id": "b5a96328-6147-45bf-9e6e-c35d1742ad04",
   "metadata": {},
   "outputs": [
    {
     "name": "stdout",
     "output_type": "stream",
     "text": [
      "W\n",
      "W\n"
     ]
    }
   ],
   "source": [
    "print(name[0]) # first letter\n",
    "print(name[-0]) "
   ]
  },
  {
   "cell_type": "code",
   "execution_count": 5,
   "id": "4117d8d4-2833-4b9c-a982-c44fab4aea20",
   "metadata": {},
   "outputs": [
    {
     "name": "stdout",
     "output_type": "stream",
     "text": [
      "k\n"
     ]
    }
   ],
   "source": [
    "print(name[-1])    # negative index is counted from the end of the string -> -1 == last letter"
   ]
  },
  {
   "cell_type": "code",
   "execution_count": 6,
   "id": "f51c04c4-89d7-4291-b0e7-eec21eefe782",
   "metadata": {},
   "outputs": [
    {
     "name": "stdout",
     "output_type": "stream",
     "text": [
      "Woj\n"
     ]
    }
   ],
   "source": [
    "substring03 = print(name[0:3])  \n",
    "substring03"
   ]
  },
  {
   "cell_type": "code",
   "execution_count": 7,
   "id": "7f78a62f-33b8-4345-bcb8-09227b4ee574",
   "metadata": {},
   "outputs": [
    {
     "name": "stdout",
     "output_type": "stream",
     "text": [
      "Woj\n"
     ]
    }
   ],
   "source": [
    "print(name[:3])    "
   ]
  },
  {
   "cell_type": "code",
   "execution_count": 8,
   "id": "c7d9002e-2169-4a2c-9845-d65db28cc572",
   "metadata": {},
   "outputs": [
    {
     "name": "stdout",
     "output_type": "stream",
     "text": [
      "Wojtek\n"
     ]
    }
   ],
   "source": [
    "print(name[:])     "
   ]
  },
  {
   "cell_type": "code",
   "execution_count": 9,
   "id": "34bfafd3-19d6-4c27-9654-8b3c45e09362",
   "metadata": {},
   "outputs": [
    {
     "data": {
      "text/plain": [
       "'Wojtek'"
      ]
     },
     "execution_count": 9,
     "metadata": {},
     "output_type": "execute_result"
    }
   ],
   "source": []
  },
  {
   "cell_type": "code",
   "execution_count": null,
   "id": "10c516f4-07a6-4b20-be33-759d2ceb45a7",
   "metadata": {},
   "outputs": [],
   "source": []
  },
  {
   "cell_type": "code",
   "execution_count": null,
   "id": "5c0374ea-be4a-4f6e-a0e4-e9cbde4cd491",
   "metadata": {},
   "outputs": [],
   "source": []
  }
 ],
 "metadata": {
  "kernelspec": {
   "display_name": "Python 3 (ipykernel)",
   "language": "python",
   "name": "python3"
  },
  "language_info": {
   "codemirror_mode": {
    "name": "ipython",
    "version": 3
   },
   "file_extension": ".py",
   "mimetype": "text/x-python",
   "name": "python",
   "nbconvert_exporter": "python",
   "pygments_lexer": "ipython3",
   "version": "3.9.7"
  }
 },
 "nbformat": 4,
 "nbformat_minor": 5
}
