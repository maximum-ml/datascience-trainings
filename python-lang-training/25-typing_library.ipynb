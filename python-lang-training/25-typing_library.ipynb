{
 "cells": [
  {
   "cell_type": "markdown",
   "id": "13f26185-52aa-447c-a36a-0c7bc122de29",
   "metadata": {},
   "source": [
    "# Python Training - Typing library (TypeVar)"
   ]
  },
  {
   "cell_type": "markdown",
   "id": "3c038bea-5055-4413-b40e-c5f3e6a3b03d",
   "metadata": {},
   "source": [
    "- available in Python 3.5 and above\n",
    "- build in module"
   ]
  },
  {
   "cell_type": "code",
   "execution_count": 1,
   "id": "09890757-d3c1-465a-ac28-4a7c471a9c27",
   "metadata": {},
   "outputs": [],
   "source": [
    "from typing import Generic, TypeVar"
   ]
  },
  {
   "cell_type": "code",
   "execution_count": null,
   "id": "a6ea66bf-dd83-4c5f-868e-c79c1bca5c9a",
   "metadata": {},
   "outputs": [],
   "source": []
  },
  {
   "cell_type": "code",
   "execution_count": null,
   "id": "e0169959-2fec-4ea3-bff8-2e0e21eac5a5",
   "metadata": {},
   "outputs": [],
   "source": []
  }
 ],
 "metadata": {
  "kernelspec": {
   "display_name": "Python 3 (ipykernel)",
   "language": "python",
   "name": "python3"
  },
  "language_info": {
   "codemirror_mode": {
    "name": "ipython",
    "version": 3
   },
   "file_extension": ".py",
   "mimetype": "text/x-python",
   "name": "python",
   "nbconvert_exporter": "python",
   "pygments_lexer": "ipython3",
   "version": "3.9.13"
  }
 },
 "nbformat": 4,
 "nbformat_minor": 5
}
