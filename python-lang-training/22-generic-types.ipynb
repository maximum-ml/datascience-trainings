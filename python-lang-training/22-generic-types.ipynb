{
 "cells": [
  {
   "cell_type": "markdown",
   "id": "29150ee4-d175-4f23-9577-735fedb7050a",
   "metadata": {},
   "source": [
    "# Generic Types"
   ]
  },
  {
   "cell_type": "code",
   "execution_count": null,
   "id": "aab1747c-4b86-4b73-b590-7161eed015c0",
   "metadata": {},
   "outputs": [],
   "source": []
  }
 ],
 "metadata": {
  "kernelspec": {
   "display_name": "Python 3 (ipykernel)",
   "language": "python",
   "name": "python3"
  },
  "language_info": {
   "codemirror_mode": {
    "name": "ipython",
    "version": 3
   },
   "file_extension": ".py",
   "mimetype": "text/x-python",
   "name": "python",
   "nbconvert_exporter": "python",
   "pygments_lexer": "ipython3",
   "version": "3.9.13"
  }
 },
 "nbformat": 4,
 "nbformat_minor": 5
}
