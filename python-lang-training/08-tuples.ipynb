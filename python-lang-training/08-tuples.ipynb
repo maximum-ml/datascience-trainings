{
 "cells": [
  {
   "cell_type": "markdown",
   "id": "6cde2554-0456-4cbe-90e3-c3f22c675fdf",
   "metadata": {},
   "source": [
    "# Tuples"
   ]
  },
  {
   "cell_type": "markdown",
   "id": "29590b78-30df-41af-826c-5adf4e2eb3bb",
   "metadata": {},
   "source": [
    "### Typles are immutable"
   ]
  },
  {
   "cell_type": "code",
   "execution_count": null,
   "id": "b53fb6f5-6f3d-4cb7-91b2-51402afc68b4",
   "metadata": {},
   "outputs": [
    {
     "data": {
      "text/plain": [
       "((1, 2, 3), tuple)"
      ]
     },
     "execution_count": 3,
     "metadata": {},
     "output_type": "execute_result"
    }
   ],
   "source": [
    "numbers = (1, 2, 3)\n",
    "numbers, type(numbers)"
   ]
  },
  {
   "cell_type": "markdown",
   "id": "432fdfdf-d374-4191-87bb-5f649199522f",
   "metadata": {},
   "source": [
    "### Accessing elements"
   ]
  },
  {
   "cell_type": "code",
   "execution_count": 14,
   "id": "0af83e71-e767-4341-ac29-67e1c1ba85f3",
   "metadata": {},
   "outputs": [
    {
     "data": {
      "text/plain": [
       "1"
      ]
     },
     "execution_count": 14,
     "metadata": {},
     "output_type": "execute_result"
    }
   ],
   "source": [
    "x = numbers[0]\n",
    "x"
   ]
  },
  {
   "cell_type": "code",
   "execution_count": 15,
   "id": "936bad9f-2c83-4274-bdbd-1c7da1adcfd1",
   "metadata": {},
   "outputs": [
    {
     "name": "stdout",
     "output_type": "stream",
     "text": [
      "last two elems of tuple: (2, 3)\n"
     ]
    }
   ],
   "source": [
    "print(f'last two elems of tuple: {numbers[-2:]}')"
   ]
  },
  {
   "cell_type": "markdown",
   "id": "ed077a24-1aa0-465d-9332-ff743813343a",
   "metadata": {},
   "source": [
    "### Indexing"
   ]
  },
  {
   "cell_type": "code",
   "execution_count": 9,
   "id": "c328e55f-3e39-4762-a5c3-236154dfae6b",
   "metadata": {},
   "outputs": [
    {
     "data": {
      "text/plain": [
       "(0, 1, 2)"
      ]
     },
     "execution_count": 9,
     "metadata": {},
     "output_type": "execute_result"
    }
   ],
   "source": [
    "idx1 = numbers.index(1) # index(0) is incorrect\n",
    "idx2 = numbers.index(2)\n",
    "idx3 = numbers.index(3)\n",
    "idx1, idx2, idx3"
   ]
  },
  {
   "cell_type": "code",
   "execution_count": 13,
   "id": "308dc183-ee99-44d0-8096-82629273ea9c",
   "metadata": {},
   "outputs": [
    {
     "name": "stdout",
     "output_type": "stream",
     "text": [
      "x=1, y=2, z=3\n"
     ]
    }
   ],
   "source": []
  },
  {
   "cell_type": "code",
   "execution_count": null,
   "id": "1a845f5f-4d4c-4cf7-ba2e-68fc8be8bc2c",
   "metadata": {},
   "outputs": [],
   "source": []
  }
 ],
 "metadata": {
  "kernelspec": {
   "display_name": "Python 3 (ipykernel)",
   "language": "python",
   "name": "python3"
  },
  "language_info": {
   "codemirror_mode": {
    "name": "ipython",
    "version": 3
   },
   "file_extension": ".py",
   "mimetype": "text/x-python",
   "name": "python",
   "nbconvert_exporter": "python",
   "pygments_lexer": "ipython3",
   "version": "3.9.7"
  }
 },
 "nbformat": 4,
 "nbformat_minor": 5
}
