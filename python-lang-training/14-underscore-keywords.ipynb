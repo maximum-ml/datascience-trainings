{
 "cells": [
  {
   "cell_type": "markdown",
   "id": "40368bd4-fcbb-489c-8f48-a0b9ba80934f",
   "metadata": {},
   "source": [
    "# Underscore Keywords"
   ]
  },
  {
   "cell_type": "code",
   "execution_count": 1,
   "id": "cad72730-8b82-4bbc-bb6d-25ebde0dfc01",
   "metadata": {},
   "outputs": [],
   "source": [
    "# __init__ (pronounced: dunder /dander/ init)\n",
    "# __call__\n",
    "# __class__\n",
    "# __enter__\n",
    "# __exit__"
   ]
  },
  {
   "cell_type": "markdown",
   "id": "201b2e97-ee23-4d3f-a2b6-e3816677dba9",
   "metadata": {},
   "source": [
    "### \\__call\\__"
   ]
  },
  {
   "cell_type": "raw",
   "id": "0d4ff970-694c-4dfc-a94b-3fb7de098e1c",
   "metadata": {},
   "source": [
    "__call__ method enabled the class objects to be called like functions\n",
    "\n",
    "x(arg1, arg2, ...) is a shorthand for x.__call__(arg1, arg2, ...), where x is an object of class X\n"
   ]
  },
  {
   "cell_type": "code",
   "execution_count": 3,
   "id": "93aedaeb-a548-449d-b78d-21e52d609414",
   "metadata": {},
   "outputs": [],
   "source": [
    "class Example:\n",
    "    def __init__(self):\n",
    "        print(\"Instance Created\")\n",
    "      \n",
    "    # Defining __call__ method\n",
    "    def __call__(self):\n",
    "        print(\"Instance is called via special method\")\n",
    "  "
   ]
  },
  {
   "cell_type": "code",
   "execution_count": 4,
   "id": "148a34a2-45eb-4e28-9579-2616f051fb8d",
   "metadata": {},
   "outputs": [
    {
     "name": "stdout",
     "output_type": "stream",
     "text": [
      "Instance Created\n"
     ]
    }
   ],
   "source": [
    "# Instance created\n",
    "e = Example()"
   ]
  },
  {
   "cell_type": "code",
   "execution_count": 5,
   "id": "2774b0da-7ee5-4e8e-983c-a2acd04a10ed",
   "metadata": {},
   "outputs": [
    {
     "name": "stdout",
     "output_type": "stream",
     "text": [
      "Instance is called via special method\n"
     ]
    }
   ],
   "source": [
    "# __call__ method will be called\n",
    "e()"
   ]
  },
  {
   "cell_type": "code",
   "execution_count": null,
   "id": "38330f77-71de-42aa-92f7-a6c42adb1a23",
   "metadata": {},
   "outputs": [],
   "source": []
  }
 ],
 "metadata": {
  "kernelspec": {
   "display_name": "Python 3 (ipykernel)",
   "language": "python",
   "name": "python3"
  },
  "language_info": {
   "codemirror_mode": {
    "name": "ipython",
    "version": 3
   },
   "file_extension": ".py",
   "mimetype": "text/x-python",
   "name": "python",
   "nbconvert_exporter": "python",
   "pygments_lexer": "ipython3",
   "version": "3.9.13"
  }
 },
 "nbformat": 4,
 "nbformat_minor": 5
}
