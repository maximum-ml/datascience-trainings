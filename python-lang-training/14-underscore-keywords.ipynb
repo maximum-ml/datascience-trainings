{
 "cells": [
  {
   "cell_type": "markdown",
   "id": "40368bd4-fcbb-489c-8f48-a0b9ba80934f",
   "metadata": {},
   "source": [
    "# Underscore Keywords"
   ]
  },
  {
   "cell_type": "code",
   "execution_count": null,
   "id": "cad72730-8b82-4bbc-bb6d-25ebde0dfc01",
   "metadata": {},
   "outputs": [],
   "source": [
    "# __init__ (pronounced: dunder /dander/ init)\n",
    "# __call__\n",
    "# __class__\n",
    "# __enter__\n",
    "# __exit__"
   ]
  }
 ],
 "metadata": {
  "kernelspec": {
   "display_name": "Python 3 (ipykernel)",
   "language": "python",
   "name": "python3"
  },
  "language_info": {
   "codemirror_mode": {
    "name": "ipython",
    "version": 3
   },
   "file_extension": ".py",
   "mimetype": "text/x-python",
   "name": "python",
   "nbconvert_exporter": "python",
   "pygments_lexer": "ipython3",
   "version": "3.8.10"
  }
 },
 "nbformat": 4,
 "nbformat_minor": 5
}
