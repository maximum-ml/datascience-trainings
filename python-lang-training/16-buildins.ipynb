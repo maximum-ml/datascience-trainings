{
 "cells": [
  {
   "cell_type": "markdown",
   "id": "93f8d5c3-ca0e-4737-95fb-6c1af0c58206",
   "metadata": {},
   "source": [
    "# Build-ins\n",
    "\n",
    "build in functions"
   ]
  },
  {
   "cell_type": "code",
   "execution_count": null,
   "id": "527ac1e1-eb60-44bb-91ed-37e7b8fa99ae",
   "metadata": {},
   "outputs": [],
   "source": []
  }
 ],
 "metadata": {
  "kernelspec": {
   "display_name": "Python 3 (ipykernel)",
   "language": "python",
   "name": "python3"
  },
  "language_info": {
   "codemirror_mode": {
    "name": "ipython",
    "version": 3
   },
   "file_extension": ".py",
   "mimetype": "text/x-python",
   "name": "python",
   "nbconvert_exporter": "python",
   "pygments_lexer": "ipython3",
   "version": "3.9.7"
  }
 },
 "nbformat": 4,
 "nbformat_minor": 5
}
