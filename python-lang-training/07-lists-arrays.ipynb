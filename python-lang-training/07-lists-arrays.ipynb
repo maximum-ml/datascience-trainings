{
 "cells": [
  {
   "cell_type": "markdown",
   "id": "bc50a27b-f597-4eb5-bb21-e89239a8931b",
   "metadata": {},
   "source": [
    "# Lists & Arrays"
   ]
  },
  {
   "cell_type": "markdown",
   "id": "f9c96bb1-49b8-4871-ab5f-1091e7f73aec",
   "metadata": {},
   "source": [
    "## Lists"
   ]
  },
  {
   "cell_type": "markdown",
   "id": "60b22e7a-14df-4558-a08b-e41dcc79f8a7",
   "metadata": {},
   "source": [
    "- list is build-in data type in python: <class 'list'>\n",
    "- lists are mutable\n",
    "- a single list can contain different objects eg: ['str', 1, obj]\n"
   ]
  },
  {
   "cell_type": "code",
   "execution_count": 29,
   "id": "e76ad5a8-dedd-49a8-b10f-7c9fe8574e47",
   "metadata": {},
   "outputs": [],
   "source": [
    "list = ['a', 'b', 'c', 1]"
   ]
  },
  {
   "cell_type": "code",
   "execution_count": 30,
   "id": "b3fec318-e137-4a49-b985-712491dd5684",
   "metadata": {},
   "outputs": [
    {
     "name": "stdout",
     "output_type": "stream",
     "text": [
      "<class 'list'>\n"
     ]
    }
   ],
   "source": [
    "print(type(list))"
   ]
  },
  {
   "cell_type": "markdown",
   "id": "e3296ba3-54e2-4f9c-8c44-bd04999589f8",
   "metadata": {},
   "source": [
    "#### Add element to end of the list"
   ]
  },
  {
   "cell_type": "code",
   "execution_count": 31,
   "id": "6270e7d3-fe88-47c1-89d4-01fd0a648832",
   "metadata": {},
   "outputs": [
    {
     "data": {
      "text/plain": [
       "['a', 'b', 'c', 1]"
      ]
     },
     "execution_count": 31,
     "metadata": {},
     "output_type": "execute_result"
    }
   ],
   "source": [
    "list"
   ]
  },
  {
   "cell_type": "code",
   "execution_count": 32,
   "id": "6a73572b-5d40-4f34-9e48-857bfbf290aa",
   "metadata": {},
   "outputs": [
    {
     "data": {
      "text/plain": [
       "['a', 'b', 'c', 1, 'x']"
      ]
     },
     "execution_count": 32,
     "metadata": {},
     "output_type": "execute_result"
    }
   ],
   "source": [
    "list.append('x')\n",
    "list"
   ]
  },
  {
   "cell_type": "code",
   "execution_count": 33,
   "id": "3254c3e1-418e-4d42-a785-e56a40ac8305",
   "metadata": {},
   "outputs": [
    {
     "data": {
      "text/plain": [
       "['a', 'b', 'c', 1, 'x', ['x1', 'x2', 'x3']]"
      ]
     },
     "execution_count": 33,
     "metadata": {},
     "output_type": "execute_result"
    }
   ],
   "source": [
    "# If we append another list it will be added as a single element\n",
    "list.append(['x1','x2','x3'])\n",
    "list"
   ]
  },
  {
   "cell_type": "markdown",
   "id": "b717a1bd-e597-4614-bd24-17a0b59da831",
   "metadata": {},
   "source": [
    "#### Add element to the List at a given index"
   ]
  },
  {
   "cell_type": "code",
   "execution_count": 34,
   "id": "7223bfac-ee5a-4d78-ad42-72bc83320b53",
   "metadata": {},
   "outputs": [
    {
     "data": {
      "text/plain": [
       "['ind-0', 'a', 'b', 'c', 1]"
      ]
     },
     "execution_count": 34,
     "metadata": {},
     "output_type": "execute_result"
    }
   ],
   "source": [
    "list = ['a', 'b', 'c', 1]\n",
    "list.insert(0, 'ind-0')\n",
    "list"
   ]
  },
  {
   "cell_type": "code",
   "execution_count": 35,
   "id": "ed081052-f5b9-4d73-a08f-d6bb7fe9d0ec",
   "metadata": {},
   "outputs": [
    {
     "data": {
      "text/plain": [
       "['a', 'b', 'ind-2', 'c', 1]"
      ]
     },
     "execution_count": 35,
     "metadata": {},
     "output_type": "execute_result"
    }
   ],
   "source": [
    "list = ['a', 'b', 'c', 1]\n",
    "list.insert(2, 'ind-2')\n",
    "list"
   ]
  },
  {
   "cell_type": "markdown",
   "id": "eb658a01-2e6e-4609-b4c3-bf873523e71b",
   "metadata": {},
   "source": [
    "#### Extend a list with another collection"
   ]
  },
  {
   "cell_type": "code",
   "execution_count": 41,
   "id": "b84455f4-4acf-40e3-af12-c7567670d85d",
   "metadata": {},
   "outputs": [
    {
     "data": {
      "text/plain": [
       "['a', 'b', 'c', 1, 'x', 'y', 'z']"
      ]
     },
     "execution_count": 41,
     "metadata": {},
     "output_type": "execute_result"
    }
   ],
   "source": [
    "list = ['a', 'b', 'c', 1]\n",
    "list.extend(['x', 'y', 'z']) # this naturally works for a list\n",
    "list"
   ]
  },
  {
   "cell_type": "code",
   "execution_count": 42,
   "id": "3555ed87-f496-471c-b5da-42aa6ecbd7bd",
   "metadata": {},
   "outputs": [
    {
     "data": {
      "text/plain": [
       "['a', 'b', 'c', 1, 'x', 'y', 'z']"
      ]
     },
     "execution_count": 42,
     "metadata": {},
     "output_type": "execute_result"
    }
   ],
   "source": [
    "list = ['a', 'b', 'c', 1]\n",
    "list.extend(('x', 'y', 'z')) # also work for a tuple\n",
    "list"
   ]
  },
  {
   "cell_type": "code",
   "execution_count": 44,
   "id": "60ae24fa-eb7e-4279-a697-7612decaa792",
   "metadata": {},
   "outputs": [
    {
     "data": {
      "text/plain": [
       "['a', 'b', 'c', 1, 'x', 'y', 'z']"
      ]
     },
     "execution_count": 44,
     "metadata": {},
     "output_type": "execute_result"
    }
   ],
   "source": [
    "list = ['a', 'b', 'c', 1]\n",
    "list.extend(('xyz')) # also work for a string\n",
    "list"
   ]
  },
  {
   "cell_type": "markdown",
   "id": "5b26e858-1a4d-4ae3-b72e-38459a49c040",
   "metadata": {},
   "source": [
    "#### Concatenation of two lists"
   ]
  },
  {
   "cell_type": "code",
   "execution_count": 46,
   "id": "4d763d7f-bd0b-483b-99be-b87dfd5eccd7",
   "metadata": {},
   "outputs": [
    {
     "data": {
      "text/plain": [
       "['a', 'b', 'c', 1, 'a', 'b', 'c', 2]"
      ]
     },
     "execution_count": 46,
     "metadata": {},
     "output_type": "execute_result"
    }
   ],
   "source": [
    "l1 = ['a', 'b', 'c', 1]\n",
    "l2 = ['a', 'b', 'c', 2]\n",
    "l1 + l2"
   ]
  },
  {
   "cell_type": "markdown",
   "id": "94692277-e9c0-4035-8a18-7797c063f30a",
   "metadata": {},
   "source": [
    "#### Remove element from a list by value"
   ]
  },
  {
   "cell_type": "code",
   "execution_count": 60,
   "id": "15ddea8d-52db-4e79-ba7b-a9cc34a23bd4",
   "metadata": {},
   "outputs": [
    {
     "data": {
      "text/plain": [
       "['b', 'c', 1, 2, 1]"
      ]
     },
     "execution_count": 60,
     "metadata": {},
     "output_type": "execute_result"
    }
   ],
   "source": [
    "l1 = ['a', 'b', 'c', 1, 2, 1]\n",
    "l1.remove('a') # the element to remove is searched up its value (not index!)\n",
    "l1"
   ]
  },
  {
   "cell_type": "code",
   "execution_count": 61,
   "id": "bba43782-ad64-4140-b19b-566fce0b2da5",
   "metadata": {},
   "outputs": [
    {
     "data": {
      "text/plain": [
       "['b', 'c', 2, 1]"
      ]
     },
     "execution_count": 61,
     "metadata": {},
     "output_type": "execute_result"
    }
   ],
   "source": [
    "l1.remove(1) # removes only first occurence\n",
    "l1"
   ]
  },
  {
   "cell_type": "code",
   "execution_count": 64,
   "id": "a711be9b-285d-4975-8255-842a960c3480",
   "metadata": {},
   "outputs": [
    {
     "name": "stdout",
     "output_type": "stream",
     "text": [
      "F\n"
     ]
    },
    {
     "data": {
      "text/plain": [
       "['b', 'c', 2, 1]"
      ]
     },
     "execution_count": 64,
     "metadata": {},
     "output_type": "execute_result"
    }
   ],
   "source": [
    "if 'x' in l1:\n",
    "    print('T')\n",
    "    l1.remove('x') # if an element to remove does not exist in the list the method will return ValueError\n",
    "else:\n",
    "    print('F')\n",
    "l1"
   ]
  },
  {
   "cell_type": "markdown",
   "id": "8bb589b6-e2b5-4e65-88db-0e3e4239c392",
   "metadata": {},
   "source": [
    "#### Remove element from a list by index"
   ]
  },
  {
   "cell_type": "code",
   "execution_count": 66,
   "id": "f7bb0d87-5f82-410b-a98f-84a5178ecceb",
   "metadata": {},
   "outputs": [
    {
     "data": {
      "text/plain": [
       "['b', 'c', 1, 2, 1]"
      ]
     },
     "execution_count": 66,
     "metadata": {},
     "output_type": "execute_result"
    }
   ],
   "source": [
    "l1 = ['a', 'b', 'c', 1, 2, 1]\n",
    "l1.pop(0) # remove first element\n",
    "l1"
   ]
  },
  {
   "cell_type": "code",
   "execution_count": 67,
   "id": "5e2d6d45-7564-418c-8cdb-de9d9892fa81",
   "metadata": {},
   "outputs": [
    {
     "data": {
      "text/plain": [
       "['a', 'b', 'c', 1, 2]"
      ]
     },
     "execution_count": 67,
     "metadata": {},
     "output_type": "execute_result"
    }
   ],
   "source": [
    "l1 = ['a', 'b', 'c', 1, 2, 1]\n",
    "l1.pop(-1) # remove last element\n",
    "l1"
   ]
  },
  {
   "cell_type": "markdown",
   "id": "2d81fa9c-9294-4e28-a6e9-3430348dc404",
   "metadata": {},
   "source": [
    "#### Sort a list (in place)"
   ]
  },
  {
   "cell_type": "code",
   "execution_count": 69,
   "id": "d530a4a8-bf5b-48e0-ac98-7dea670dfe16",
   "metadata": {},
   "outputs": [
    {
     "data": {
      "text/plain": [
       "['aae', 'cxc', 'dfa', 'rfb']"
      ]
     },
     "execution_count": 69,
     "metadata": {},
     "output_type": "execute_result"
    }
   ],
   "source": [
    "list = ['dfa', 'rfb', 'cxc', 'aae']\n",
    "list.sort() ## sorting is done inplace, by default ascending\n",
    "list"
   ]
  },
  {
   "cell_type": "code",
   "execution_count": 68,
   "id": "4b7c80be-8e67-47fd-83da-91e033909209",
   "metadata": {},
   "outputs": [
    {
     "data": {
      "text/plain": [
       "['rfb', 'dfa', 'cxc', 'aae']"
      ]
     },
     "execution_count": 68,
     "metadata": {},
     "output_type": "execute_result"
    }
   ],
   "source": [
    "list = ['dfa', 'rfb', 'cxc', 'aae']\n",
    "list.sort(reverse=True) ## descending\n",
    "list"
   ]
  },
  {
   "cell_type": "code",
   "execution_count": 73,
   "id": "a4c0b68d-15ef-4e65-9188-61eb0e476815",
   "metadata": {},
   "outputs": [
    {
     "name": "stdout",
     "output_type": "stream",
     "text": [
      "original_list=['dfa', 'rfb', 'cxc', 'aae']\n",
      "sorted_list=['aae', 'cxc', 'dfa', 'rfb']\n"
     ]
    }
   ],
   "source": [
    "#### Sort a list (don't change the original collection)\n",
    "list = ['dfa', 'rfb', 'cxc', 'aae']\n",
    "sorted_list = sorted(list)\n",
    "print(f\"original_list={list}\")\n",
    "print(f\"sorted_list={sorted_list}\")"
   ]
  },
  {
   "cell_type": "markdown",
   "id": "d8206337-e35d-41d7-94a4-20451e44b8f5",
   "metadata": {},
   "source": [
    "#### List Comprehension"
   ]
  },
  {
   "cell_type": "code",
   "execution_count": 4,
   "id": "4b935d36-1873-48ed-9966-5d0d77fc1999",
   "metadata": {},
   "outputs": [
    {
     "data": {
      "text/plain": [
       "[2, 4, 6, 8, 10]"
      ]
     },
     "execution_count": 4,
     "metadata": {},
     "output_type": "execute_result"
    }
   ],
   "source": [
    "base = [1, 2, 3, 4, 5]\n",
    "a = [2*x for x in base]\n",
    "a"
   ]
  },
  {
   "cell_type": "code",
   "execution_count": 5,
   "id": "57fb8f48-8975-4898-bbc9-4843dd139ffc",
   "metadata": {},
   "outputs": [
    {
     "data": {
      "text/plain": [
       "[20, 40]"
      ]
     },
     "execution_count": 5,
     "metadata": {},
     "output_type": "execute_result"
    }
   ],
   "source": [
    "b = [10*x for x in base if not x%2]\n",
    "b"
   ]
  },
  {
   "cell_type": "markdown",
   "id": "7cad5beb-cb23-42ee-ad9a-221e3ee81a1d",
   "metadata": {},
   "source": [
    "### Arrays"
   ]
  },
  {
   "cell_type": "markdown",
   "id": "540d4dc5-800d-426b-8821-3d512fe680ae",
   "metadata": {},
   "source": [
    "To use arrays in Python, you need to import either an __array__ module or a __NumPy__ package."
   ]
  },
  {
   "cell_type": "markdown",
   "id": "d8599054-ae09-40aa-a9ba-7fbac6cbde69",
   "metadata": {},
   "source": [
    "#### Array"
   ]
  },
  {
   "cell_type": "code",
   "execution_count": 5,
   "id": "ced3a111-85ba-411e-a687-0ab93b5dc6c7",
   "metadata": {},
   "outputs": [],
   "source": [
    "import array as arr"
   ]
  },
  {
   "cell_type": "code",
   "execution_count": 15,
   "id": "f5462264-7cda-4fb6-9bb4-7b729cf8970c",
   "metadata": {},
   "outputs": [
    {
     "name": "stdout",
     "output_type": "stream",
     "text": [
      "array('i', [3, 6, 9, 12])\n",
      "<class 'array.array'>\n"
     ]
    }
   ],
   "source": [
    "array1 = arr.array(\"i\", [3, 6, 9, 12]) # i - means it's an array of integers only\n",
    "print(array1)\n",
    "print(type(array1))"
   ]
  },
  {
   "cell_type": "code",
   "execution_count": 9,
   "id": "60dbf4b5-8c89-4917-af56-46e2f842e822",
   "metadata": {},
   "outputs": [
    {
     "data": {
      "text/plain": [
       "4"
      ]
     },
     "execution_count": 9,
     "metadata": {},
     "output_type": "execute_result"
    }
   ],
   "source": [
    "len(array1)"
   ]
  },
  {
   "cell_type": "markdown",
   "id": "e2804665-8756-4555-ae8c-9682ad17d5bd",
   "metadata": {},
   "source": [
    "#### Numpy"
   ]
  },
  {
   "cell_type": "code",
   "execution_count": 11,
   "id": "23a311c0-0ead-4510-9cd8-13b4838b3fc9",
   "metadata": {},
   "outputs": [],
   "source": [
    "import numpy as np"
   ]
  },
  {
   "cell_type": "code",
   "execution_count": 14,
   "id": "e14718bd-f755-4a8f-a2b1-69db139e9998",
   "metadata": {},
   "outputs": [
    {
     "name": "stdout",
     "output_type": "stream",
     "text": [
      "['numbers' '3' '6' '9' '12']\n",
      "<class 'numpy.ndarray'>\n"
     ]
    }
   ],
   "source": [
    "array2 = np.array([\"numbers\", 3, 6, 9, 12]) # numpy array accepts different types of elements\n",
    "print (array2)\n",
    "print(type(array2))"
   ]
  },
  {
   "cell_type": "code",
   "execution_count": 13,
   "id": "8dc69572-cd15-4c00-9e1a-3048ef9d66fc",
   "metadata": {},
   "outputs": [
    {
     "data": {
      "text/plain": [
       "5"
      ]
     },
     "execution_count": 13,
     "metadata": {},
     "output_type": "execute_result"
    }
   ],
   "source": [
    "len(array2)"
   ]
  },
  {
   "cell_type": "code",
   "execution_count": null,
   "id": "676b48a0-8aa8-4f00-8491-ac10500a25bc",
   "metadata": {},
   "outputs": [],
   "source": []
  }
 ],
 "metadata": {
  "kernelspec": {
   "display_name": "Python 3 (ipykernel)",
   "language": "python",
   "name": "python3"
  },
  "language_info": {
   "codemirror_mode": {
    "name": "ipython",
    "version": 3
   },
   "file_extension": ".py",
   "mimetype": "text/x-python",
   "name": "python",
   "nbconvert_exporter": "python",
   "pygments_lexer": "ipython3",
   "version": "3.9.7"
  }
 },
 "nbformat": 4,
 "nbformat_minor": 5
}
