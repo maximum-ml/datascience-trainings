{
 "cells": [
  {
   "cell_type": "markdown",
   "id": "54fe4580-c3ce-4a68-aacf-fd370f09c59d",
   "metadata": {},
   "source": [
    "# Python Training - time & date"
   ]
  },
  {
   "cell_type": "code",
   "execution_count": 1,
   "id": "fd4154c0-cbd1-41fd-89cb-dfd95bcc5988",
   "metadata": {},
   "outputs": [],
   "source": [
    "import time"
   ]
  },
  {
   "cell_type": "code",
   "execution_count": 2,
   "id": "bbf624f7-0ce6-4b59-9557-3624e2a1b5be",
   "metadata": {},
   "outputs": [
    {
     "data": {
      "text/plain": [
       "1671445592.3067095"
      ]
     },
     "execution_count": 2,
     "metadata": {},
     "output_type": "execute_result"
    }
   ],
   "source": [
    "t1 = time.time()\n",
    "t1"
   ]
  },
  {
   "cell_type": "code",
   "execution_count": 3,
   "id": "e9e7d482-d0e9-42a3-b32d-d690407b858e",
   "metadata": {},
   "outputs": [],
   "source": [
    "from datetime import datetime"
   ]
  },
  {
   "cell_type": "code",
   "execution_count": null,
   "id": "1adefa54-4e14-4f1d-beea-ea3dccb0e08b",
   "metadata": {},
   "outputs": [],
   "source": []
  }
 ],
 "metadata": {
  "kernelspec": {
   "display_name": "Python 3 (ipykernel)",
   "language": "python",
   "name": "python3"
  },
  "language_info": {
   "codemirror_mode": {
    "name": "ipython",
    "version": 3
   },
   "file_extension": ".py",
   "mimetype": "text/x-python",
   "name": "python",
   "nbconvert_exporter": "python",
   "pygments_lexer": "ipython3",
   "version": "3.9.13"
  }
 },
 "nbformat": 4,
 "nbformat_minor": 5
}
