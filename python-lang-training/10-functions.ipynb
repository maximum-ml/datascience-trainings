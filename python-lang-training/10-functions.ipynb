{
 "cells": [
  {
   "cell_type": "markdown",
   "id": "bf4c62e7-f414-459e-8af1-e71f85ace2d1",
   "metadata": {},
   "source": [
    "# Functions"
   ]
  },
  {
   "cell_type": "raw",
   "id": "e5daed11-8e7d-4458-90b2-95c440f09291",
   "metadata": {},
   "source": [
    "Usefull links:\n",
    "-    https://levelup.gitconnected.com/5-types-of-arguments-in-python-function-definition-e0e2a2cafd29"
   ]
  },
  {
   "cell_type": "markdown",
   "id": "f3e1af8c-f615-4393-aef1-1cfd0e116648",
   "metadata": {},
   "source": [
    "### No-arg Function"
   ]
  },
  {
   "cell_type": "code",
   "execution_count": 9,
   "id": "881d0f62-c765-4aaa-9b95-f60aeeffc8c8",
   "metadata": {},
   "outputs": [],
   "source": [
    "def greet():\n",
    "    print(\"Hello!\")\n",
    "    print(\"Welcome!\")"
   ]
  },
  {
   "cell_type": "code",
   "execution_count": 10,
   "id": "c78bae6a-febd-40d0-a1ba-740b23fcf853",
   "metadata": {},
   "outputs": [
    {
     "name": "stdout",
     "output_type": "stream",
     "text": [
      "Start of the program\n",
      "Hello!\n",
      "Welcome!\n"
     ]
    }
   ],
   "source": [
    "print(\"Start of the program\")\n",
    "greet()    # function must be defined before calling it"
   ]
  },
  {
   "cell_type": "markdown",
   "id": "50ac3eb9-064e-46a8-a5b3-0709cd9c28bf",
   "metadata": {},
   "source": [
    "### Obligatory Arguments"
   ]
  },
  {
   "cell_type": "code",
   "execution_count": 5,
   "id": "55a86cf5-d393-4662-95fd-9f5440e0df05",
   "metadata": {},
   "outputs": [],
   "source": [
    "def greet_user(name):\n",
    "    print(f\"Hello {name}!\")"
   ]
  },
  {
   "cell_type": "code",
   "execution_count": 8,
   "id": "bf8458e4-fc16-4f2e-a91a-4ba770dd957f",
   "metadata": {},
   "outputs": [
    {
     "name": "stdout",
     "output_type": "stream",
     "text": [
      "Hello Wojtek!\n"
     ]
    }
   ],
   "source": [
    "greet_user(\"Wojtek\")    # argument is obligatory, if not provided the program will fail"
   ]
  },
  {
   "cell_type": "markdown",
   "id": "90f10684-3bfe-48ee-a742-5ca51b3d0c6c",
   "metadata": {},
   "source": [
    "### Default Arguments"
   ]
  },
  {
   "cell_type": "code",
   "execution_count": 12,
   "id": "290dcae0-036f-4fe8-86d4-14782e49dcf0",
   "metadata": {},
   "outputs": [],
   "source": [
    "def my_func(x = 1):\n",
    "    print(f'my_func:x={x}')"
   ]
  },
  {
   "cell_type": "code",
   "execution_count": 13,
   "id": "c52e2c5a-fce7-4c6f-8851-9de49397badd",
   "metadata": {},
   "outputs": [
    {
     "name": "stdout",
     "output_type": "stream",
     "text": [
      "my_func:x=1\n"
     ]
    }
   ],
   "source": [
    "my_func()"
   ]
  },
  {
   "cell_type": "code",
   "execution_count": 14,
   "id": "20cbd282-0ee1-4d41-82bc-f2d8dcaae256",
   "metadata": {},
   "outputs": [
    {
     "name": "stdout",
     "output_type": "stream",
     "text": [
      "my_func:x=5\n"
     ]
    }
   ],
   "source": [
    "my_func(5) # overrides the default when provided"
   ]
  },
  {
   "cell_type": "markdown",
   "id": "76bbb56f-051e-4076-ac28-9399fe4f81e6",
   "metadata": {},
   "source": [
    "### Mixed Arguments"
   ]
  },
  {
   "cell_type": "code",
   "execution_count": 17,
   "id": "22be4f15-c145-44ea-a413-dec389802fbb",
   "metadata": {},
   "outputs": [],
   "source": [
    "# Default arguments should follow args without defaults\n",
    "\n",
    "def my_func2(x, y=0):   # my_func2(y=2, x) won't work\n",
    "    print(f'my_func2: x={x}, y={y}')"
   ]
  },
  {
   "cell_type": "code",
   "execution_count": 18,
   "id": "de8380a1-60b5-4eef-abd5-7b9893f11e8d",
   "metadata": {},
   "outputs": [
    {
     "name": "stdout",
     "output_type": "stream",
     "text": [
      "my_func2: x=0, y=0\n",
      "my_func2: x=0, y=2\n"
     ]
    }
   ],
   "source": [
    "my_func2(0)\n",
    "my_func2(0, 2)"
   ]
  },
  {
   "cell_type": "markdown",
   "id": "511a868d-0ba3-4cca-b9e8-4564435b1143",
   "metadata": {},
   "source": [
    "### Calling a function"
   ]
  },
  {
   "cell_type": "code",
   "execution_count": 26,
   "id": "f615cc43-12af-47b9-badf-8c5fdcd7e10e",
   "metadata": {},
   "outputs": [],
   "source": [
    "def greet_user(first_name, last_name='X'):\n",
    "    print(f\"Hello {first_name} {last_name}\")"
   ]
  },
  {
   "cell_type": "markdown",
   "id": "babc91c4-a73b-46da-97d4-6dc82915ff01",
   "metadata": {},
   "source": [
    "#### 1. Positional Args"
   ]
  },
  {
   "cell_type": "code",
   "execution_count": 27,
   "id": "f21f0f4f-d09b-4f30-9bdc-67843da32545",
   "metadata": {},
   "outputs": [
    {
     "name": "stdout",
     "output_type": "stream",
     "text": [
      "Hello W K\n"
     ]
    }
   ],
   "source": [
    "greet_user(\"W\", \"K\") "
   ]
  },
  {
   "cell_type": "markdown",
   "id": "dfb39e8b-4451-4e59-8211-0a6efc78bbf6",
   "metadata": {},
   "source": [
    "#### 2. Named Args"
   ]
  },
  {
   "cell_type": "code",
   "execution_count": 29,
   "id": "98981fe5-f55a-49b6-8466-edffe0c34ca1",
   "metadata": {},
   "outputs": [
    {
     "name": "stdout",
     "output_type": "stream",
     "text": [
      "Hello K W\n",
      "Hello K W\n",
      "Hello W X\n"
     ]
    }
   ],
   "source": [
    "# - argumenty nazwane mogą być podane w dowolnej kolejności\n",
    "# - wystarczy podawać tylko argumenty bez wart. domyślnej\n",
    "# - argumenty nazwane muszą następować zawsze po arg pozycyjnych\n",
    "\n",
    "greet_user(last_name=\"W\", first_name=\"K\")\n",
    "greet_user(first_name=\"K\", last_name=\"W\")\n",
    "greet_user(first_name=\"W\")"
   ]
  },
  {
   "cell_type": "markdown",
   "id": "92dc4add-dbea-4c3e-8adf-8409c9e20b7f",
   "metadata": {},
   "source": [
    "### Function Return Value"
   ]
  },
  {
   "cell_type": "code",
   "execution_count": 31,
   "id": "817ccde0-f269-4bb8-8579-4d3eef0a7e12",
   "metadata": {},
   "outputs": [],
   "source": [
    "def calculate_total(a, b, c):\n",
    "    total = a + b + c\n",
    "    print(\"TOTAL:\", total)\n",
    "    return total    # if a function does not return anything (no 'return' statement) this means functrion returns None"
   ]
  },
  {
   "cell_type": "code",
   "execution_count": 32,
   "id": "c4267a19-0067-4349-b1a2-a08b94173de3",
   "metadata": {},
   "outputs": [
    {
     "name": "stdout",
     "output_type": "stream",
     "text": [
      "TOTAL: 6\n"
     ]
    },
    {
     "data": {
      "text/plain": [
       "6"
      ]
     },
     "execution_count": 32,
     "metadata": {},
     "output_type": "execute_result"
    }
   ],
   "source": [
    "t = calculate_total(1, 2, 3)\n",
    "t"
   ]
  },
  {
   "cell_type": "markdown",
   "id": "3e5a43ec-4da4-44a8-8581-68e1eb72cb05",
   "metadata": {},
   "source": [
    "### Variable Length Arguments"
   ]
  },
  {
   "cell_type": "code",
   "execution_count": 34,
   "id": "952db3c2-1904-49d0-ba88-145be2693429",
   "metadata": {},
   "outputs": [],
   "source": [
    "# variable-lenght args a.k.a arbitrary args, denoted with '*'\n",
    "# must follow the fixed args\n",
    "# are handled as tuples"
   ]
  },
  {
   "cell_type": "code",
   "execution_count": 35,
   "id": "4845c8c4-1f07-44f6-877b-90d9b9f99af8",
   "metadata": {},
   "outputs": [],
   "source": [
    "def add(*b):\n",
    "    result = 0\n",
    "    for i in b:\n",
    "         result = result + i\n",
    "    return result"
   ]
  },
  {
   "cell_type": "code",
   "execution_count": 37,
   "id": "d9382a81-449d-4b29-8652-f2f354e545ad",
   "metadata": {},
   "outputs": [
    {
     "data": {
      "text/plain": [
       "10"
      ]
     },
     "execution_count": 37,
     "metadata": {},
     "output_type": "execute_result"
    }
   ],
   "source": [
    "add(10)"
   ]
  },
  {
   "cell_type": "code",
   "execution_count": 38,
   "id": "87ef111d-8676-4835-9feb-4b5c0d6f21a1",
   "metadata": {},
   "outputs": [
    {
     "data": {
      "text/plain": [
       "9"
      ]
     },
     "execution_count": 38,
     "metadata": {},
     "output_type": "execute_result"
    }
   ],
   "source": [
    "add(1, 3, 5)"
   ]
  },
  {
   "cell_type": "code",
   "execution_count": 39,
   "id": "0d12a397-e1ef-47ac-a29a-42b166bd96a9",
   "metadata": {},
   "outputs": [
    {
     "data": {
      "text/plain": [
       "0"
      ]
     },
     "execution_count": 39,
     "metadata": {},
     "output_type": "execute_result"
    }
   ],
   "source": [
    "add()"
   ]
  },
  {
   "cell_type": "markdown",
   "id": "43130859-b989-4ef5-a531-0816aeae5050",
   "metadata": {},
   "source": [
    "### Unpacking in Function Call"
   ]
  },
  {
   "cell_type": "code",
   "execution_count": 41,
   "id": "1c2e1e24-5548-4e0e-99e0-7df1a397549a",
   "metadata": {},
   "outputs": [],
   "source": [
    "def justPrint(*x) :\n",
    "    for i in x:\n",
    "        print(f\"just print= {i}\")"
   ]
  },
  {
   "cell_type": "code",
   "execution_count": 42,
   "id": "ec277524-8022-4c52-89a0-91d4a9f894bb",
   "metadata": {},
   "outputs": [],
   "source": [
    "tuple1 = ('a1', 'a2', 'a3')"
   ]
  },
  {
   "cell_type": "code",
   "execution_count": 43,
   "id": "65d7d3ee-ca1c-4b10-b4d1-72e31a98f16b",
   "metadata": {},
   "outputs": [
    {
     "name": "stdout",
     "output_type": "stream",
     "text": [
      "just print= a1\n",
      "just print= a2\n",
      "just print= a3\n"
     ]
    }
   ],
   "source": [
    "justPrint(*tuple1) # this is equal to call justPrint(a1, a2, a3)"
   ]
  },
  {
   "cell_type": "markdown",
   "id": "7ba1c702-9388-41e0-9f54-618aa389e7b1",
   "metadata": {},
   "source": [
    "### Strong Typing"
   ]
  },
  {
   "cell_type": "code",
   "execution_count": 49,
   "id": "2d3162ac-82e6-44c4-99cc-1946794af378",
   "metadata": {},
   "outputs": [],
   "source": [
    "# defined argument type\n",
    "def greetings1(name: str):\n",
    "    print('Hello ' + name + '!')"
   ]
  },
  {
   "cell_type": "code",
   "execution_count": 50,
   "id": "7fe9983c-6dac-40c1-9f5b-dadebbf77a19",
   "metadata": {},
   "outputs": [
    {
     "name": "stdout",
     "output_type": "stream",
     "text": [
      "Hello Wojtek!\n"
     ]
    }
   ],
   "source": [
    "greetings1('Wojtek')"
   ]
  },
  {
   "cell_type": "code",
   "execution_count": 51,
   "id": "10d51b6c-f37a-4949-bab1-9b07352b961b",
   "metadata": {},
   "outputs": [],
   "source": [
    "# greetings1(10) # won't work"
   ]
  },
  {
   "cell_type": "code",
   "execution_count": 53,
   "id": "f5ae0304-416b-4f54-9848-c8770cadabd3",
   "metadata": {},
   "outputs": [],
   "source": [
    "# defined return type\n",
    "def greetings2(name: str) -> str: # this is useful when using the help (it shows what the func accepts and what returns)\n",
    "    x: str = 'Hello ' + name + '!'\n",
    "    print(x)\n",
    "    return x"
   ]
  },
  {
   "cell_type": "code",
   "execution_count": null,
   "id": "ab815a81-6c25-40d0-af1d-16d28bc16cb2",
   "metadata": {},
   "outputs": [],
   "source": []
  }
 ],
 "metadata": {
  "kernelspec": {
   "display_name": "Python 3 (ipykernel)",
   "language": "python",
   "name": "python3"
  },
  "language_info": {
   "codemirror_mode": {
    "name": "ipython",
    "version": 3
   },
   "file_extension": ".py",
   "mimetype": "text/x-python",
   "name": "python",
   "nbconvert_exporter": "python",
   "pygments_lexer": "ipython3",
   "version": "3.9.7"
  }
 },
 "nbformat": 4,
 "nbformat_minor": 5
}
