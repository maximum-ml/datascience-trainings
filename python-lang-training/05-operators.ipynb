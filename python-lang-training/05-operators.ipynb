{
 "cells": [
  {
   "cell_type": "markdown",
   "id": "87202c71-ee82-4638-8523-30429eaff42e",
   "metadata": {},
   "source": [
    "# Operators"
   ]
  },
  {
   "cell_type": "markdown",
   "id": "2a44e8d6-4c5a-45b1-a57a-ac98923d005b",
   "metadata": {},
   "source": [
    "### Aritmethic Operators"
   ]
  },
  {
   "cell_type": "code",
   "execution_count": 4,
   "id": "d54f86a8-4b9c-474c-9044-065063bec13b",
   "metadata": {},
   "outputs": [],
   "source": [
    "a = 10\n",
    "b = 2"
   ]
  },
  {
   "cell_type": "code",
   "execution_count": 5,
   "id": "d3d2f2aa-816e-4de4-aecd-694433ded075",
   "metadata": {},
   "outputs": [
    {
     "name": "stdout",
     "output_type": "stream",
     "text": [
      "12\n"
     ]
    }
   ],
   "source": [
    "print(a + b)"
   ]
  },
  {
   "cell_type": "code",
   "execution_count": 6,
   "id": "c386d6f9-a2e3-4cb8-8127-bcc442a66ef2",
   "metadata": {},
   "outputs": [
    {
     "name": "stdout",
     "output_type": "stream",
     "text": [
      "8\n"
     ]
    }
   ],
   "source": [
    "print(a - b)"
   ]
  },
  {
   "cell_type": "code",
   "execution_count": 7,
   "id": "666f91ef-2a06-44ac-a1f4-d47bd75b3862",
   "metadata": {},
   "outputs": [
    {
     "name": "stdout",
     "output_type": "stream",
     "text": [
      "20\n"
     ]
    }
   ],
   "source": [
    "print(a * b)"
   ]
  },
  {
   "cell_type": "code",
   "execution_count": 8,
   "id": "05b921bd-0e01-4876-97a0-ca2d59ce6e78",
   "metadata": {},
   "outputs": [
    {
     "name": "stdout",
     "output_type": "stream",
     "text": [
      "100\n"
     ]
    }
   ],
   "source": [
    "print(a ** b)   # potęgowanie"
   ]
  },
  {
   "cell_type": "code",
   "execution_count": 9,
   "id": "73baa72f-61de-4f11-9964-843050cf8509",
   "metadata": {},
   "outputs": [
    {
     "name": "stdout",
     "output_type": "stream",
     "text": [
      "5.0\n"
     ]
    }
   ],
   "source": [
    "print(a / b)    # dzielenie dwóch liczb całkowitych daje liczbę ułamkową"
   ]
  },
  {
   "cell_type": "code",
   "execution_count": 10,
   "id": "5af73da4-9a9c-442d-a16d-4498b6df88f9",
   "metadata": {},
   "outputs": [
    {
     "name": "stdout",
     "output_type": "stream",
     "text": [
      "5\n"
     ]
    }
   ],
   "source": [
    "print(a // b)   # dzielenie całkowitoloczbowe"
   ]
  },
  {
   "cell_type": "code",
   "execution_count": 11,
   "id": "e631cf09-4ff0-4a7f-a238-a777c4f06739",
   "metadata": {},
   "outputs": [
    {
     "name": "stdout",
     "output_type": "stream",
     "text": [
      "0\n"
     ]
    }
   ],
   "source": [
    "print(a % b)    # modulo - reszta z dzielenia"
   ]
  },
  {
   "cell_type": "markdown",
   "id": "5d36f0d8-db51-472c-8c4c-0f67f32594e7",
   "metadata": {},
   "source": [
    "### Self Assigment Operators"
   ]
  },
  {
   "cell_type": "code",
   "execution_count": 17,
   "id": "bf807891-8808-4bd3-8424-ef3f646a4bc2",
   "metadata": {},
   "outputs": [
    {
     "name": "stdout",
     "output_type": "stream",
     "text": [
      "15\n"
     ]
    }
   ],
   "source": [
    "a = 10\n",
    "a += 5\n",
    "print(a)"
   ]
  },
  {
   "cell_type": "code",
   "execution_count": 18,
   "id": "af8037af-d829-4110-aa78-f73a44dcbbef",
   "metadata": {},
   "outputs": [
    {
     "name": "stdout",
     "output_type": "stream",
     "text": [
      "10\n"
     ]
    }
   ],
   "source": [
    "a -= 5\n",
    "print(a)"
   ]
  },
  {
   "cell_type": "code",
   "execution_count": 19,
   "id": "684aaaf8-c61c-42b6-9515-c5c03f78c3b7",
   "metadata": {},
   "outputs": [
    {
     "name": "stdout",
     "output_type": "stream",
     "text": [
      "50\n"
     ]
    }
   ],
   "source": [
    "a *= 5\n",
    "print(a)"
   ]
  },
  {
   "cell_type": "code",
   "execution_count": 20,
   "id": "e456501f-f109-45cb-ad85-9743f7f39260",
   "metadata": {},
   "outputs": [
    {
     "name": "stdout",
     "output_type": "stream",
     "text": [
      "5.0\n"
     ]
    }
   ],
   "source": [
    "a /= 10\n",
    "print(a)"
   ]
  },
  {
   "cell_type": "code",
   "execution_count": null,
   "id": "cf453b4a-d27b-4658-af41-760321c642bf",
   "metadata": {},
   "outputs": [],
   "source": []
  }
 ],
 "metadata": {
  "kernelspec": {
   "display_name": "Python 3 (ipykernel)",
   "language": "python",
   "name": "python3"
  },
  "language_info": {
   "codemirror_mode": {
    "name": "ipython",
    "version": 3
   },
   "file_extension": ".py",
   "mimetype": "text/x-python",
   "name": "python",
   "nbconvert_exporter": "python",
   "pygments_lexer": "ipython3",
   "version": "3.9.7"
  }
 },
 "nbformat": 4,
 "nbformat_minor": 5
}
