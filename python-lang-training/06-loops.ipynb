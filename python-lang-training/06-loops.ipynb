{
 "cells": [
  {
   "cell_type": "markdown",
   "id": "0fa34580-d456-441d-ab73-cb54b231ffbf",
   "metadata": {},
   "source": [
    "# Loops"
   ]
  },
  {
   "cell_type": "markdown",
   "id": "ce6fc09b-7620-4d54-bea5-f284699ceb9a",
   "metadata": {},
   "source": [
    "## While loop"
   ]
  },
  {
   "cell_type": "raw",
   "id": "e7d311c6-7257-4a6c-82f1-1a553abe23eb",
   "metadata": {},
   "source": [
    "Syntax: \n",
    "    while [condition] :"
   ]
  },
  {
   "cell_type": "code",
   "execution_count": 7,
   "id": "bf1e0d4d-28ed-4bea-b535-7ee43d1b56ec",
   "metadata": {},
   "outputs": [
    {
     "name": "stdout",
     "output_type": "stream",
     "text": [
      "X\n",
      "X\n",
      "X\n"
     ]
    }
   ],
   "source": [
    "# simple while loop\n",
    "i = 1\n",
    "while i <= 3 :\n",
    "    print(\"X\")\n",
    "    i += 1"
   ]
  },
  {
   "cell_type": "code",
   "execution_count": 8,
   "id": "f20b7501-db7c-444a-b307-759f8bdb4120",
   "metadata": {},
   "outputs": [
    {
     "name": "stdout",
     "output_type": "stream",
     "text": [
      "Y\n",
      "Y\n",
      "Y\n"
     ]
    }
   ],
   "source": [
    "# simple while loop with break\n",
    "j = 1\n",
    "while j <= 5 :\n",
    "    print(\"Y\")\n",
    "    if j % 3 == 0:\n",
    "        break\n",
    "    j += 1"
   ]
  },
  {
   "cell_type": "code",
   "execution_count": 9,
   "id": "93369133-b212-4757-ae5f-45d36d6aa183",
   "metadata": {},
   "outputs": [
    {
     "name": "stdout",
     "output_type": "stream",
     "text": [
      "Z\n",
      "Z\n",
      "Z\n",
      "Z!!!\n"
     ]
    }
   ],
   "source": [
    "# while loop with else\n",
    "k = 1\n",
    "while k <= 3 :\n",
    "    print(\"Z\")\n",
    "    k += 1\n",
    "else :\n",
    "    print(\"Z!!!\")   # this instruction will be executed only when the condition inside while statement wont' be fullfilled"
   ]
  },
  {
   "cell_type": "code",
   "execution_count": null,
   "id": "dcf5763b-7319-43e1-9f55-a7a7a05f0f56",
   "metadata": {},
   "outputs": [],
   "source": []
  },
  {
   "cell_type": "markdown",
   "id": "fe624471-e057-427f-98e3-50e4f329115e",
   "metadata": {},
   "source": [
    "## For Loop"
   ]
  },
  {
   "cell_type": "code",
   "execution_count": 12,
   "id": "043ca213-ccd9-46bc-abb2-77b9bcf9505f",
   "metadata": {},
   "outputs": [
    {
     "name": "stdout",
     "output_type": "stream",
     "text": [
      "a\n",
      "b\n",
      "c\n",
      "d\n"
     ]
    }
   ],
   "source": [
    "# For Loop - syntax: for [variable] in [list|string|range]\n",
    "\n",
    "for item in ['a', 'b', 'c', 'd'] :\n",
    "    print(item)"
   ]
  },
  {
   "cell_type": "code",
   "execution_count": 1,
   "id": "288dd611-238e-47c7-8d56-34e88d2308cf",
   "metadata": {},
   "outputs": [
    {
     "name": "stdout",
     "output_type": "stream",
     "text": [
      "item= 0\n",
      "item= 1\n",
      "item= 2\n",
      "item= 3\n",
      "item= 4\n"
     ]
    }
   ],
   "source": [
    "for item in range(5) :  # 0,1...4\n",
    "    print(\"item=\", item)"
   ]
  },
  {
   "cell_type": "code",
   "execution_count": 2,
   "id": "dd719ab3-2637-4a37-8614-bfea0461887c",
   "metadata": {},
   "outputs": [
    {
     "name": "stdout",
     "output_type": "stream",
     "text": [
      "x=1, y=2\n",
      "x=3, y=4\n",
      "x=5, y=6\n"
     ]
    }
   ],
   "source": [
    "for x, y in [[1,2], [3,4], [5,6]]:\n",
    "    print (f'x={x}, y={y}')"
   ]
  },
  {
   "cell_type": "code",
   "execution_count": null,
   "id": "4d85f987-a1e7-4c3d-8fde-af863a8906d5",
   "metadata": {},
   "outputs": [],
   "source": []
  },
  {
   "cell_type": "markdown",
   "id": "c86d7654-7df8-42b4-93c4-64f925c70bfc",
   "metadata": {},
   "source": [
    "## Indexing"
   ]
  },
  {
   "cell_type": "code",
   "execution_count": 17,
   "id": "58f806ca-c421-49bd-9822-92cb35ebdf69",
   "metadata": {},
   "outputs": [
    {
     "name": "stdout",
     "output_type": "stream",
     "text": [
      "idx=0, item=1\n",
      "idx=1, item=2\n",
      "idx=2, item=3\n",
      "idx=3, item=4\n",
      "idx=4, item=5\n"
     ]
    }
   ],
   "source": [
    "for index, item in enumerate([1, 2, 3, 4, 5]):\n",
    "    print(f'idx={index}, item={item}')"
   ]
  },
  {
   "cell_type": "code",
   "execution_count": 18,
   "id": "ca0f2432-ca0e-4869-a475-001a775ee39b",
   "metadata": {},
   "outputs": [
    {
     "name": "stdout",
     "output_type": "stream",
     "text": [
      "idx=1, item=1\n",
      "idx=2, item=2\n",
      "idx=3, item=3\n"
     ]
    }
   ],
   "source": [
    "for index, item in enumerate([1, 2, 3], start = 1):\n",
    "    print(f'idx={index}, item={item}')"
   ]
  },
  {
   "cell_type": "markdown",
   "id": "a6386fed-53df-4b3f-a7e1-22eae1043cd8",
   "metadata": {},
   "source": [
    "## Yield - Generators"
   ]
  },
  {
   "cell_type": "code",
   "execution_count": 19,
   "id": "5181d445-2060-4579-b2fe-c42815ff7e41",
   "metadata": {},
   "outputs": [],
   "source": [
    "# Yield is a keyword that is used like return, except the function will return a generator.\n",
    "# The yield keyword in Python is used to create a generator function that can be used within a for loop, as illustrated below.\n",
    "def some_numbers():\n",
    "    yield 10\n",
    "    yield 20\n",
    "    yield 30"
   ]
  },
  {
   "cell_type": "code",
   "execution_count": 20,
   "id": "e5d4df1f-58e7-4c49-bd3b-6d681e348096",
   "metadata": {},
   "outputs": [
    {
     "name": "stdout",
     "output_type": "stream",
     "text": [
      "10\n",
      "20\n",
      "30\n"
     ]
    }
   ],
   "source": [
    "for value in some_numbers():\n",
    "    print(value)"
   ]
  },
  {
   "cell_type": "markdown",
   "id": "f53199bc-8671-4522-bd1e-ae2a59a02f98",
   "metadata": {},
   "source": [
    "## Range"
   ]
  },
  {
   "cell_type": "code",
   "execution_count": 2,
   "id": "a49ee678-3c1a-4181-b8fa-e8b6f2e12ce9",
   "metadata": {},
   "outputs": [
    {
     "data": {
      "text/plain": [
       "(range(0, 5), range)"
      ]
     },
     "execution_count": 2,
     "metadata": {},
     "output_type": "execute_result"
    }
   ],
   "source": [
    "r = range(5) # simple range from 0 to 4\n",
    "r, type(r)"
   ]
  },
  {
   "cell_type": "code",
   "execution_count": 3,
   "id": "6e7a627a-8c27-4421-93bb-c0b8ce0ea42d",
   "metadata": {},
   "outputs": [
    {
     "name": "stdout",
     "output_type": "stream",
     "text": [
      "i= 0\n",
      "i= 1\n",
      "i= 2\n",
      "i= 3\n",
      "i= 4\n"
     ]
    }
   ],
   "source": [
    "for i in r:\n",
    "    print('i=', i)"
   ]
  },
  {
   "cell_type": "code",
   "execution_count": 4,
   "id": "612677e9-de23-4b0d-8246-04ced891b974",
   "metadata": {},
   "outputs": [
    {
     "data": {
      "text/plain": [
       "range(1, 10, 2)"
      ]
     },
     "execution_count": 4,
     "metadata": {},
     "output_type": "execute_result"
    }
   ],
   "source": [
    "r = range(1, 10, 2) # range with step 2\n",
    "r"
   ]
  },
  {
   "cell_type": "code",
   "execution_count": 5,
   "id": "b6cd1652-d2fa-4253-939b-99382fd6bc83",
   "metadata": {},
   "outputs": [
    {
     "name": "stdout",
     "output_type": "stream",
     "text": [
      "i=1\n",
      "i=3\n",
      "i=5\n",
      "i=7\n",
      "i=9\n"
     ]
    }
   ],
   "source": [
    "for i in r :\n",
    "    print(f'i={i}')"
   ]
  },
  {
   "cell_type": "markdown",
   "id": "de0ee7b8-1697-4ccb-91d1-9d4b8616aa23",
   "metadata": {},
   "source": [
    "## NumPy Range"
   ]
  },
  {
   "cell_type": "code",
   "execution_count": 7,
   "id": "505f2e26-89ec-4333-aea6-d266376984a8",
   "metadata": {},
   "outputs": [],
   "source": [
    "import numpy as np"
   ]
  },
  {
   "cell_type": "code",
   "execution_count": 8,
   "id": "c3c50b51-16ec-4b66-a6d5-f45c53080644",
   "metadata": {},
   "outputs": [
    {
     "name": "stdout",
     "output_type": "stream",
     "text": [
      "ar=0.0\n",
      "ar=0.1\n",
      "ar=0.2\n",
      "ar=0.30000000000000004\n",
      "ar=0.4\n",
      "ar=0.5\n",
      "ar=0.6000000000000001\n",
      "ar=0.7000000000000001\n",
      "ar=0.8\n",
      "ar=0.9\n"
     ]
    }
   ],
   "source": [
    "for i in np.arange(0, 1, 0.1):      # np np.arange allows to iterate over fractional values\n",
    "    print(f'ar={i}')"
   ]
  },
  {
   "cell_type": "code",
   "execution_count": null,
   "id": "1ab20724-4d25-4e62-af23-97b860e96439",
   "metadata": {},
   "outputs": [],
   "source": []
  }
 ],
 "metadata": {
  "kernelspec": {
   "display_name": "Python 3 (ipykernel)",
   "language": "python",
   "name": "python3"
  },
  "language_info": {
   "codemirror_mode": {
    "name": "ipython",
    "version": 3
   },
   "file_extension": ".py",
   "mimetype": "text/x-python",
   "name": "python",
   "nbconvert_exporter": "python",
   "pygments_lexer": "ipython3",
   "version": "3.9.13"
  }
 },
 "nbformat": 4,
 "nbformat_minor": 5
}
