{
 "cells": [
  {
   "cell_type": "markdown",
   "id": "79f9e4de-b595-4138-b666-46ff855b6c95",
   "metadata": {},
   "source": [
    "# Work with files and directories"
   ]
  },
  {
   "cell_type": "code",
   "execution_count": 2,
   "id": "9ed132dc-c177-4ff0-9a1d-a1ba28854c57",
   "metadata": {},
   "outputs": [],
   "source": [
    "import os "
   ]
  },
  {
   "cell_type": "markdown",
   "id": "8da78fc6-a061-4ace-9a0b-828fbc953dcb",
   "metadata": {},
   "source": [
    "### Check if directory is empty"
   ]
  },
  {
   "cell_type": "code",
   "execution_count": 3,
   "id": "e532c08c-690d-4476-961a-771e472aa698",
   "metadata": {},
   "outputs": [
    {
     "name": "stdout",
     "output_type": "stream",
     "text": [
      "Directory [/home] is NOT empty.\n"
     ]
    }
   ],
   "source": [
    "dir_name = '/home'\n",
    "\n",
    "if len(os.listdir(dir_name)) == 0:\n",
    "    print ('Directory [' + dir_name + '] is empty.')\n",
    "else :\n",
    "    print ('Directory [' + dir_name + '] is NOT empty.')"
   ]
  },
  {
   "cell_type": "markdown",
   "id": "6ee38c56-40c3-4797-b2a1-5c05b346ba93",
   "metadata": {},
   "source": [
    "### Check if directory exists"
   ]
  },
  {
   "cell_type": "code",
   "execution_count": 5,
   "id": "2c034846-5d7e-4245-b38a-eedaedfda5eb",
   "metadata": {},
   "outputs": [],
   "source": [
    "from pathlib import Path"
   ]
  },
  {
   "cell_type": "code",
   "execution_count": 6,
   "id": "c7150d55-e3cd-4b25-859b-3982743b8db4",
   "metadata": {},
   "outputs": [
    {
     "name": "stdout",
     "output_type": "stream",
     "text": [
      "False\n"
     ]
    }
   ],
   "source": [
    "path = Path(\"test123\")\n",
    "print(path.exists())"
   ]
  },
  {
   "cell_type": "code",
   "execution_count": null,
   "id": "59a4d3bd-62f2-4ac3-aef0-309705b0ce78",
   "metadata": {},
   "outputs": [],
   "source": []
  }
 ],
 "metadata": {
  "kernelspec": {
   "display_name": "Python 3 (ipykernel)",
   "language": "python",
   "name": "python3"
  },
  "language_info": {
   "codemirror_mode": {
    "name": "ipython",
    "version": 3
   },
   "file_extension": ".py",
   "mimetype": "text/x-python",
   "name": "python",
   "nbconvert_exporter": "python",
   "pygments_lexer": "ipython3",
   "version": "3.8.10"
  }
 },
 "nbformat": 4,
 "nbformat_minor": 5
}
