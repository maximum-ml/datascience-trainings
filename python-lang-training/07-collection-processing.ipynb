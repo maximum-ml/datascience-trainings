{
 "cells": [
  {
   "cell_type": "markdown",
   "id": "7792e3e4-7ab8-42f3-96ae-a4bce4288136",
   "metadata": {},
   "source": [
    "# Collection Processing / Streams"
   ]
  },
  {
   "cell_type": "code",
   "execution_count": 7,
   "id": "139f0b58-74a7-4298-95da-ba2ed842056a",
   "metadata": {},
   "outputs": [],
   "source": [
    "l1 = [1, 2, 3, 4, 5, 6, 7, 8, 9]"
   ]
  },
  {
   "cell_type": "markdown",
   "id": "d8ca15f2-10f5-4baa-b3a9-5332e534011c",
   "metadata": {},
   "source": [
    "#### map()"
   ]
  },
  {
   "cell_type": "code",
   "execution_count": 3,
   "id": "9be2e988-b381-4a38-9b87-0c4393a427d5",
   "metadata": {},
   "outputs": [],
   "source": [
    "def f1(input: int) -> int:\n",
    "    return 2 * input"
   ]
  },
  {
   "cell_type": "code",
   "execution_count": 6,
   "id": "a06cf301-23a0-4e6d-b39e-45ade5ad0c63",
   "metadata": {},
   "outputs": [
    {
     "data": {
      "text/plain": [
       "[2, 4, 6, 8, 10, 12, 14, 16, 18]"
      ]
     },
     "execution_count": 6,
     "metadata": {},
     "output_type": "execute_result"
    }
   ],
   "source": [
    "out1 = map(f1, l1)\n",
    "out1\n",
    "list(out1)"
   ]
  },
  {
   "cell_type": "markdown",
   "id": "eea6bc34-f891-4bfa-aced-c69fd34105b8",
   "metadata": {},
   "source": [
    "#### filter()"
   ]
  },
  {
   "cell_type": "code",
   "execution_count": 8,
   "id": "bd82a6ab-b9bd-49f0-bf33-f7da15d9828c",
   "metadata": {},
   "outputs": [],
   "source": [
    "def f2(input: int) -> int:\n",
    "    return input >= 5"
   ]
  },
  {
   "cell_type": "code",
   "execution_count": 9,
   "id": "d6fe8983-9bd3-4694-baab-97e30040f841",
   "metadata": {},
   "outputs": [
    {
     "data": {
      "text/plain": [
       "[5, 6, 7, 8, 9]"
      ]
     },
     "execution_count": 9,
     "metadata": {},
     "output_type": "execute_result"
    }
   ],
   "source": [
    "out2 = filter(f2, l1)\n",
    "list(out2)"
   ]
  },
  {
   "cell_type": "code",
   "execution_count": null,
   "id": "5fe7ce23-d2fd-4884-9daa-a897c72ca3df",
   "metadata": {},
   "outputs": [],
   "source": []
  }
 ],
 "metadata": {
  "kernelspec": {
   "display_name": "Python 3 (ipykernel)",
   "language": "python",
   "name": "python3"
  },
  "language_info": {
   "codemirror_mode": {
    "name": "ipython",
    "version": 3
   },
   "file_extension": ".py",
   "mimetype": "text/x-python",
   "name": "python",
   "nbconvert_exporter": "python",
   "pygments_lexer": "ipython3",
   "version": "3.9.7"
  }
 },
 "nbformat": 4,
 "nbformat_minor": 5
}
