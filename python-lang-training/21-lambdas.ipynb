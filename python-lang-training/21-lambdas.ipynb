{
 "cells": [
  {
   "cell_type": "code",
   "execution_count": 1,
   "id": "385f0a4a-a642-4843-9eaf-16ad18532f89",
   "metadata": {},
   "outputs": [],
   "source": [
    "# Lambdas"
   ]
  },
  {
   "cell_type": "code",
   "execution_count": 12,
   "id": "7353d79b-75bf-47c8-b3b5-30308fe712cc",
   "metadata": {},
   "outputs": [],
   "source": [
    "# function def\n",
    "def my_function(x):\n",
    "    return x + 10"
   ]
  },
  {
   "cell_type": "code",
   "execution_count": 13,
   "id": "d64926c9-8eae-4d39-801a-f255c0dcdd59",
   "metadata": {},
   "outputs": [
    {
     "data": {
      "text/plain": [
       "function"
      ]
     },
     "execution_count": 13,
     "metadata": {},
     "output_type": "execute_result"
    }
   ],
   "source": [
    "type(my_function)"
   ]
  },
  {
   "cell_type": "code",
   "execution_count": 8,
   "id": "3f9164c3-44e9-4945-a176-b7a61525eaad",
   "metadata": {},
   "outputs": [
    {
     "data": {
      "text/plain": [
       "15"
      ]
     },
     "execution_count": 8,
     "metadata": {},
     "output_type": "execute_result"
    }
   ],
   "source": [
    "y = my_function(5)\n",
    "y"
   ]
  },
  {
   "cell_type": "code",
   "execution_count": 14,
   "id": "6e9c760d-fcb4-4720-96a1-bbd09ba61f30",
   "metadata": {},
   "outputs": [],
   "source": [
    "# function def\n",
    "my_lambda = lambda x : x + 10"
   ]
  },
  {
   "cell_type": "code",
   "execution_count": 15,
   "id": "db17334a-0a4a-47c6-b931-4817238dd9bb",
   "metadata": {},
   "outputs": [
    {
     "data": {
      "text/plain": [
       "function"
      ]
     },
     "execution_count": 15,
     "metadata": {},
     "output_type": "execute_result"
    }
   ],
   "source": [
    "type(my_lambda)"
   ]
  },
  {
   "cell_type": "code",
   "execution_count": 9,
   "id": "e5e12b5c-328e-4377-8f4f-ab85ea9caadc",
   "metadata": {},
   "outputs": [
    {
     "data": {
      "text/plain": [
       "15"
      ]
     },
     "execution_count": 9,
     "metadata": {},
     "output_type": "execute_result"
    }
   ],
   "source": [
    "y = my_lambda(5)\n",
    "y"
   ]
  },
  {
   "cell_type": "code",
   "execution_count": null,
   "id": "668c472c-02e1-4fea-89f4-a61eb040f18c",
   "metadata": {},
   "outputs": [],
   "source": []
  }
 ],
 "metadata": {
  "kernelspec": {
   "display_name": "Python 3 (ipykernel)",
   "language": "python",
   "name": "python3"
  },
  "language_info": {
   "codemirror_mode": {
    "name": "ipython",
    "version": 3
   },
   "file_extension": ".py",
   "mimetype": "text/x-python",
   "name": "python",
   "nbconvert_exporter": "python",
   "pygments_lexer": "ipython3",
   "version": "3.8.10"
  }
 },
 "nbformat": 4,
 "nbformat_minor": 5
}
