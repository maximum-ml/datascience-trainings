{
 "cells": [
  {
   "cell_type": "markdown",
   "id": "284bce6f-d2a3-4f05-ae74-b4b259d52059",
   "metadata": {},
   "source": [
    "# Lambdas"
   ]
  },
  {
   "cell_type": "markdown",
   "id": "dfe951a1-c266-40e4-a397-a30d340e8fc9",
   "metadata": {},
   "source": [
    "### Standard function definition:"
   ]
  },
  {
   "cell_type": "code",
   "execution_count": null,
   "id": "13c18c5a-4e8f-4196-a884-43bcc0fc87bd",
   "metadata": {},
   "outputs": [],
   "source": [
    "def my_function(x):\n",
    "    return x + 10"
   ]
  },
  {
   "cell_type": "code",
   "execution_count": 13,
   "id": "d64926c9-8eae-4d39-801a-f255c0dcdd59",
   "metadata": {},
   "outputs": [
    {
     "data": {
      "text/plain": [
       "function"
      ]
     },
     "execution_count": 13,
     "metadata": {},
     "output_type": "execute_result"
    }
   ],
   "source": [
    "type(my_function)"
   ]
  },
  {
   "cell_type": "code",
   "execution_count": 2,
   "id": "3f9164c3-44e9-4945-a176-b7a61525eaad",
   "metadata": {},
   "outputs": [
    {
     "data": {
      "text/plain": [
       "15"
      ]
     },
     "execution_count": 2,
     "metadata": {},
     "output_type": "execute_result"
    }
   ],
   "source": [
    "y = my_function(5)\n",
    "y"
   ]
  },
  {
   "cell_type": "markdown",
   "id": "a16ca3f7-808c-4678-af3f-08ceae3dea9b",
   "metadata": {},
   "source": [
    "### Lambda definition"
   ]
  },
  {
   "cell_type": "markdown",
   "id": "27858e5d-d3b4-4e51-a03c-265441f9a600",
   "metadata": {},
   "source": [
    "#### Single arg"
   ]
  },
  {
   "cell_type": "code",
   "execution_count": 4,
   "id": "6e9c760d-fcb4-4720-96a1-bbd09ba61f30",
   "metadata": {},
   "outputs": [],
   "source": [
    "my_lambda = lambda x : x + 10"
   ]
  },
  {
   "cell_type": "code",
   "execution_count": 5,
   "id": "db17334a-0a4a-47c6-b931-4817238dd9bb",
   "metadata": {},
   "outputs": [
    {
     "data": {
      "text/plain": [
       "function"
      ]
     },
     "execution_count": 5,
     "metadata": {},
     "output_type": "execute_result"
    }
   ],
   "source": [
    "type(my_lambda)"
   ]
  },
  {
   "cell_type": "code",
   "execution_count": 9,
   "id": "e5e12b5c-328e-4377-8f4f-ab85ea9caadc",
   "metadata": {},
   "outputs": [
    {
     "data": {
      "text/plain": [
       "15"
      ]
     },
     "execution_count": 9,
     "metadata": {},
     "output_type": "execute_result"
    }
   ],
   "source": [
    "y = my_lambda(5)\n",
    "y"
   ]
  },
  {
   "cell_type": "markdown",
   "id": "c8570628-f0a7-4dd2-bc83-af4fc0a39599",
   "metadata": {},
   "source": [
    "#### Multiple args"
   ]
  },
  {
   "cell_type": "code",
   "execution_count": 10,
   "id": "5d57978f-e3ba-4f7a-b841-d7fb318a5ad5",
   "metadata": {},
   "outputs": [],
   "source": [
    "my_lambda2 = lambda x, y: x + y  # brackets are not allowed: lambda (x, y): x+y "
   ]
  },
  {
   "cell_type": "code",
   "execution_count": 8,
   "id": "e8f3f04b-9878-4fee-a1e7-5c0734694835",
   "metadata": {},
   "outputs": [
    {
     "data": {
      "text/plain": [
       "5"
      ]
     },
     "execution_count": 8,
     "metadata": {},
     "output_type": "execute_result"
    }
   ],
   "source": [
    "out = my_lambda2(2, 3)\n",
    "out"
   ]
  },
  {
   "cell_type": "code",
   "execution_count": null,
   "id": "4e7ef02c-b1eb-4689-bdc0-935a1b985e9c",
   "metadata": {},
   "outputs": [],
   "source": []
  }
 ],
 "metadata": {
  "kernelspec": {
   "display_name": "Python 3 (ipykernel)",
   "language": "python",
   "name": "python3"
  },
  "language_info": {
   "codemirror_mode": {
    "name": "ipython",
    "version": 3
   },
   "file_extension": ".py",
   "mimetype": "text/x-python",
   "name": "python",
   "nbconvert_exporter": "python",
   "pygments_lexer": "ipython3",
   "version": "3.9.13"
  }
 },
 "nbformat": 4,
 "nbformat_minor": 5
}
