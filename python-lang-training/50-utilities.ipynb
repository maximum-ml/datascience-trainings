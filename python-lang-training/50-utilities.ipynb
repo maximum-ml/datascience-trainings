{
 "cells": [
  {
   "cell_type": "markdown",
   "id": "b898aebf-4f0f-4320-8984-b2c23337a741",
   "metadata": {},
   "source": [
    "# Utilities"
   ]
  },
  {
   "cell_type": "markdown",
   "id": "01030864-bac5-4801-9006-6adac558aea7",
   "metadata": {},
   "source": [
    "### Convert list of tuples into a dict"
   ]
  },
  {
   "cell_type": "code",
   "execution_count": 9,
   "id": "da99429e-15f0-4828-b499-95f3dbf84231",
   "metadata": {},
   "outputs": [],
   "source": [
    "tuples = [('Key 1', 1), ('Key 2', 2), ('Key 3', 3), ('Key 3', 4), ('Key 4', 5)]"
   ]
  },
  {
   "cell_type": "code",
   "execution_count": 10,
   "id": "f44c95ee-2d84-4cda-b3cf-77a6787c79df",
   "metadata": {},
   "outputs": [],
   "source": [
    "def tuples_to_dict(list_of_tuples):\n",
    "    result = {}\n",
    "    for (key, value) in tuples:\n",
    "       # setting the default value as list([]) if no entry in the dict & appending the current value\n",
    "       result.setdefault(key, []).append(value)\n",
    "    return result"
   ]
  },
  {
   "cell_type": "code",
   "execution_count": 11,
   "id": "30848acf-f1bb-4758-870f-197048d6187e",
   "metadata": {},
   "outputs": [
    {
     "data": {
      "text/plain": [
       "{'Key 1': [1], 'Key 2': [2], 'Key 3': [3, 4], 'Key 4': [5]}"
      ]
     },
     "execution_count": 11,
     "metadata": {},
     "output_type": "execute_result"
    }
   ],
   "source": [
    "result = tuples_to_dict(tuples)\n",
    "result"
   ]
  },
  {
   "cell_type": "code",
   "execution_count": null,
   "id": "3dad839e-577b-4306-87f2-d1b84b6a7d8f",
   "metadata": {},
   "outputs": [],
   "source": []
  }
 ],
 "metadata": {
  "kernelspec": {
   "display_name": "Python 3 (ipykernel)",
   "language": "python",
   "name": "python3"
  },
  "language_info": {
   "codemirror_mode": {
    "name": "ipython",
    "version": 3
   },
   "file_extension": ".py",
   "mimetype": "text/x-python",
   "name": "python",
   "nbconvert_exporter": "python",
   "pygments_lexer": "ipython3",
   "version": "3.8.10"
  }
 },
 "nbformat": 4,
 "nbformat_minor": 5
}
