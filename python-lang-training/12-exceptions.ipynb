{
 "cells": [
  {
   "cell_type": "markdown",
   "id": "853b34c2-1f98-4f5b-8abd-552ca5dd1a6b",
   "metadata": {},
   "source": [
    "# Exceptions"
   ]
  },
  {
   "cell_type": "markdown",
   "id": "891d02a0-0949-4dc8-ac9a-98403ab1db48",
   "metadata": {},
   "source": [
    "### Catching exceptions"
   ]
  },
  {
   "cell_type": "code",
   "execution_count": 3,
   "id": "4979bea2-0424-45d2-9948-2c575253f62c",
   "metadata": {},
   "outputs": [
    {
     "name": "stdin",
     "output_type": "stream",
     "text": [
      "Age: q\n"
     ]
    },
    {
     "name": "stdout",
     "output_type": "stream",
     "text": [
      "Invalid Value!\n"
     ]
    }
   ],
   "source": [
    " # single clause with a single exception\n",
    "try:\n",
    "    age = int(input('Age:'))\n",
    "    print(age)\n",
    "except ValueError:\n",
    "    print('Invalid Value!')"
   ]
  },
  {
   "cell_type": "code",
   "execution_count": 6,
   "id": "0027ee7a-aa82-44b2-a121-5b4aa2363c67",
   "metadata": {},
   "outputs": [
    {
     "name": "stdin",
     "output_type": "stream",
     "text": [
      "Age: 10\n"
     ]
    },
    {
     "name": "stdout",
     "output_type": "stream",
     "text": [
      "10\n",
      "Everything went fine.\n"
     ]
    }
   ],
   "source": [
    " # single clause with a single exception\n",
    "try:\n",
    "    age = int(input('Age:'))\n",
    "    print(age)\n",
    "    x = 100 / age\n",
    "except ValueError:\n",
    "    print('Invalid Value!')\n",
    "except ZeroDivisionError:\n",
    "    print('Cannot divide by Zero!')    \n",
    "else: # this is executed in case there were no exceptions\n",
    "    print('Everything went fine.')"
   ]
  },
  {
   "cell_type": "markdown",
   "id": "81c0d816-5d30-45ed-a465-34b9e7d215ad",
   "metadata": {},
   "source": [
    "### Throwing Exceptions"
   ]
  },
  {
   "cell_type": "code",
   "execution_count": 7,
   "id": "634c13ce-f5ef-41e7-aef8-19d4a42d3962",
   "metadata": {},
   "outputs": [
    {
     "ename": "Exception",
     "evalue": "<class 'str'>",
     "output_type": "error",
     "traceback": [
      "\u001b[0;31m---------------------------------------------------------------------------\u001b[0m",
      "\u001b[0;31mException\u001b[0m                                 Traceback (most recent call last)",
      "\u001b[0;32m<ipython-input-7-0528aa385f25>\u001b[0m in \u001b[0;36m<module>\u001b[0;34m\u001b[0m\n\u001b[1;32m      2\u001b[0m     \u001b[0;32mraise\u001b[0m \u001b[0mException\u001b[0m\u001b[0;34m(\u001b[0m\u001b[0mstr\u001b[0m\u001b[0;34m)\u001b[0m\u001b[0;34m\u001b[0m\u001b[0;34m\u001b[0m\u001b[0m\n\u001b[1;32m      3\u001b[0m \u001b[0;34m\u001b[0m\u001b[0m\n\u001b[0;32m----> 4\u001b[0;31m \u001b[0mthrow_exception\u001b[0m\u001b[0;34m(\u001b[0m\u001b[0;34m\"test\"\u001b[0m\u001b[0;34m)\u001b[0m\u001b[0;34m\u001b[0m\u001b[0;34m\u001b[0m\u001b[0m\n\u001b[0m",
      "\u001b[0;32m<ipython-input-7-0528aa385f25>\u001b[0m in \u001b[0;36mthrow_exception\u001b[0;34m(msg)\u001b[0m\n\u001b[1;32m      1\u001b[0m \u001b[0;32mdef\u001b[0m \u001b[0mthrow_exception\u001b[0m\u001b[0;34m(\u001b[0m\u001b[0mmsg\u001b[0m\u001b[0;34m:\u001b[0m \u001b[0mstr\u001b[0m\u001b[0;34m)\u001b[0m\u001b[0;34m:\u001b[0m\u001b[0;34m\u001b[0m\u001b[0;34m\u001b[0m\u001b[0m\n\u001b[0;32m----> 2\u001b[0;31m     \u001b[0;32mraise\u001b[0m \u001b[0mException\u001b[0m\u001b[0;34m(\u001b[0m\u001b[0mstr\u001b[0m\u001b[0;34m)\u001b[0m\u001b[0;34m\u001b[0m\u001b[0;34m\u001b[0m\u001b[0m\n\u001b[0m\u001b[1;32m      3\u001b[0m \u001b[0;34m\u001b[0m\u001b[0m\n\u001b[1;32m      4\u001b[0m \u001b[0mthrow_exception\u001b[0m\u001b[0;34m(\u001b[0m\u001b[0;34m\"test\"\u001b[0m\u001b[0;34m)\u001b[0m\u001b[0;34m\u001b[0m\u001b[0;34m\u001b[0m\u001b[0m\n",
      "\u001b[0;31mException\u001b[0m: <class 'str'>"
     ]
    }
   ],
   "source": [
    "def throw_exception(msg: str):\n",
    "    raise Exception(str)\n",
    "\n",
    "throw_exception(\"test\")"
   ]
  },
  {
   "cell_type": "markdown",
   "id": "152496c6-a074-4627-84f9-dd2a12feeb3c",
   "metadata": {},
   "source": [
    "### Exception Classes"
   ]
  },
  {
   "cell_type": "markdown",
   "id": "b838c2b0-dbc4-4a08-a8de-6a78d19095bd",
   "metadata": {},
   "source": [
    "All exceptions inherit from __BaseException__ class."
   ]
  },
  {
   "cell_type": "markdown",
   "id": "8042b319-910b-4107-9bb4-d9f905d472dc",
   "metadata": {},
   "source": [
    "### Standard Exceptions\n",
    "\n",
    "Exceptions come with different typs. The most popular types are listed below:\n",
    "\n",
    "- SyntaxError (occures when code does not compile)\n",
    "- NameError (occures when a variable is referenced but no defined earlier)\n",
    "- ValueError (occures when casting from one type to another)\n",
    "- TypeError (occurces when an operation is invoked on a wrong type)"
   ]
  },
  {
   "cell_type": "code",
   "execution_count": null,
   "id": "49e6a949-fcb6-46b5-b8e5-1b182eb50d4d",
   "metadata": {},
   "outputs": [],
   "source": []
  }
 ],
 "metadata": {
  "kernelspec": {
   "display_name": "Python 3 (ipykernel)",
   "language": "python",
   "name": "python3"
  },
  "language_info": {
   "codemirror_mode": {
    "name": "ipython",
    "version": 3
   },
   "file_extension": ".py",
   "mimetype": "text/x-python",
   "name": "python",
   "nbconvert_exporter": "python",
   "pygments_lexer": "ipython3",
   "version": "3.9.7"
  }
 },
 "nbformat": 4,
 "nbformat_minor": 5
}
