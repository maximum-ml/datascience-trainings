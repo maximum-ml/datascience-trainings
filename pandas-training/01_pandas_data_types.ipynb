{
 "cells": [
  {
   "cell_type": "markdown",
   "id": "0e4c8d59-5dee-4bfb-9186-0a5494b84de9",
   "metadata": {},
   "source": [
    "# Pandas - data structures"
   ]
  },
  {
   "cell_type": "markdown",
   "id": "af73db48-7ece-4212-a243-0f64719b7935",
   "metadata": {},
   "source": [
    "## Series"
   ]
  },
  {
   "cell_type": "code",
   "execution_count": 1,
   "id": "e1b716de-959e-4677-a883-3330208bc2e6",
   "metadata": {},
   "outputs": [],
   "source": [
    "import numpy as np\n",
    "import pandas as pd"
   ]
  },
  {
   "cell_type": "markdown",
   "id": "628b812a-30c5-4243-a9bb-cfe81b8c435f",
   "metadata": {},
   "source": [
    "### Series without headers "
   ]
  },
  {
   "cell_type": "code",
   "execution_count": 3,
   "id": "411eb364-0593-43d1-bb1f-8d1dc6cd0c5b",
   "metadata": {},
   "outputs": [
    {
     "data": {
      "text/plain": [
       "0    10\n",
       "1    20\n",
       "2    30\n",
       "3    40\n",
       "4    50\n",
       "dtype: int64"
      ]
     },
     "execution_count": 3,
     "metadata": {},
     "output_type": "execute_result"
    }
   ],
   "source": [
    "list = [10, 20, 30, 40, 50]\n",
    "s1 = pd.Series(list)\n",
    "s1"
   ]
  },
  {
   "cell_type": "markdown",
   "id": "c6ce2b50-813c-4386-b508-42229367f106",
   "metadata": {},
   "source": [
    "### Series with headers"
   ]
  },
  {
   "cell_type": "code",
   "execution_count": 4,
   "id": "ba796854-2e00-43ec-b20e-e4ce3527763a",
   "metadata": {},
   "outputs": [
    {
     "data": {
      "text/plain": [
       "A      [1, 2, 3, 4, 5]\n",
       "B      [a, b, c, d, e]\n",
       "NUM    [0, 0, 0, 0, 0]\n",
       "dtype: object"
      ]
     },
     "execution_count": 4,
     "metadata": {},
     "output_type": "execute_result"
    }
   ],
   "source": [
    "dict = {'A' : [1 ,2, 3, 4, 5], 'B': ['a', 'b', 'c', 'd', 'e'], 'NUM': [0, 0, 0, 0, 0 ]}\n",
    "s2 = pd.Series(dict)\n",
    "s2"
   ]
  },
  {
   "cell_type": "markdown",
   "id": "d3ed590f-bacd-4a53-b4b6-614e024b94d5",
   "metadata": {},
   "source": [
    "### DataFrames"
   ]
  },
  {
   "cell_type": "code",
   "execution_count": 3,
   "id": "5c081537-09e2-4b9a-bb16-be7104ead908",
   "metadata": {},
   "outputs": [],
   "source": [
    "np.random.seed(100)"
   ]
  },
  {
   "cell_type": "code",
   "execution_count": 4,
   "id": "e4233d15-6619-4040-8e3f-8fd465c97482",
   "metadata": {},
   "outputs": [
    {
     "data": {
      "text/html": [
       "<div>\n",
       "<style scoped>\n",
       "    .dataframe tbody tr th:only-of-type {\n",
       "        vertical-align: middle;\n",
       "    }\n",
       "\n",
       "    .dataframe tbody tr th {\n",
       "        vertical-align: top;\n",
       "    }\n",
       "\n",
       "    .dataframe thead th {\n",
       "        text-align: right;\n",
       "    }\n",
       "</style>\n",
       "<table border=\"1\" class=\"dataframe\">\n",
       "  <thead>\n",
       "    <tr style=\"text-align: right;\">\n",
       "      <th></th>\n",
       "      <th>A</th>\n",
       "      <th>B</th>\n",
       "      <th>C</th>\n",
       "    </tr>\n",
       "  </thead>\n",
       "  <tbody>\n",
       "    <tr>\n",
       "      <th>0</th>\n",
       "      <td>-1.749765</td>\n",
       "      <td>0.342680</td>\n",
       "      <td>1.153036</td>\n",
       "    </tr>\n",
       "    <tr>\n",
       "      <th>1</th>\n",
       "      <td>-0.252436</td>\n",
       "      <td>0.981321</td>\n",
       "      <td>0.514219</td>\n",
       "    </tr>\n",
       "    <tr>\n",
       "      <th>2</th>\n",
       "      <td>0.221180</td>\n",
       "      <td>-1.070043</td>\n",
       "      <td>-0.189496</td>\n",
       "    </tr>\n",
       "    <tr>\n",
       "      <th>3</th>\n",
       "      <td>0.255001</td>\n",
       "      <td>-0.458027</td>\n",
       "      <td>0.435163</td>\n",
       "    </tr>\n",
       "    <tr>\n",
       "      <th>4</th>\n",
       "      <td>-0.583595</td>\n",
       "      <td>0.816847</td>\n",
       "      <td>0.672721</td>\n",
       "    </tr>\n",
       "  </tbody>\n",
       "</table>\n",
       "</div>"
      ],
      "text/plain": [
       "          A         B         C\n",
       "0 -1.749765  0.342680  1.153036\n",
       "1 -0.252436  0.981321  0.514219\n",
       "2  0.221180 -1.070043 -0.189496\n",
       "3  0.255001 -0.458027  0.435163\n",
       "4 -0.583595  0.816847  0.672721"
      ]
     },
     "execution_count": 4,
     "metadata": {},
     "output_type": "execute_result"
    }
   ],
   "source": [
    "df1 = pd.DataFrame(np.random.randn(5,3), columns=['A', 'B' ,'C'])\n",
    "df1"
   ]
  },
  {
   "cell_type": "markdown",
   "id": "4e6eaf4d-3895-4de0-9324-3944cb8d701a",
   "metadata": {},
   "source": [
    "#### Selecting elements (rows & columns)"
   ]
  },
  {
   "cell_type": "code",
   "execution_count": null,
   "id": "8d52f371-ea79-41b3-a4a2-db2412a0884d",
   "metadata": {},
   "outputs": [],
   "source": []
  },
  {
   "cell_type": "code",
   "execution_count": null,
   "id": "fc8705b0-a56b-430f-b9b8-fb1eca426c72",
   "metadata": {},
   "outputs": [],
   "source": []
  }
 ],
 "metadata": {
  "kernelspec": {
   "display_name": "Python 3 (ipykernel)",
   "language": "python",
   "name": "python3"
  },
  "language_info": {
   "codemirror_mode": {
    "name": "ipython",
    "version": 3
   },
   "file_extension": ".py",
   "mimetype": "text/x-python",
   "name": "python",
   "nbconvert_exporter": "python",
   "pygments_lexer": "ipython3",
   "version": "3.8.10"
  }
 },
 "nbformat": 4,
 "nbformat_minor": 5
}
