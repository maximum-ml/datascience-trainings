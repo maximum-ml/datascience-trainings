{
 "cells": [
  {
   "cell_type": "markdown",
   "id": "dbf6f7a9-aeba-4f70-9581-36af4c802d97",
   "metadata": {},
   "source": [
    "# Pandas Iterate over rows and columns"
   ]
  },
  {
   "cell_type": "markdown",
   "id": "97db7e33-92ea-4180-92b7-383aa6e5871f",
   "metadata": {},
   "source": [
    "### Size | Length | Shape"
   ]
  },
  {
   "cell_type": "code",
   "execution_count": null,
   "id": "e277dfea-2948-45db-b017-f2281ebb6ef5",
   "metadata": {},
   "outputs": [],
   "source": []
  }
 ],
 "metadata": {
  "kernelspec": {
   "display_name": "Python 3 (ipykernel)",
   "language": "python",
   "name": "python3"
  },
  "language_info": {
   "codemirror_mode": {
    "name": "ipython",
    "version": 3
   },
   "file_extension": ".py",
   "mimetype": "text/x-python",
   "name": "python",
   "nbconvert_exporter": "python",
   "pygments_lexer": "ipython3",
   "version": "3.9.13"
  }
 },
 "nbformat": 4,
 "nbformat_minor": 5
}
