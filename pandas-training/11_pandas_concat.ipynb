{
 "cells": [
  {
   "cell_type": "markdown",
   "id": "d1b8f844-5c1e-4bd8-afff-9cc7d8a60bfc",
   "metadata": {},
   "source": [
    "# Pandas - concat"
   ]
  },
  {
   "cell_type": "code",
   "execution_count": 1,
   "id": "68bd82bf-8628-4f11-b488-bb55fd28f5de",
   "metadata": {},
   "outputs": [],
   "source": [
    "# TODO"
   ]
  },
  {
   "cell_type": "code",
   "execution_count": null,
   "id": "488039c2-61be-4378-945b-4d227818a556",
   "metadata": {},
   "outputs": [],
   "source": []
  }
 ],
 "metadata": {
  "kernelspec": {
   "display_name": "Python 3 (ipykernel)",
   "language": "python",
   "name": "python3"
  },
  "language_info": {
   "codemirror_mode": {
    "name": "ipython",
    "version": 3
   },
   "file_extension": ".py",
   "mimetype": "text/x-python",
   "name": "python",
   "nbconvert_exporter": "python",
   "pygments_lexer": "ipython3",
   "version": "3.9.13"
  }
 },
 "nbformat": 4,
 "nbformat_minor": 5
}
