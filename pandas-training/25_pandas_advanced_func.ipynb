{
 "cells": [
  {
   "cell_type": "markdown",
   "id": "377838c1-b597-45bb-8255-b0e08ec9b292",
   "metadata": {},
   "source": [
    "# Pandas - Advanced Functions"
   ]
  },
  {
   "cell_type": "code",
   "execution_count": 1,
   "id": "19f6b90e-190d-455f-b0df-87a0ea2df56b",
   "metadata": {},
   "outputs": [],
   "source": [
    "import pandas as pd"
   ]
  },
  {
   "cell_type": "code",
   "execution_count": null,
   "id": "af4fe88f-b6ed-42e1-a097-240aec664918",
   "metadata": {},
   "outputs": [],
   "source": []
  },
  {
   "cell_type": "markdown",
   "id": "845cabd9-501b-468b-89a2-508506f683dc",
   "metadata": {},
   "source": [
    "### Itertuples - iterator over DataFrame rows a named tuples"
   ]
  },
  {
   "cell_type": "code",
   "execution_count": 2,
   "id": "833ccac4-0fd8-4c48-86ec-bd758417d02e",
   "metadata": {},
   "outputs": [
    {
     "data": {
      "text/html": [
       "<div>\n",
       "<style scoped>\n",
       "    .dataframe tbody tr th:only-of-type {\n",
       "        vertical-align: middle;\n",
       "    }\n",
       "\n",
       "    .dataframe tbody tr th {\n",
       "        vertical-align: top;\n",
       "    }\n",
       "\n",
       "    .dataframe thead th {\n",
       "        text-align: right;\n",
       "    }\n",
       "</style>\n",
       "<table border=\"1\" class=\"dataframe\">\n",
       "  <thead>\n",
       "    <tr style=\"text-align: right;\">\n",
       "      <th></th>\n",
       "      <th>x</th>\n",
       "      <th>y</th>\n",
       "    </tr>\n",
       "  </thead>\n",
       "  <tbody>\n",
       "    <tr>\n",
       "      <th>0</th>\n",
       "      <td>1</td>\n",
       "      <td>0</td>\n",
       "    </tr>\n",
       "    <tr>\n",
       "      <th>1</th>\n",
       "      <td>0</td>\n",
       "      <td>0</td>\n",
       "    </tr>\n",
       "    <tr>\n",
       "      <th>2</th>\n",
       "      <td>1</td>\n",
       "      <td>1</td>\n",
       "    </tr>\n",
       "    <tr>\n",
       "      <th>3</th>\n",
       "      <td>0</td>\n",
       "      <td>1</td>\n",
       "    </tr>\n",
       "  </tbody>\n",
       "</table>\n",
       "</div>"
      ],
      "text/plain": [
       "   x  y\n",
       "0  1  0\n",
       "1  0  0\n",
       "2  1  1\n",
       "3  0  1"
      ]
     },
     "execution_count": 2,
     "metadata": {},
     "output_type": "execute_result"
    }
   ],
   "source": [
    "d = {'x' : [1, 0, 1, 0], 'y': [0, 0, 1, 1]}\n",
    "df = pd.DataFrame(d)\n",
    "df"
   ]
  },
  {
   "cell_type": "code",
   "execution_count": 7,
   "id": "112511ca-7f91-424e-9d28-0d58d2956c2c",
   "metadata": {},
   "outputs": [
    {
     "data": {
      "text/plain": [
       "map"
      ]
     },
     "execution_count": 7,
     "metadata": {},
     "output_type": "execute_result"
    }
   ],
   "source": [
    "itertuples = df.itertuples()\n",
    "type(itertuples)\n"
   ]
  },
  {
   "cell_type": "code",
   "execution_count": 8,
   "id": "7d2a9966-7451-4840-bf34-21a3e7fa0c7d",
   "metadata": {},
   "outputs": [
    {
     "name": "stdout",
     "output_type": "stream",
     "text": [
      "Pandas(Index=0, x=1, y=0)\n",
      "Pandas(Index=1, x=0, y=0)\n",
      "Pandas(Index=2, x=1, y=1)\n",
      "Pandas(Index=3, x=0, y=1)\n"
     ]
    }
   ],
   "source": [
    "for i in itertuples:\n",
    "    print(i)"
   ]
  },
  {
   "cell_type": "code",
   "execution_count": null,
   "id": "1199c8ba-d9e3-46d5-9d64-432cf4fe75de",
   "metadata": {},
   "outputs": [],
   "source": []
  },
  {
   "cell_type": "code",
   "execution_count": 9,
   "id": "769169c8-435f-4807-8a34-5dd2bf23de76",
   "metadata": {},
   "outputs": [
    {
     "name": "stdout",
     "output_type": "stream",
     "text": [
      "1\n"
     ]
    }
   ],
   "source": [
    "r = range(1,2)\n",
    "for i in r:\n",
    "    print(i)"
   ]
  },
  {
   "cell_type": "code",
   "execution_count": 10,
   "id": "bbfcab85-bfbe-42b2-bf1b-7f88db270168",
   "metadata": {},
   "outputs": [
    {
     "data": {
      "text/plain": [
       "<map at 0x7fd17656b790>"
      ]
     },
     "execution_count": 10,
     "metadata": {},
     "output_type": "execute_result"
    }
   ],
   "source": [
    "m = map(lambda l : l*2, [1,2,3])\n",
    "m"
   ]
  },
  {
   "cell_type": "markdown",
   "id": "ca573f7d-361b-48e2-afc6-de056fe5f7ba",
   "metadata": {},
   "source": [
    "### any()"
   ]
  },
  {
   "cell_type": "code",
   "execution_count": null,
   "id": "4032737b-9fec-4379-a383-0786171f521a",
   "metadata": {},
   "outputs": [],
   "source": [
    "xx =  (x != 0).any(axis=1)\n",
    "# xx = x.loc[:, (x != 0).any(axis=0)]\n",
    "# pd = pd.loc[:, (tmp != 0).any(axis=0)]\n",
    "xx"
   ]
  }
 ],
 "metadata": {
  "kernelspec": {
   "display_name": "Python 3 (ipykernel)",
   "language": "python",
   "name": "python3"
  },
  "language_info": {
   "codemirror_mode": {
    "name": "ipython",
    "version": 3
   },
   "file_extension": ".py",
   "mimetype": "text/x-python",
   "name": "python",
   "nbconvert_exporter": "python",
   "pygments_lexer": "ipython3",
   "version": "3.9.13"
  }
 },
 "nbformat": 4,
 "nbformat_minor": 5
}
