{
 "cells": [
  {
   "cell_type": "markdown",
   "id": "0e4c8d59-5dee-4bfb-9186-0a5494b84de9",
   "metadata": {},
   "source": [
    "# Pandas - data structures"
   ]
  },
  {
   "cell_type": "markdown",
   "id": "163807bd-4ae5-42e1-81e6-d5227e9a8247",
   "metadata": {},
   "source": [
    "Pandas have three data structures dataframe, series & panels. \n",
    "We mostly use dataframe and series and they both use indexes, which make them very convenient to analyse."
   ]
  },
  {
   "cell_type": "markdown",
   "id": "af73db48-7ece-4212-a243-0f64719b7935",
   "metadata": {},
   "source": [
    "## Series"
   ]
  },
  {
   "cell_type": "code",
   "execution_count": 2,
   "id": "e1b716de-959e-4677-a883-3330208bc2e6",
   "metadata": {},
   "outputs": [],
   "source": [
    "import numpy as np\n",
    "import pandas as pd"
   ]
  },
  {
   "cell_type": "markdown",
   "id": "628b812a-30c5-4243-a9bb-cfe81b8c435f",
   "metadata": {},
   "source": [
    "### Series without headers "
   ]
  },
  {
   "cell_type": "code",
   "execution_count": 12,
   "id": "411eb364-0593-43d1-bb1f-8d1dc6cd0c5b",
   "metadata": {},
   "outputs": [
    {
     "data": {
      "text/plain": [
       "0    10\n",
       "1    20\n",
       "2    30\n",
       "3    40\n",
       "4    50\n",
       "dtype: int64"
      ]
     },
     "execution_count": 12,
     "metadata": {},
     "output_type": "execute_result"
    }
   ],
   "source": [
    "list = [10, 20, 30, 40, 50]\n",
    "s1 = pd.Series(list)\n",
    "s1"
   ]
  },
  {
   "cell_type": "markdown",
   "id": "c6ce2b50-813c-4386-b508-42229367f106",
   "metadata": {},
   "source": [
    "### Series with headers"
   ]
  },
  {
   "cell_type": "code",
   "execution_count": 3,
   "id": "ba796854-2e00-43ec-b20e-e4ce3527763a",
   "metadata": {},
   "outputs": [
    {
     "data": {
      "text/plain": [
       "A      [1, 2, 3, 4, 5]\n",
       "B      [a, b, c, d, e]\n",
       "NUM    [0, 0, 0, 0, 0]\n",
       "dtype: object"
      ]
     },
     "execution_count": 3,
     "metadata": {},
     "output_type": "execute_result"
    }
   ],
   "source": [
    "dict = {'A' : [1 ,2, 3, 4, 5], 'B': ['a', 'b', 'c', 'd', 'e'], 'NUM': [0, 0, 0, 0, 0 ]}\n",
    "s2 = pd.Series(dict)\n",
    "s2"
   ]
  },
  {
   "cell_type": "code",
   "execution_count": 4,
   "id": "faede35d-8429-462e-beff-eb4d60105ce3",
   "metadata": {},
   "outputs": [
    {
     "data": {
      "text/plain": [
       "pandas.core.series.Series"
      ]
     },
     "execution_count": 4,
     "metadata": {},
     "output_type": "execute_result"
    }
   ],
   "source": [
    "type(s2)"
   ]
  },
  {
   "cell_type": "markdown",
   "id": "4b7a03cb-2fdf-4ac1-a287-e1684f76fcd9",
   "metadata": {},
   "source": [
    "#### Series to list"
   ]
  },
  {
   "cell_type": "code",
   "execution_count": 13,
   "id": "7d427d87-599f-4781-8dbb-91b917826ae8",
   "metadata": {},
   "outputs": [
    {
     "data": {
      "text/plain": [
       "0    10\n",
       "1    20\n",
       "2    30\n",
       "3    40\n",
       "4    50\n",
       "dtype: int64"
      ]
     },
     "execution_count": 13,
     "metadata": {},
     "output_type": "execute_result"
    }
   ],
   "source": [
    "s1"
   ]
  },
  {
   "cell_type": "code",
   "execution_count": 14,
   "id": "6e687ab6-6a03-4225-b425-3b4956c73b5b",
   "metadata": {},
   "outputs": [
    {
     "data": {
      "text/plain": [
       "[10, 20, 30, 40, 50]"
      ]
     },
     "execution_count": 14,
     "metadata": {},
     "output_type": "execute_result"
    }
   ],
   "source": [
    "l1 = s1.to_list()\n",
    "l1"
   ]
  },
  {
   "cell_type": "code",
   "execution_count": null,
   "id": "0f80a0f7-20c6-442e-bcd5-30663a8d21dd",
   "metadata": {},
   "outputs": [],
   "source": [
    "type("
   ]
  },
  {
   "cell_type": "markdown",
   "id": "d3ed590f-bacd-4a53-b4b6-614e024b94d5",
   "metadata": {},
   "source": [
    "### DataFrames"
   ]
  },
  {
   "cell_type": "code",
   "execution_count": 5,
   "id": "5c081537-09e2-4b9a-bb16-be7104ead908",
   "metadata": {},
   "outputs": [],
   "source": [
    "np.random.seed(100)"
   ]
  },
  {
   "cell_type": "code",
   "execution_count": 3,
   "id": "e4233d15-6619-4040-8e3f-8fd465c97482",
   "metadata": {},
   "outputs": [
    {
     "data": {
      "text/html": [
       "<div>\n",
       "<style scoped>\n",
       "    .dataframe tbody tr th:only-of-type {\n",
       "        vertical-align: middle;\n",
       "    }\n",
       "\n",
       "    .dataframe tbody tr th {\n",
       "        vertical-align: top;\n",
       "    }\n",
       "\n",
       "    .dataframe thead th {\n",
       "        text-align: right;\n",
       "    }\n",
       "</style>\n",
       "<table border=\"1\" class=\"dataframe\">\n",
       "  <thead>\n",
       "    <tr style=\"text-align: right;\">\n",
       "      <th></th>\n",
       "      <th>A</th>\n",
       "      <th>B</th>\n",
       "      <th>C</th>\n",
       "    </tr>\n",
       "  </thead>\n",
       "  <tbody>\n",
       "    <tr>\n",
       "      <th>0</th>\n",
       "      <td>-0.185627</td>\n",
       "      <td>-0.578047</td>\n",
       "      <td>0.715824</td>\n",
       "    </tr>\n",
       "    <tr>\n",
       "      <th>1</th>\n",
       "      <td>-0.531422</td>\n",
       "      <td>0.142120</td>\n",
       "      <td>1.058790</td>\n",
       "    </tr>\n",
       "    <tr>\n",
       "      <th>2</th>\n",
       "      <td>3.199586</td>\n",
       "      <td>0.468567</td>\n",
       "      <td>-2.163004</td>\n",
       "    </tr>\n",
       "    <tr>\n",
       "      <th>3</th>\n",
       "      <td>-1.688863</td>\n",
       "      <td>-0.511078</td>\n",
       "      <td>-1.526746</td>\n",
       "    </tr>\n",
       "    <tr>\n",
       "      <th>4</th>\n",
       "      <td>-0.455099</td>\n",
       "      <td>0.106923</td>\n",
       "      <td>-0.214462</td>\n",
       "    </tr>\n",
       "  </tbody>\n",
       "</table>\n",
       "</div>"
      ],
      "text/plain": [
       "          A         B         C\n",
       "0 -0.185627 -0.578047  0.715824\n",
       "1 -0.531422  0.142120  1.058790\n",
       "2  3.199586  0.468567 -2.163004\n",
       "3 -1.688863 -0.511078 -1.526746\n",
       "4 -0.455099  0.106923 -0.214462"
      ]
     },
     "execution_count": 3,
     "metadata": {},
     "output_type": "execute_result"
    }
   ],
   "source": [
    "df1 = pd.DataFrame(np.random.randn(5,3), columns=['A', 'B' ,'C'])\n",
    "df1"
   ]
  },
  {
   "cell_type": "code",
   "execution_count": 7,
   "id": "f9abfd06-fead-4de9-b631-c9642e4b7dae",
   "metadata": {},
   "outputs": [
    {
     "data": {
      "text/plain": [
       "pandas.core.frame.DataFrame"
      ]
     },
     "execution_count": 7,
     "metadata": {},
     "output_type": "execute_result"
    }
   ],
   "source": [
    "type(df1)"
   ]
  },
  {
   "cell_type": "markdown",
   "id": "4e6eaf4d-3895-4de0-9324-3944cb8d701a",
   "metadata": {},
   "source": [
    "#### Selecting elements (rows & columns)"
   ]
  },
  {
   "cell_type": "code",
   "execution_count": 8,
   "id": "8d52f371-ea79-41b3-a4a2-db2412a0884d",
   "metadata": {},
   "outputs": [
    {
     "data": {
      "text/plain": [
       "0   -1.749765\n",
       "1   -0.252436\n",
       "2    0.221180\n",
       "3    0.255001\n",
       "4   -0.583595\n",
       "Name: A, dtype: float64"
      ]
     },
     "execution_count": 8,
     "metadata": {},
     "output_type": "execute_result"
    }
   ],
   "source": [
    "s1 = df1['A'] # selecting a single column becomes a Series\n",
    "s1"
   ]
  },
  {
   "cell_type": "code",
   "execution_count": 9,
   "id": "ceaad65f-6e9f-4bad-adcb-34d2849afe2a",
   "metadata": {},
   "outputs": [
    {
     "data": {
      "text/plain": [
       "pandas.core.series.Series"
      ]
     },
     "execution_count": 9,
     "metadata": {},
     "output_type": "execute_result"
    }
   ],
   "source": [
    "type(s1)"
   ]
  },
  {
   "cell_type": "markdown",
   "id": "6b8cdb69-c958-445b-8ed2-99abc853a4b9",
   "metadata": {},
   "source": [
    "#### Info about types of the columns"
   ]
  },
  {
   "cell_type": "code",
   "execution_count": 4,
   "id": "47842b57-093f-448b-931f-457ad1124771",
   "metadata": {},
   "outputs": [
    {
     "name": "stdout",
     "output_type": "stream",
     "text": [
      "<class 'pandas.core.frame.DataFrame'>\n",
      "RangeIndex: 5 entries, 0 to 4\n",
      "Data columns (total 3 columns):\n",
      " #   Column  Non-Null Count  Dtype  \n",
      "---  ------  --------------  -----  \n",
      " 0   A       5 non-null      float64\n",
      " 1   B       5 non-null      float64\n",
      " 2   C       5 non-null      float64\n",
      "dtypes: float64(3)\n",
      "memory usage: 248.0 bytes\n"
     ]
    }
   ],
   "source": [
    "df1.info()"
   ]
  },
  {
   "cell_type": "code",
   "execution_count": null,
   "id": "fc8705b0-a56b-430f-b9b8-fb1eca426c72",
   "metadata": {},
   "outputs": [],
   "source": []
  }
 ],
 "metadata": {
  "kernelspec": {
   "display_name": "Python 3 (ipykernel)",
   "language": "python",
   "name": "python3"
  },
  "language_info": {
   "codemirror_mode": {
    "name": "ipython",
    "version": 3
   },
   "file_extension": ".py",
   "mimetype": "text/x-python",
   "name": "python",
   "nbconvert_exporter": "python",
   "pygments_lexer": "ipython3",
   "version": "3.9.13"
  }
 },
 "nbformat": 4,
 "nbformat_minor": 5
}
