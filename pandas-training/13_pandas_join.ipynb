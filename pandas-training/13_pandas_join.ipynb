{
 "cells": [
  {
   "cell_type": "markdown",
   "id": "4cfcea38-f790-4158-a957-5dc8fbccffe3",
   "metadata": {},
   "source": [
    "# Pandas - join()"
   ]
  },
  {
   "cell_type": "code",
   "execution_count": null,
   "id": "718db7f9-959a-4536-acf8-4684a8c0cd7d",
   "metadata": {},
   "outputs": [],
   "source": []
  }
 ],
 "metadata": {
  "kernelspec": {
   "display_name": "Python 3 (ipykernel)",
   "language": "python",
   "name": "python3"
  },
  "language_info": {
   "codemirror_mode": {
    "name": "ipython",
    "version": 3
   },
   "file_extension": ".py",
   "mimetype": "text/x-python",
   "name": "python",
   "nbconvert_exporter": "python",
   "pygments_lexer": "ipython3",
   "version": "3.9.13"
  }
 },
 "nbformat": 4,
 "nbformat_minor": 5
}
