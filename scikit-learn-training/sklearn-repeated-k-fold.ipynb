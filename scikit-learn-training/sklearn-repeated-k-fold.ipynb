{
 "cells": [
  {
   "cell_type": "markdown",
   "id": "8d2cf13a-b9b1-455f-bb1a-0e63cb13b969",
   "metadata": {},
   "source": [
    "# SciKit Learn Training - RepeatedKFold"
   ]
  },
  {
   "cell_type": "code",
   "execution_count": 1,
   "id": "e409b298-77ae-4ddd-a20a-aaac7765ee02",
   "metadata": {},
   "outputs": [],
   "source": [
    "import pandas as pd\n",
    "import numpy as np"
   ]
  },
  {
   "cell_type": "markdown",
   "id": "4436d95e-592a-4423-bc30-39410f8e0311",
   "metadata": {},
   "source": [
    "### RepeatedKFold - API"
   ]
  },
  {
   "cell_type": "markdown",
   "id": "eb2da860-a7d6-41fd-ad0a-321539000a42",
   "metadata": {},
   "source": [
    "__RepeatedKFold__ - jest wykorzystywany przy cross-validacji.\n",
    "Cross Validation - polega na podziale całego zbioru wejściwego na N podzbiorów. Następnie N-1 podzbiorów jest traktowane jako zbiór treningowy a ostatni podzbiór N jako zbiór testowy (validacyjny).  \n",
    "Cały proces uczenia i validacji jest powtarzany N razy, przy czym za każdym razem jako zbiór testowy wybierany jest inny podzbiór z N (automatycznie zbiór uczący jest przez to inny).  \n",
    "Dodatkowo cały proces dzielenia zbioru wejściowego na N podzbiorów też może być powtarzany.\n",
    "Właśnie do tego służy klasa __RepeatedKFold__. Metoda split zwraca indeksy elementów ze zbioru train i test dla każdej iteracji.\n"
   ]
  },
  {
   "cell_type": "code",
   "execution_count": 2,
   "id": "e6001119-571c-4472-a870-e851d7f542e4",
   "metadata": {},
   "outputs": [],
   "source": [
    "from sklearn.model_selection import RepeatedKFold"
   ]
  },
  {
   "cell_type": "code",
   "execution_count": 3,
   "id": "de2662c7-92b8-43a9-84ad-f3c64005991e",
   "metadata": {},
   "outputs": [],
   "source": [
    "x = np.array([[1, 2], [2, 3], [3, 4], [4, 5], [5, 6], [6, 7], [7, 8], [8, 9], [9, 0], [0, 1]])\n",
    "y = np.array([0, 0, 1, 1, 2, 2, 3, 3, 4, 4])"
   ]
  },
  {
   "cell_type": "code",
   "execution_count": 8,
   "id": "5f0a5e5b-58a2-4c21-b0a5-0cf6b68434a6",
   "metadata": {},
   "outputs": [],
   "source": [
    "# n_splits - this is a number of partitions that the input set will be split into. (one partition will be used for test, the rest for training)\n",
    "# n_repeats - the number of repetitions of the split process (the generator will return multiplied number of results)\n",
    "# random_state - it's a seed in the random process.\n",
    "rkf1 = RepeatedKFold(n_splits=2, n_repeats=1, random_state=100)"
   ]
  },
  {
   "cell_type": "code",
   "execution_count": 9,
   "id": "e592a950-a696-407e-a7c5-bec917ae8aae",
   "metadata": {},
   "outputs": [
    {
     "data": {
      "text/plain": [
       "2"
      ]
     },
     "execution_count": 9,
     "metadata": {},
     "output_type": "execute_result"
    }
   ],
   "source": [
    "rkf1.get_n_splits(x, y)"
   ]
  },
  {
   "cell_type": "code",
   "execution_count": 10,
   "id": "b0ef061e-3790-4c41-9d32-a255d5a5b2af",
   "metadata": {},
   "outputs": [
    {
     "data": {
      "text/plain": [
       "<generator object _RepeatedSplits.split at 0x7f7560975cf0>"
      ]
     },
     "execution_count": 10,
     "metadata": {},
     "output_type": "execute_result"
    }
   ],
   "source": [
    "split1 = rkf1.split(x) # generates indexes to split train and test datasets. it's a generator so it can be iterated only once\n",
    "split1"
   ]
  },
  {
   "cell_type": "code",
   "execution_count": 11,
   "id": "7fee02d7-ac5b-45ae-a449-8b197ddcdd03",
   "metadata": {},
   "outputs": [
    {
     "name": "stdout",
     "output_type": "stream",
     "text": [
      "train=[0 2 3 8 9]\n",
      "test=[1 4 5 6 7]\n",
      "train=[1 4 5 6 7]\n",
      "test=[0 2 3 8 9]\n"
     ]
    }
   ],
   "source": [
    "# the split always generates a tuple of (train, test) - the output is a random split\n",
    "for train, test in split1: \n",
    "    print(f'train={train}')\n",
    "    print(f'test={test}')"
   ]
  },
  {
   "cell_type": "code",
   "execution_count": 12,
   "id": "de8c6dc0-64ec-4a2b-bcd8-c7e89cdcc673",
   "metadata": {},
   "outputs": [
    {
     "name": "stdout",
     "output_type": "stream",
     "text": [
      "fold=0\n",
      "  train=[0 2 3 8 9]\n",
      "  test=[1 4 5 6 7]\n",
      "fold=1\n",
      "  train=[1 4 5 6 7]\n",
      "  test=[0 2 3 8 9]\n"
     ]
    }
   ],
   "source": [
    "# for better visualisaton of what has happened let's add an index of a split (partition) (partition is called a fold)\n",
    "split1 = rkf1.split(x)\n",
    "for fold, (train, test) in enumerate(split1): \n",
    "    print(f'fold={fold}')\n",
    "    print(f'  train={train}')\n",
    "    print(f'  test={test}')"
   ]
  },
  {
   "cell_type": "code",
   "execution_count": 13,
   "id": "5e1f4a73-6c85-43b0-acd6-3829fd5fcf8d",
   "metadata": {},
   "outputs": [
    {
     "name": "stdout",
     "output_type": "stream",
     "text": [
      "fold=0\n",
      "  train=[0 1 2 3 4 5 8 9]\n",
      "  test=[6 7]\n",
      "fold=1\n",
      "  train=[0 2 3 4 6 7 8 9]\n",
      "  test=[1 5]\n",
      "fold=2\n",
      "  train=[0 1 3 5 6 7 8 9]\n",
      "  test=[2 4]\n",
      "fold=3\n",
      "  train=[1 2 4 5 6 7 8 9]\n",
      "  test=[0 3]\n",
      "fold=4\n",
      "  train=[0 1 2 3 4 5 6 7]\n",
      "  test=[8 9]\n"
     ]
    }
   ],
   "source": [
    "rkf2 = RepeatedKFold(n_splits=5, n_repeats=1, random_state=100)\n",
    "split2 = rkf2.split(x) \n",
    "for fold, (train, test) in enumerate(split2): \n",
    "    print(f'fold={fold}')\n",
    "    print(f'  train={train}')\n",
    "    print(f'  test={test}')"
   ]
  },
  {
   "cell_type": "code",
   "execution_count": 14,
   "id": "58d72611-040f-4574-bcc4-41af05bac6f9",
   "metadata": {},
   "outputs": [
    {
     "name": "stdout",
     "output_type": "stream",
     "text": [
      "fold=0\n",
      "  train=[0 1 2 3 4 5 6 8 9]\n",
      "  test=[7]\n",
      "fold=1\n",
      "  train=[0 1 2 3 4 5 7 8 9]\n",
      "  test=[6]\n",
      "fold=2\n",
      "  train=[0 2 3 4 5 6 7 8 9]\n",
      "  test=[1]\n",
      "fold=3\n",
      "  train=[0 1 2 3 4 6 7 8 9]\n",
      "  test=[5]\n",
      "fold=4\n",
      "  train=[0 1 2 3 5 6 7 8 9]\n",
      "  test=[4]\n",
      "fold=5\n",
      "  train=[0 1 3 4 5 6 7 8 9]\n",
      "  test=[2]\n",
      "fold=6\n",
      "  train=[1 2 3 4 5 6 7 8 9]\n",
      "  test=[0]\n",
      "fold=7\n",
      "  train=[0 1 2 4 5 6 7 8 9]\n",
      "  test=[3]\n",
      "fold=8\n",
      "  train=[0 1 2 3 4 5 6 7 8]\n",
      "  test=[9]\n",
      "fold=9\n",
      "  train=[0 1 2 3 4 5 6 7 9]\n",
      "  test=[8]\n"
     ]
    }
   ],
   "source": [
    "rkf10 = RepeatedKFold(n_splits=10, n_repeats=1, random_state=100)\n",
    "split10 = rkf10.split(x) \n",
    "for fold, (train, test) in enumerate(split10): \n",
    "    print(f'fold={fold}')\n",
    "    print(f'  train={train}')\n",
    "    print(f'  test={test}')"
   ]
  },
  {
   "cell_type": "code",
   "execution_count": 15,
   "id": "82a8d4ee-d811-4387-8bb4-fbf07339abaa",
   "metadata": {},
   "outputs": [
    {
     "name": "stdout",
     "output_type": "stream",
     "text": [
      "fold=0\n",
      "  train=[0 1 2 3 4 5 8 9]\n",
      "  test=[6 7]\n",
      "fold=1\n",
      "  train=[0 2 3 4 6 7 8 9]\n",
      "  test=[1 5]\n",
      "fold=2\n",
      "  train=[0 1 3 5 6 7 8 9]\n",
      "  test=[2 4]\n",
      "fold=3\n",
      "  train=[1 2 4 5 6 7 8 9]\n",
      "  test=[0 3]\n",
      "fold=4\n",
      "  train=[0 1 2 3 4 5 6 7]\n",
      "  test=[8 9]\n",
      "fold=5\n",
      "  train=[0 1 2 3 4 5 6 9]\n",
      "  test=[7 8]\n",
      "fold=6\n",
      "  train=[0 1 2 4 6 7 8 9]\n",
      "  test=[3 5]\n",
      "fold=7\n",
      "  train=[0 1 2 3 5 7 8 9]\n",
      "  test=[4 6]\n",
      "fold=8\n",
      "  train=[2 3 4 5 6 7 8 9]\n",
      "  test=[0 1]\n",
      "fold=9\n",
      "  train=[0 1 3 4 5 6 7 8]\n",
      "  test=[2 9]\n"
     ]
    }
   ],
   "source": [
    "# Used n_repreats > 1\n",
    "rkf5_r2 = RepeatedKFold(n_splits=5, n_repeats=2, random_state=100)\n",
    "split5_r2 = rkf5_r2.split(x) \n",
    "for fold, (train, test) in enumerate(split5_r2): \n",
    "    print(f'fold={fold}')\n",
    "    print(f'  train={train}')\n",
    "    print(f'  test={test}')"
   ]
  },
  {
   "cell_type": "code",
   "execution_count": null,
   "id": "8b751b55-9fba-4691-a5ab-2b5bc7e83f96",
   "metadata": {},
   "outputs": [],
   "source": []
  },
  {
   "cell_type": "code",
   "execution_count": 2,
   "id": "1dbfc53c-dddf-422c-98d4-d862ca0a7881",
   "metadata": {},
   "outputs": [],
   "source": []
  },
  {
   "cell_type": "raw",
   "id": "29669957-068d-4ad8-9ff6-d00e50441308",
   "metadata": {},
   "source": []
  },
  {
   "cell_type": "code",
   "execution_count": null,
   "id": "5012278f-1c4b-4ec7-8982-1cecf98e90a0",
   "metadata": {},
   "outputs": [],
   "source": []
  },
  {
   "cell_type": "code",
   "execution_count": null,
   "id": "cad4518c-90ce-48f7-bf77-a9fccac4ebd0",
   "metadata": {},
   "outputs": [],
   "source": []
  },
  {
   "cell_type": "code",
   "execution_count": null,
   "id": "5bc8194c-693f-4243-bd1b-3ea26fd9de1c",
   "metadata": {},
   "outputs": [],
   "source": [
    "scores = cross_validate(model, X, y, cv=5, scoring=metrics)"
   ]
  }
 ],
 "metadata": {
  "kernelspec": {
   "display_name": "Python 3 (ipykernel)",
   "language": "python",
   "name": "python3"
  },
  "language_info": {
   "codemirror_mode": {
    "name": "ipython",
    "version": 3
   },
   "file_extension": ".py",
   "mimetype": "text/x-python",
   "name": "python",
   "nbconvert_exporter": "python",
   "pygments_lexer": "ipython3",
   "version": "3.9.13"
  }
 },
 "nbformat": 4,
 "nbformat_minor": 5
}
