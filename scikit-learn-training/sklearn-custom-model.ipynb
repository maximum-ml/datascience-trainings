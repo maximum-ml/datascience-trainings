{
 "cells": [
  {
   "cell_type": "markdown",
   "id": "36b9b8bc-5ec5-4f96-9831-bd87609278dc",
   "metadata": {},
   "source": [
    "# SciKit Learn - Custom Model (Estimator)"
   ]
  },
  {
   "cell_type": "code",
   "execution_count": 1,
   "id": "0f190c3d-30f4-49bf-86a0-b7074c73f8d6",
   "metadata": {},
   "outputs": [],
   "source": [
    "import pandas as pd\n",
    "import numpy as np"
   ]
  },
  {
   "cell_type": "code",
   "execution_count": 2,
   "id": "927209a6-cfab-4198-98d3-b27ade2fc40e",
   "metadata": {},
   "outputs": [],
   "source": [
    "from sklearn.base import BaseEstimator"
   ]
  },
  {
   "cell_type": "markdown",
   "id": "4d8b761e-ef6f-4b2c-a759-9c8991c9643b",
   "metadata": {},
   "source": [
    "https://scikit-learn.org/stable/developers/develop.html"
   ]
  },
  {
   "cell_type": "code",
   "execution_count": 4,
   "id": "1d2bfb46-988f-44d9-b43e-140c796199e0",
   "metadata": {},
   "outputs": [],
   "source": [
    "class MyCustomModel(BaseEstimator):\n",
    "\n",
    "    def __init__(self):\n",
    "        pass\n",
    "    \n",
    "    \n",
    "    def fit(self, X, y, sample_weight=None):\n",
    "        # TODO\n",
    "        return self\n",
    "\n",
    "    def predict(self, X):\n",
    "        # TODO\n",
    "        return None\n"
   ]
  },
  {
   "cell_type": "code",
   "execution_count": null,
   "id": "124fba7d-6eaf-4284-8e09-a06e0d6d5009",
   "metadata": {},
   "outputs": [],
   "source": []
  }
 ],
 "metadata": {
  "kernelspec": {
   "display_name": "Python 3 (ipykernel)",
   "language": "python",
   "name": "python3"
  },
  "language_info": {
   "codemirror_mode": {
    "name": "ipython",
    "version": 3
   },
   "file_extension": ".py",
   "mimetype": "text/x-python",
   "name": "python",
   "nbconvert_exporter": "python",
   "pygments_lexer": "ipython3",
   "version": "3.9.13"
  }
 },
 "nbformat": 4,
 "nbformat_minor": 5
}
