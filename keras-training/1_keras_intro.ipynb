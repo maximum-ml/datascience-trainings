{
 "cells": [
  {
   "cell_type": "markdown",
   "id": "990953f6-98ca-46ee-8b7c-bde04261198b",
   "metadata": {},
   "source": [
    "# Simple Keras (Tensorflow) training \n",
    "Based on - https://www.youtube.com/watch?v=qFJeN9V1ZsI&t=398s (DeepLizard tutorial)\n",
    "\n",
    "In this training we will create a small neural network (3 layers)"
   ]
  },
  {
   "cell_type": "markdown",
   "id": "553f8c54-c8f4-4407-a50c-e052697c00d6",
   "metadata": {},
   "source": [
    "## Data Preparation"
   ]
  },
  {
   "cell_type": "code",
   "execution_count": 1,
   "id": "fdf45147-25b8-43ca-a398-e498851cd254",
   "metadata": {},
   "outputs": [],
   "source": [
    "import numpy as np\n",
    "from random import randint\n",
    "from sklearn.utils import shuffle\n",
    "from sklearn.preprocessing import MinMaxScaler"
   ]
  },
  {
   "cell_type": "code",
   "execution_count": 2,
   "id": "4f6d934a-6f0b-492f-bbe6-2c8e8762cfda",
   "metadata": {},
   "outputs": [],
   "source": [
    "train_labels = []\n",
    "train_samples = []"
   ]
  },
  {
   "cell_type": "code",
   "execution_count": 3,
   "id": "cb33defa-3e32-4301-b834-baf26dfa672e",
   "metadata": {},
   "outputs": [],
   "source": [
    "for i in range(50) :\n",
    "    # 5% of young individuals who have side effects\n",
    "    young_age = randint(10, 59)\n",
    "    train_samples.append(young_age)\n",
    "    train_labels.append(1)\n",
    "    \n",
    "    # 5% of old individuals who do not have side effects\n",
    "    old_age = randint(60, 90)\n",
    "    train_samples.append(old_age)\n",
    "    train_labels.append(0)\n",
    "    \n",
    "for i in range(950) :\n",
    "    # 95% of young individuals who dont have side effects\n",
    "    young_age = randint(10, 59)\n",
    "    train_samples.append(young_age)\n",
    "    train_labels.append(0)\n",
    "    \n",
    "    # 95% of old individuals who do have side effects\n",
    "    old_age = randint(60, 90)\n",
    "    train_samples.append(old_age)\n",
    "    train_labels.append(1)    "
   ]
  },
  {
   "cell_type": "code",
   "execution_count": 4,
   "id": "12d4777e-6f83-411e-876e-981a2a56fa91",
   "metadata": {},
   "outputs": [],
   "source": [
    "import pandas as pd"
   ]
  },
  {
   "cell_type": "code",
   "execution_count": 5,
   "id": "752044d9-1939-4d1e-8662-014d34bdef6d",
   "metadata": {},
   "outputs": [
    {
     "data": {
      "text/html": [
       "<div>\n",
       "<style scoped>\n",
       "    .dataframe tbody tr th:only-of-type {\n",
       "        vertical-align: middle;\n",
       "    }\n",
       "\n",
       "    .dataframe tbody tr th {\n",
       "        vertical-align: top;\n",
       "    }\n",
       "\n",
       "    .dataframe thead th {\n",
       "        text-align: right;\n",
       "    }\n",
       "</style>\n",
       "<table border=\"1\" class=\"dataframe\">\n",
       "  <thead>\n",
       "    <tr style=\"text-align: right;\">\n",
       "      <th></th>\n",
       "      <th>AGE</th>\n",
       "      <th>SIDE_EFFECTS</th>\n",
       "    </tr>\n",
       "  </thead>\n",
       "  <tbody>\n",
       "    <tr>\n",
       "      <th>0</th>\n",
       "      <td>42</td>\n",
       "      <td>1</td>\n",
       "    </tr>\n",
       "    <tr>\n",
       "      <th>1</th>\n",
       "      <td>86</td>\n",
       "      <td>0</td>\n",
       "    </tr>\n",
       "    <tr>\n",
       "      <th>2</th>\n",
       "      <td>49</td>\n",
       "      <td>1</td>\n",
       "    </tr>\n",
       "    <tr>\n",
       "      <th>3</th>\n",
       "      <td>88</td>\n",
       "      <td>0</td>\n",
       "    </tr>\n",
       "    <tr>\n",
       "      <th>4</th>\n",
       "      <td>31</td>\n",
       "      <td>1</td>\n",
       "    </tr>\n",
       "  </tbody>\n",
       "</table>\n",
       "</div>"
      ],
      "text/plain": [
       "   AGE  SIDE_EFFECTS\n",
       "0   42             1\n",
       "1   86             0\n",
       "2   49             1\n",
       "3   88             0\n",
       "4   31             1"
      ]
     },
     "execution_count": 5,
     "metadata": {},
     "output_type": "execute_result"
    }
   ],
   "source": [
    "dict = {'AGE' : train_samples, 'SIDE_EFFECTS': train_labels}\n",
    "train_data = pd.DataFrame(dict)\n",
    "train_data.head()"
   ]
  },
  {
   "cell_type": "code",
   "execution_count": 6,
   "id": "524f0718-af24-4112-864f-0993b7c9cf9d",
   "metadata": {},
   "outputs": [],
   "source": [
    "train_labels = np.array(train_labels)\n",
    "train_samples = np.array(train_samples)\n",
    "train_labels, train_samples = shuffle(train_labels, train_samples)"
   ]
  },
  {
   "cell_type": "code",
   "execution_count": 7,
   "id": "f9beed34-fd29-4077-a8d4-46c18fd283b5",
   "metadata": {},
   "outputs": [
    {
     "data": {
      "text/plain": [
       "array([[0.1  ],\n",
       "       [0.275],\n",
       "       [0.05 ],\n",
       "       ...,\n",
       "       [0.025],\n",
       "       [0.875],\n",
       "       [0.55 ]])"
      ]
     },
     "execution_count": 7,
     "metadata": {},
     "output_type": "execute_result"
    }
   ],
   "source": [
    "scaler = MinMaxScaler(feature_range=(0,1))\n",
    "train_samples_r = train_samples.reshape(-1, 1)\n",
    "scaled_train_samples = scaler.fit_transform(train_samples_r)\n",
    "scaled_train_samples"
   ]
  },
  {
   "cell_type": "markdown",
   "id": "bbc8edde-efa8-4f00-95f8-7259a6e9af35",
   "metadata": {},
   "source": [
    "## Prepare Sequential Model"
   ]
  },
  {
   "cell_type": "code",
   "execution_count": 8,
   "id": "bc9cf93c-4361-40b8-af42-034db6d2b16d",
   "metadata": {},
   "outputs": [
    {
     "name": "stdout",
     "output_type": "stream",
     "text": [
      "TF version: 2.8.0\n"
     ]
    }
   ],
   "source": [
    "import tensorflow as tf\n",
    "from tensorflow import keras\n",
    "from tensorflow.keras.models import Sequential\n",
    "from tensorflow.keras.layers import Activation, Dense\n",
    "from tensorflow.keras.optimizers import Adam\n",
    "from tensorflow.keras.metrics import categorical_crossentropy\n",
    "\n",
    "print(\"TF version:\", tf.__version__)\n",
    "# print(\"Hub version:\", hub.__version__)"
   ]
  },
  {
   "cell_type": "code",
   "execution_count": 9,
   "id": "6e848151-bfc1-4bf4-978f-de4d42c48bee",
   "metadata": {},
   "outputs": [
    {
     "name": "stdout",
     "output_type": "stream",
     "text": [
      "GPU is unavaillable!\n"
     ]
    },
    {
     "name": "stderr",
     "output_type": "stream",
     "text": [
      "2022-03-16 12:57:57.183708: I tensorflow/stream_executor/cuda/cuda_gpu_executor.cc:936] successful NUMA node read from SysFS had negative value (-1), but there must be at least one NUMA node, so returning NUMA node zero\n",
      "2022-03-16 12:57:57.235606: W tensorflow/stream_executor/platform/default/dso_loader.cc:64] Could not load dynamic library 'libcudnn.so.8'; dlerror: libcudnn.so.8: cannot open shared object file: No such file or directory; LD_LIBRARY_PATH: :/usr/local/cuda/lib64\n",
      "2022-03-16 12:57:57.235622: W tensorflow/core/common_runtime/gpu/gpu_device.cc:1850] Cannot dlopen some GPU libraries. Please make sure the missing libraries mentioned above are installed properly if you would like to use GPU. Follow the guide at https://www.tensorflow.org/install/gpu for how to download and setup the required libraries for your platform.\n",
      "Skipping registering GPU devices...\n"
     ]
    }
   ],
   "source": [
    "physical_devices = tf.config.list_physical_devices('GPU')\n",
    "if len(physical_devices) > 0 :\n",
    "    print(\"GPU is available\") \n",
    "    tf.config.experimental.set_memory_growth(physical_devices[0], True)\n",
    "else:\n",
    "    print(\"GPU is unavaillable!\") "
   ]
  },
  {
   "cell_type": "code",
   "execution_count": 10,
   "id": "163eff16-dd3d-4574-8cd8-3be938876a5d",
   "metadata": {},
   "outputs": [
    {
     "name": "stderr",
     "output_type": "stream",
     "text": [
      "2022-03-16 12:57:57.257766: I tensorflow/core/platform/cpu_feature_guard.cc:151] This TensorFlow binary is optimized with oneAPI Deep Neural Network Library (oneDNN) to use the following CPU instructions in performance-critical operations:  AVX2 FMA\n",
      "To enable them in other operations, rebuild TensorFlow with the appropriate compiler flags.\n"
     ]
    }
   ],
   "source": [
    "model = Sequential([\n",
    "    Dense(units=16, activation='relu', input_shape=(1,)),\n",
    "    Dense(units=32, activation='relu'),\n",
    "    Dense(units=2, activation='softmax')\n",
    "])"
   ]
  },
  {
   "cell_type": "code",
   "execution_count": 11,
   "id": "00973495-4243-4b57-abff-e762583a1ac5",
   "metadata": {},
   "outputs": [
    {
     "name": "stdout",
     "output_type": "stream",
     "text": [
      "Model: \"sequential\"\n",
      "_________________________________________________________________\n",
      " Layer (type)                Output Shape              Param #   \n",
      "=================================================================\n",
      " dense (Dense)               (None, 16)                32        \n",
      "                                                                 \n",
      " dense_1 (Dense)             (None, 32)                544       \n",
      "                                                                 \n",
      " dense_2 (Dense)             (None, 2)                 66        \n",
      "                                                                 \n",
      "=================================================================\n",
      "Total params: 642\n",
      "Trainable params: 642\n",
      "Non-trainable params: 0\n",
      "_________________________________________________________________\n"
     ]
    }
   ],
   "source": [
    "model.summary()"
   ]
  },
  {
   "cell_type": "code",
   "execution_count": 12,
   "id": "78e1e02e-3ca3-487d-8e3d-69a5780238d5",
   "metadata": {},
   "outputs": [],
   "source": [
    "model.compile(optimizer=Adam(learning_rate=0.0001), loss='sparse_categorical_crossentropy', metrics=['accuracy'])"
   ]
  },
  {
   "cell_type": "code",
   "execution_count": 13,
   "id": "17b7369e-ae57-4137-a63a-7163fc6595c2",
   "metadata": {},
   "outputs": [
    {
     "name": "stdout",
     "output_type": "stream",
     "text": [
      "Epoch 1/50\n",
      "160/160 - 1s - loss: 0.7087 - accuracy: 0.4625 - val_loss: 0.6970 - val_accuracy: 0.4950 - 529ms/epoch - 3ms/step\n",
      "Epoch 2/50\n",
      "160/160 - 0s - loss: 0.6859 - accuracy: 0.6463 - val_loss: 0.6709 - val_accuracy: 0.7450 - 177ms/epoch - 1ms/step\n",
      "Epoch 3/50\n",
      "160/160 - 0s - loss: 0.6558 - accuracy: 0.7725 - val_loss: 0.6381 - val_accuracy: 0.8250 - 180ms/epoch - 1ms/step\n",
      "Epoch 4/50\n",
      "160/160 - 0s - loss: 0.6276 - accuracy: 0.8138 - val_loss: 0.6122 - val_accuracy: 0.8250 - 163ms/epoch - 1ms/step\n",
      "Epoch 5/50\n",
      "160/160 - 0s - loss: 0.6022 - accuracy: 0.8219 - val_loss: 0.5861 - val_accuracy: 0.8325 - 161ms/epoch - 1ms/step\n",
      "Epoch 6/50\n",
      "160/160 - 0s - loss: 0.5766 - accuracy: 0.8219 - val_loss: 0.5598 - val_accuracy: 0.8500 - 164ms/epoch - 1ms/step\n",
      "Epoch 7/50\n",
      "160/160 - 0s - loss: 0.5508 - accuracy: 0.8344 - val_loss: 0.5330 - val_accuracy: 0.8600 - 175ms/epoch - 1ms/step\n",
      "Epoch 8/50\n",
      "160/160 - 0s - loss: 0.5248 - accuracy: 0.8506 - val_loss: 0.5075 - val_accuracy: 0.8600 - 185ms/epoch - 1ms/step\n",
      "Epoch 9/50\n",
      "160/160 - 0s - loss: 0.5009 - accuracy: 0.8600 - val_loss: 0.4844 - val_accuracy: 0.8675 - 186ms/epoch - 1ms/step\n",
      "Epoch 10/50\n",
      "160/160 - 0s - loss: 0.4785 - accuracy: 0.8712 - val_loss: 0.4621 - val_accuracy: 0.8700 - 186ms/epoch - 1ms/step\n",
      "Epoch 11/50\n",
      "160/160 - 0s - loss: 0.4569 - accuracy: 0.8719 - val_loss: 0.4417 - val_accuracy: 0.8800 - 185ms/epoch - 1ms/step\n",
      "Epoch 12/50\n",
      "160/160 - 0s - loss: 0.4367 - accuracy: 0.8875 - val_loss: 0.4219 - val_accuracy: 0.8800 - 174ms/epoch - 1ms/step\n",
      "Epoch 13/50\n",
      "160/160 - 0s - loss: 0.4181 - accuracy: 0.8838 - val_loss: 0.4045 - val_accuracy: 0.8925 - 173ms/epoch - 1ms/step\n",
      "Epoch 14/50\n",
      "160/160 - 0s - loss: 0.4009 - accuracy: 0.8931 - val_loss: 0.3883 - val_accuracy: 0.9000 - 171ms/epoch - 1ms/step\n",
      "Epoch 15/50\n",
      "160/160 - 0s - loss: 0.3856 - accuracy: 0.8938 - val_loss: 0.3741 - val_accuracy: 0.9000 - 170ms/epoch - 1ms/step\n",
      "Epoch 16/50\n",
      "160/160 - 0s - loss: 0.3717 - accuracy: 0.8969 - val_loss: 0.3615 - val_accuracy: 0.9000 - 166ms/epoch - 1ms/step\n",
      "Epoch 17/50\n",
      "160/160 - 0s - loss: 0.3595 - accuracy: 0.9019 - val_loss: 0.3502 - val_accuracy: 0.9150 - 171ms/epoch - 1ms/step\n",
      "Epoch 18/50\n",
      "160/160 - 0s - loss: 0.3481 - accuracy: 0.9044 - val_loss: 0.3403 - val_accuracy: 0.9150 - 173ms/epoch - 1ms/step\n",
      "Epoch 19/50\n",
      "160/160 - 0s - loss: 0.3383 - accuracy: 0.9106 - val_loss: 0.3317 - val_accuracy: 0.9250 - 177ms/epoch - 1ms/step\n",
      "Epoch 20/50\n",
      "160/160 - 0s - loss: 0.3298 - accuracy: 0.9125 - val_loss: 0.3239 - val_accuracy: 0.9150 - 187ms/epoch - 1ms/step\n",
      "Epoch 21/50\n",
      "160/160 - 0s - loss: 0.3225 - accuracy: 0.9106 - val_loss: 0.3177 - val_accuracy: 0.9250 - 171ms/epoch - 1ms/step\n",
      "Epoch 22/50\n",
      "160/160 - 0s - loss: 0.3161 - accuracy: 0.9131 - val_loss: 0.3124 - val_accuracy: 0.9250 - 190ms/epoch - 1ms/step\n",
      "Epoch 23/50\n",
      "160/160 - 0s - loss: 0.3102 - accuracy: 0.9162 - val_loss: 0.3074 - val_accuracy: 0.9250 - 175ms/epoch - 1ms/step\n",
      "Epoch 24/50\n",
      "160/160 - 0s - loss: 0.3052 - accuracy: 0.9131 - val_loss: 0.3032 - val_accuracy: 0.9250 - 173ms/epoch - 1ms/step\n",
      "Epoch 25/50\n",
      "160/160 - 0s - loss: 0.3009 - accuracy: 0.9162 - val_loss: 0.2998 - val_accuracy: 0.9250 - 171ms/epoch - 1ms/step\n",
      "Epoch 26/50\n",
      "160/160 - 0s - loss: 0.2970 - accuracy: 0.9144 - val_loss: 0.2964 - val_accuracy: 0.9250 - 169ms/epoch - 1ms/step\n",
      "Epoch 27/50\n",
      "160/160 - 0s - loss: 0.2935 - accuracy: 0.9169 - val_loss: 0.2938 - val_accuracy: 0.9250 - 182ms/epoch - 1ms/step\n",
      "Epoch 28/50\n",
      "160/160 - 0s - loss: 0.2906 - accuracy: 0.9256 - val_loss: 0.2908 - val_accuracy: 0.9250 - 173ms/epoch - 1ms/step\n",
      "Epoch 29/50\n",
      "160/160 - 0s - loss: 0.2879 - accuracy: 0.9187 - val_loss: 0.2890 - val_accuracy: 0.9250 - 172ms/epoch - 1ms/step\n",
      "Epoch 30/50\n",
      "160/160 - 0s - loss: 0.2853 - accuracy: 0.9206 - val_loss: 0.2868 - val_accuracy: 0.9250 - 170ms/epoch - 1ms/step\n",
      "Epoch 31/50\n",
      "160/160 - 0s - loss: 0.2832 - accuracy: 0.9212 - val_loss: 0.2853 - val_accuracy: 0.9250 - 169ms/epoch - 1ms/step\n",
      "Epoch 32/50\n",
      "160/160 - 0s - loss: 0.2813 - accuracy: 0.9212 - val_loss: 0.2836 - val_accuracy: 0.9250 - 171ms/epoch - 1ms/step\n",
      "Epoch 33/50\n",
      "160/160 - 0s - loss: 0.2795 - accuracy: 0.9244 - val_loss: 0.2820 - val_accuracy: 0.9250 - 159ms/epoch - 993us/step\n",
      "Epoch 34/50\n",
      "160/160 - 0s - loss: 0.2777 - accuracy: 0.9250 - val_loss: 0.2807 - val_accuracy: 0.9350 - 168ms/epoch - 1ms/step\n",
      "Epoch 35/50\n",
      "160/160 - 0s - loss: 0.2764 - accuracy: 0.9262 - val_loss: 0.2793 - val_accuracy: 0.9250 - 164ms/epoch - 1ms/step\n",
      "Epoch 36/50\n",
      "160/160 - 0s - loss: 0.2751 - accuracy: 0.9225 - val_loss: 0.2782 - val_accuracy: 0.9250 - 173ms/epoch - 1ms/step\n",
      "Epoch 37/50\n",
      "160/160 - 0s - loss: 0.2739 - accuracy: 0.9281 - val_loss: 0.2778 - val_accuracy: 0.9350 - 171ms/epoch - 1ms/step\n",
      "Epoch 38/50\n",
      "160/160 - 0s - loss: 0.2728 - accuracy: 0.9275 - val_loss: 0.2765 - val_accuracy: 0.9350 - 169ms/epoch - 1ms/step\n",
      "Epoch 39/50\n",
      "160/160 - 0s - loss: 0.2718 - accuracy: 0.9262 - val_loss: 0.2755 - val_accuracy: 0.9250 - 169ms/epoch - 1ms/step\n",
      "Epoch 40/50\n",
      "160/160 - 0s - loss: 0.2708 - accuracy: 0.9275 - val_loss: 0.2756 - val_accuracy: 0.9350 - 177ms/epoch - 1ms/step\n",
      "Epoch 41/50\n",
      "160/160 - 0s - loss: 0.2701 - accuracy: 0.9300 - val_loss: 0.2746 - val_accuracy: 0.9350 - 168ms/epoch - 1ms/step\n",
      "Epoch 42/50\n",
      "160/160 - 0s - loss: 0.2693 - accuracy: 0.9306 - val_loss: 0.2736 - val_accuracy: 0.9350 - 168ms/epoch - 1ms/step\n",
      "Epoch 43/50\n",
      "160/160 - 0s - loss: 0.2687 - accuracy: 0.9306 - val_loss: 0.2731 - val_accuracy: 0.9350 - 167ms/epoch - 1ms/step\n",
      "Epoch 44/50\n",
      "160/160 - 0s - loss: 0.2680 - accuracy: 0.9306 - val_loss: 0.2728 - val_accuracy: 0.9350 - 166ms/epoch - 1ms/step\n",
      "Epoch 45/50\n",
      "160/160 - 0s - loss: 0.2673 - accuracy: 0.9306 - val_loss: 0.2724 - val_accuracy: 0.9350 - 167ms/epoch - 1ms/step\n",
      "Epoch 46/50\n",
      "160/160 - 0s - loss: 0.2668 - accuracy: 0.9306 - val_loss: 0.2714 - val_accuracy: 0.9350 - 165ms/epoch - 1ms/step\n",
      "Epoch 47/50\n",
      "160/160 - 0s - loss: 0.2662 - accuracy: 0.9306 - val_loss: 0.2713 - val_accuracy: 0.9350 - 175ms/epoch - 1ms/step\n",
      "Epoch 48/50\n",
      "160/160 - 0s - loss: 0.2656 - accuracy: 0.9306 - val_loss: 0.2707 - val_accuracy: 0.9350 - 170ms/epoch - 1ms/step\n",
      "Epoch 49/50\n",
      "160/160 - 0s - loss: 0.2651 - accuracy: 0.9325 - val_loss: 0.2702 - val_accuracy: 0.9350 - 171ms/epoch - 1ms/step\n",
      "Epoch 50/50\n",
      "160/160 - 0s - loss: 0.2649 - accuracy: 0.9306 - val_loss: 0.2697 - val_accuracy: 0.9350 - 163ms/epoch - 1ms/step\n"
     ]
    },
    {
     "data": {
      "text/plain": [
       "<keras.callbacks.History at 0x7f58ec090880>"
      ]
     },
     "execution_count": 13,
     "metadata": {},
     "output_type": "execute_result"
    }
   ],
   "source": [
    "# validation_split - creates validation set from the training set (validation data is no longer used as training data)\n",
    "# shuffle - shuffles the training data set after splitting it into train & validation sets so this is not optimal solution!!!\n",
    "\n",
    "model.fit(x=scaled_train_samples, y=train_labels, validation_split=0.2, batch_size=10, epochs=50, shuffle=True, verbose=2)"
   ]
  },
  {
   "cell_type": "markdown",
   "id": "df0d4b0a-b87a-47f2-8ef5-835c517e0238",
   "metadata": {},
   "source": [
    "## Predictions"
   ]
  },
  {
   "cell_type": "code",
   "execution_count": 18,
   "id": "b0cb0343-1659-46c5-804f-cad7784c3d17",
   "metadata": {},
   "outputs": [],
   "source": [
    "test_labels = []\n",
    "test_samples = []"
   ]
  },
  {
   "cell_type": "code",
   "execution_count": 19,
   "id": "84c219a1-a45b-4432-9be4-8cc14dc069e9",
   "metadata": {},
   "outputs": [],
   "source": [
    "for i in range(10) :\n",
    "    # 5% of young individuals who have side effects\n",
    "    young_age = randint(10, 59)\n",
    "    test_samples.append(young_age)\n",
    "    test_labels.append(1)\n",
    "    \n",
    "    # 5% of old individuals who do not have side effects\n",
    "    old_age = randint(60, 90)\n",
    "    test_samples.append(old_age)\n",
    "    test_labels.append(0)\n",
    "    \n",
    "for i in range(90) :\n",
    "    # 95% of young individuals who dont have side effects\n",
    "    young_age = randint(10, 59)\n",
    "    test_samples.append(young_age)\n",
    "    test_labels.append(0)\n",
    "    \n",
    "    # 95% of old individuals who do have side effects\n",
    "    old_age = randint(60, 90)\n",
    "    test_samples.append(old_age)\n",
    "    test_labels.append(1)\n",
    "    \n",
    "    \n"
   ]
  },
  {
   "cell_type": "code",
   "execution_count": 20,
   "id": "4a4f217f-2c1e-4d1e-8562-b435ce4678ca",
   "metadata": {},
   "outputs": [
    {
     "data": {
      "text/plain": [
       "array([[0.775 ],\n",
       "       [0.1625],\n",
       "       [0.8125],\n",
       "       [0.1375],\n",
       "       [0.4375]])"
      ]
     },
     "execution_count": 20,
     "metadata": {},
     "output_type": "execute_result"
    }
   ],
   "source": [
    "test_labels = np.array(test_labels)\n",
    "test_samples = np.array(test_samples)\n",
    "test_labels, test_samples = shuffle(test_labels, test_samples)    \n",
    "\n",
    "test_samples_r = test_samples.reshape(-1, 1)\n",
    "scaled_test_samples = scaler.fit_transform(test_samples_r)\n",
    "scaled_test_samples[:5] "
   ]
  },
  {
   "cell_type": "code",
   "execution_count": 21,
   "id": "5a3d6b90-ca95-4a2d-a46e-8b33da2aff2e",
   "metadata": {},
   "outputs": [
    {
     "data": {
      "text/plain": [
       "array([[0.09603932, 0.9039607 ],\n",
       "       [0.97844315, 0.02155689],\n",
       "       [0.06511824, 0.93488175],\n",
       "       [0.97865915, 0.02134088],\n",
       "       [0.87460613, 0.12539388]], dtype=float32)"
      ]
     },
     "execution_count": 21,
     "metadata": {},
     "output_type": "execute_result"
    }
   ],
   "source": [
    "predictions = model.predict(x=scaled_test_samples, batch_size=10, verbose=0)\n",
    "predictions[:5]"
   ]
  },
  {
   "cell_type": "code",
   "execution_count": 22,
   "id": "e014113d-734b-4497-ade3-eb9edd831b96",
   "metadata": {},
   "outputs": [
    {
     "data": {
      "text/plain": [
       "array([1, 0, 1, 0, 0])"
      ]
     },
     "execution_count": 22,
     "metadata": {},
     "output_type": "execute_result"
    }
   ],
   "source": [
    "predicted_labels = np.argmax(predictions, axis=1)\n",
    "predicted_labels[:5]"
   ]
  },
  {
   "cell_type": "markdown",
   "id": "114efa47-9472-4750-b36a-85933dba9aa3",
   "metadata": {},
   "source": [
    "## Confusion Matrix"
   ]
  },
  {
   "cell_type": "code",
   "execution_count": 31,
   "id": "357f444e-68bc-4930-8ce6-4a60f0c81137",
   "metadata": {},
   "outputs": [],
   "source": [
    "# from sklearn.metrics import confusion_matrix\n",
    "from sklearn.metrics import ConfusionMatrixDisplay\n",
    "from sklearn.metrics import plot_confusion_matrix\n",
    "import itertools\n",
    "import matplotlib.pyplot as plt"
   ]
  },
  {
   "cell_type": "code",
   "execution_count": 24,
   "id": "767056ac-8d14-432f-b66b-b89a22ce3df2",
   "metadata": {},
   "outputs": [],
   "source": [
    "c_matrix = confusion_matrix(y_true=test_labels, y_pred=predicted_labels)"
   ]
  },
  {
   "cell_type": "code",
   "execution_count": 30,
   "id": "cfb493ed-123b-4e21-93bf-0fb9a3962882",
   "metadata": {},
   "outputs": [
    {
     "data": {
      "text/plain": [
       "<sklearn.metrics._plot.confusion_matrix.ConfusionMatrixDisplay at 0x7f58856a0d90>"
      ]
     },
     "execution_count": 30,
     "metadata": {},
     "output_type": "execute_result"
    },
    {
     "data": {
      "image/png": "[encoded data removed]",
      "text/plain": [
       "<Figure size 432x288 with 2 Axes>"
      ]
     },
     "metadata": {
      "needs_background": "light"
     },
     "output_type": "display_data"
    }
   ],
   "source": [
    "ConfusionMatrixDisplay.from_predictions(y_true=test_labels, y_pred=predicted_labels)\n",
    "# plot_confusion_matrix(c_matrix)"
   ]
  },
  {
   "cell_type": "markdown",
   "id": "6122fee4-1f84-4af0-85b5-14683fb591ad",
   "metadata": {},
   "source": [
    "## Save & Load a Model"
   ]
  },
  {
   "cell_type": "markdown",
   "id": "d46a242c-6271-4625-9f58-4688787ad266",
   "metadata": {},
   "source": [
    "### 1. model.save()"
   ]
  },
  {
   "cell_type": "markdown",
   "id": "28c44535-0b67-4455-8a95-b6d6d9244f61",
   "metadata": {},
   "source": [
    "This function saves the following elements:\n",
    "* the architecture of the model (allowing to recreate it later)\n",
    "* the weights of the model\n",
    "* the training configuration (optimizer and loss function)\n",
    "* the state of the optimizer, allowing to resume training at the point where it was left"
   ]
  },
  {
   "cell_type": "code",
   "execution_count": 32,
   "id": "eaaea676-f03a-439b-a6ad-d32480453877",
   "metadata": {},
   "outputs": [],
   "source": []
  },
  {
   "cell_type": "code",
   "execution_count": 34,
   "id": "f39044dc-4e20-4828-a530-f67ef7361570",
   "metadata": {},
   "outputs": [],
   "source": [
    "model.save('models/model1.h5') # this will create the directory if it does not exist"
   ]
  },
  {
   "cell_type": "code",
   "execution_count": 36,
   "id": "6babfac8-3741-4f53-a291-dae2db23cb1d",
   "metadata": {},
   "outputs": [
    {
     "name": "stdout",
     "output_type": "stream",
     "text": [
      "Model: \"sequential\"\n",
      "_________________________________________________________________\n",
      " Layer (type)                Output Shape              Param #   \n",
      "=================================================================\n",
      " dense (Dense)               (None, 16)                32        \n",
      "                                                                 \n",
      " dense_1 (Dense)             (None, 32)                544       \n",
      "                                                                 \n",
      " dense_2 (Dense)             (None, 2)                 66        \n",
      "                                                                 \n",
      "=================================================================\n",
      "Total params: 642\n",
      "Trainable params: 642\n",
      "Non-trainable params: 0\n",
      "_________________________________________________________________\n"
     ]
    }
   ],
   "source": [
    "from tensorflow.keras.models import load_model\n",
    "new_model = load_model('models/model1.h5')\n",
    "new_model.summary()"
   ]
  },
  {
   "cell_type": "code",
   "execution_count": 39,
   "id": "1c4df7a2-259f-4b59-8b91-daff00a5b553",
   "metadata": {},
   "outputs": [
    {
     "name": "stdout",
     "output_type": "stream",
     "text": [
      "<class 'list'>\n",
      "[array([[-0.07260936, -0.58577996, -0.11403081,  0.13830782,  0.48272288,\n",
      "         0.06178328, -0.48325956,  0.6217374 , -0.19210812,  0.3637287 ,\n",
      "         0.31784195,  0.66511494, -0.03774904, -0.3272515 ,  0.5223413 ,\n",
      "        -0.11039177]], dtype=float32)]\n"
     ]
    }
   ],
   "source": [
    "weights = new_model.get_weights()\n",
    "print(type(weights))\n",
    "print(weights[:1])"
   ]
  },
  {
   "cell_type": "markdown",
   "id": "b26df11a-098c-40b9-a4de-a6a6f8d9aa20",
   "metadata": {},
   "source": [
    "### 2. model.to_json() or model.to_saml()"
   ]
  },
  {
   "cell_type": "markdown",
   "id": "2adb3519-927a-4b29-87f7-d1f9abec5014",
   "metadata": {},
   "source": [
    "This is used to save only the architecture of the model without its weights and training configuration "
   ]
  },
  {
   "cell_type": "code",
   "execution_count": 40,
   "id": "30e97bff-958b-4225-bd29-0f2b1445594b",
   "metadata": {},
   "outputs": [
    {
     "data": {
      "text/plain": [
       "'{\"class_name\": \"Sequential\", \"config\": {\"name\": \"sequential\", \"layers\": [{\"class_name\": \"InputLayer\", \"config\": {\"batch_input_shape\": [null, 1], \"dtype\": \"float32\", \"sparse\": false, \"ragged\": false, \"name\": \"dense_input\"}}, {\"class_name\": \"Dense\", \"config\": {\"name\": \"dense\", \"trainable\": true, \"batch_input_shape\": [null, 1], \"dtype\": \"float32\", \"units\": 16, \"activation\": \"relu\", \"use_bias\": true, \"kernel_initializer\": {\"class_name\": \"GlorotUniform\", \"config\": {\"seed\": null}}, \"bias_initializer\": {\"class_name\": \"Zeros\", \"config\": {}}, \"kernel_regularizer\": null, \"bias_regularizer\": null, \"activity_regularizer\": null, \"kernel_constraint\": null, \"bias_constraint\": null}}, {\"class_name\": \"Dense\", \"config\": {\"name\": \"dense_1\", \"trainable\": true, \"dtype\": \"float32\", \"units\": 32, \"activation\": \"relu\", \"use_bias\": true, \"kernel_initializer\": {\"class_name\": \"GlorotUniform\", \"config\": {\"seed\": null}}, \"bias_initializer\": {\"class_name\": \"Zeros\", \"config\": {}}, \"kernel_regularizer\": null, \"bias_regularizer\": null, \"activity_regularizer\": null, \"kernel_constraint\": null, \"bias_constraint\": null}}, {\"class_name\": \"Dense\", \"config\": {\"name\": \"dense_2\", \"trainable\": true, \"dtype\": \"float32\", \"units\": 2, \"activation\": \"softmax\", \"use_bias\": true, \"kernel_initializer\": {\"class_name\": \"GlorotUniform\", \"config\": {\"seed\": null}}, \"bias_initializer\": {\"class_name\": \"Zeros\", \"config\": {}}, \"kernel_regularizer\": null, \"bias_regularizer\": null, \"activity_regularizer\": null, \"kernel_constraint\": null, \"bias_constraint\": null}}]}, \"keras_version\": \"2.8.0\", \"backend\": \"tensorflow\"}'"
      ]
     },
     "execution_count": 40,
     "metadata": {},
     "output_type": "execute_result"
    }
   ],
   "source": [
    "model_as_json = model.to_json()\n",
    "model_as_json"
   ]
  },
  {
   "cell_type": "code",
   "execution_count": 41,
   "id": "9a69fc74-ea9c-41d8-86d9-0e57c9e7a6f1",
   "metadata": {},
   "outputs": [
    {
     "name": "stdout",
     "output_type": "stream",
     "text": [
      "Model: \"sequential\"\n",
      "_________________________________________________________________\n",
      " Layer (type)                Output Shape              Param #   \n",
      "=================================================================\n",
      " dense (Dense)               (None, 16)                32        \n",
      "                                                                 \n",
      " dense_1 (Dense)             (None, 32)                544       \n",
      "                                                                 \n",
      " dense_2 (Dense)             (None, 2)                 66        \n",
      "                                                                 \n",
      "=================================================================\n",
      "Total params: 642\n",
      "Trainable params: 642\n",
      "Non-trainable params: 0\n",
      "_________________________________________________________________\n"
     ]
    }
   ],
   "source": [
    "from tensorflow.keras.models import model_from_json\n",
    "\n",
    "model_architecture = model_from_json(model_as_json)\n",
    "model_architecture.summary()"
   ]
  },
  {
   "cell_type": "markdown",
   "id": "e2e7d665-fac9-499c-88dc-4744f474bb12",
   "metadata": {},
   "source": [
    "### 3. model.save_weights()"
   ]
  },
  {
   "cell_type": "code",
   "execution_count": 42,
   "id": "bd175aaf-a573-4ca5-b1e6-cb6b051d64c3",
   "metadata": {},
   "outputs": [
    {
     "name": "stdout",
     "output_type": "stream",
     "text": [
      "[array([[-0.07260936, -0.58577996, -0.11403081,  0.13830782,  0.48272288,\n",
      "         0.06178328, -0.48325956,  0.6217374 , -0.19210812,  0.3637287 ,\n",
      "         0.31784195,  0.66511494, -0.03774904, -0.3272515 ,  0.5223413 ,\n",
      "        -0.11039177]], dtype=float32)]\n"
     ]
    }
   ],
   "source": [
    "model.save_weights('models/model1_weights.h5')\n",
    "model_architecture.load_weights('models/model1_weights.h5')\n",
    "weights = model_architecture.get_weights()\n",
    "print(weights[:1])"
   ]
  },
  {
   "cell_type": "code",
   "execution_count": null,
   "id": "83a75149-5961-4916-a963-564d0e182242",
   "metadata": {},
   "outputs": [],
   "source": []
  }
 ],
 "metadata": {
  "kernelspec": {
   "display_name": "Python 3 (ipykernel)",
   "language": "python",
   "name": "python3"
  },
  "language_info": {
   "codemirror_mode": {
    "name": "ipython",
    "version": 3
   },
   "file_extension": ".py",
   "mimetype": "text/x-python",
   "name": "python",
   "nbconvert_exporter": "python",
   "pygments_lexer": "ipython3",
   "version": "3.8.10"
  }
 },
 "nbformat": 4,
 "nbformat_minor": 5
}
