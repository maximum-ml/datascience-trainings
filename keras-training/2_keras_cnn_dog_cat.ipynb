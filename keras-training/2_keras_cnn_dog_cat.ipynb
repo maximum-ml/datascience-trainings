{
 "cells": [
  {
   "cell_type": "markdown",
   "id": "26ae3c42-7dd2-49bf-b1bb-26177c3fcdb7",
   "metadata": {},
   "source": [
    "# Keras CNN Training (cat & dog classification)\n",
    "based on https://www.youtube.com/watch?v=qFJeN9V1ZsI&t=1608s  (DeepLizard tutorial)"
   ]
  },
  {
   "cell_type": "markdown",
   "id": "6e99fa8c-0fef-431d-9302-d3e370af41a1",
   "metadata": {},
   "source": [
    "## Preparing data"
   ]
  },
  {
   "cell_type": "code",
   "execution_count": 1,
   "id": "8a49782e-5f7d-429e-a26a-a26b6ddd28c3",
   "metadata": {},
   "outputs": [],
   "source": [
    "import numpy as np\n",
    "from random import randint\n",
    "from sklearn.utils import shuffle\n",
    "from sklearn.preprocessing import MinMaxScaler\n",
    "import os\n",
    "import glob\n",
    "import shutil\n",
    "import itertools\n"
   ]
  },
  {
   "cell_type": "code",
   "execution_count": 2,
   "id": "f727a859-a9f8-456b-81bd-bb98df8f0885",
   "metadata": {},
   "outputs": [],
   "source": [
    "import tensorflow as tf\n",
    "from tensorflow import keras\n",
    "from tensorflow.keras.models import Sequential\n",
    "from tensorflow.keras.layers import Activation, Dense, Conv2D, MaxPool2D, Flatten\n",
    "from tensorflow.keras.optimizers import Adam\n",
    "from tensorflow.keras.metrics import categorical_crossentropy\n",
    "from tensorflow.keras.preprocessing.image import ImageDataGenerator"
   ]
  },
  {
   "cell_type": "code",
   "execution_count": 16,
   "id": "6fb250d7-6cf9-4e83-8b09-79ba45be02dd",
   "metadata": {},
   "outputs": [
    {
     "name": "stdout",
     "output_type": "stream",
     "text": [
      "dogs len=1000\n"
     ]
    }
   ],
   "source": [
    "# prepare train data\n",
    "all_cats = glob.glob('data/cats_vs_dogs/all/cats/cat.2???.jpg')\n",
    "print(f'cats len={len(all_cats)}')\n",
    "all_cats.sort()\n",
    "for file in all_cats :\n",
    "    shutil.copy(file, 'data/cats_vs_dogs/train/cats/')\n",
    "\n",
    "all_dogs = glob.glob('data/cats_vs_dogs/all/dogs/dog.2???.jpg')\n",
    "print(f'dogs len={len(all_dogs)}')\n",
    "all_dogs.sort()\n",
    "for file in all_dogs :\n",
    "    shutil.copy(file, 'data/cats_vs_dogs/train/dogs/')"
   ]
  },
  {
   "cell_type": "code",
   "execution_count": 17,
   "id": "000e1644-1220-4867-aeb4-886efdf0ffda",
   "metadata": {},
   "outputs": [
    {
     "name": "stdout",
     "output_type": "stream",
     "text": [
      "valid cats len=500\n",
      "valid dogs len=500\n"
     ]
    }
   ],
   "source": [
    "# prepare validation data\n",
    "all_cats = glob.glob('data/cats_vs_dogs/all/cats/cat.1???.jpg')[:500]\n",
    "print(f'valid cats len={len(all_cats)}')\n",
    "all_cats.sort()\n",
    "for file in all_cats :\n",
    "    shutil.copy(file, 'data/cats_vs_dogs/valid/cats/')\n",
    "\n",
    "all_dogs = glob.glob('data/cats_vs_dogs/all/dogs/dog.1???.jpg')[:500]\n",
    "print(f'valid dogs len={len(all_dogs)}')\n",
    "all_dogs.sort()\n",
    "for file in all_dogs :\n",
    "    shutil.copy(file, 'data/cats_vs_dogs/valid/dogs/')"
   ]
  },
  {
   "cell_type": "code",
   "execution_count": 3,
   "id": "64d09405-dcbf-438a-a334-882c5aa63f42",
   "metadata": {},
   "outputs": [],
   "source": [
    "train_path = 'data/cats_vs_dogs/train'\n",
    "valid_path = 'data/cats_vs_dogs/valid'"
   ]
  },
  {
   "cell_type": "code",
   "execution_count": 4,
   "id": "939f5697-ab29-49f4-b9f4-9b39ee223018",
   "metadata": {},
   "outputs": [
    {
     "name": "stdout",
     "output_type": "stream",
     "text": [
      "Found 2000 images belonging to 2 classes.\n",
      "Found 1000 images belonging to 2 classes.\n"
     ]
    }
   ],
   "source": [
    "train_batches = ImageDataGenerator(preprocessing_function=tf.keras.applications.vgg16.preprocess_input) \\\n",
    "    .flow_from_directory(directory=train_path, target_size=(224,224), classes=['cats', 'dogs'], batch_size=20)\n",
    "valid_batches = ImageDataGenerator(preprocessing_function=tf.keras.applications.vgg16.preprocess_input) \\\n",
    "    .flow_from_directory(directory=valid_path, target_size=(224,224), classes=['cats', 'dogs'], batch_size=20)"
   ]
  },
  {
   "cell_type": "markdown",
   "id": "038ac0e3-bdf6-4108-90c9-20238f09b163",
   "metadata": {},
   "source": [
    "## Build and Train CNN"
   ]
  },
  {
   "cell_type": "code",
   "execution_count": 5,
   "id": "72fa97a7-bbef-4878-8649-df8b0ca80e78",
   "metadata": {},
   "outputs": [
    {
     "name": "stderr",
     "output_type": "stream",
     "text": [
      "2022-03-22 20:13:13.421435: I tensorflow/stream_executor/cuda/cuda_gpu_executor.cc:936] successful NUMA node read from SysFS had negative value (-1), but there must be at least one NUMA node, so returning NUMA node zero\n",
      "2022-03-22 20:13:13.464855: W tensorflow/stream_executor/platform/default/dso_loader.cc:64] Could not load dynamic library 'libcudnn.so.8'; dlerror: libcudnn.so.8: cannot open shared object file: No such file or directory; LD_LIBRARY_PATH: :/usr/local/cuda/lib64\n",
      "2022-03-22 20:13:13.464871: W tensorflow/core/common_runtime/gpu/gpu_device.cc:1850] Cannot dlopen some GPU libraries. Please make sure the missing libraries mentioned above are installed properly if you would like to use GPU. Follow the guide at https://www.tensorflow.org/install/gpu for how to download and setup the required libraries for your platform.\n",
      "Skipping registering GPU devices...\n",
      "2022-03-22 20:13:13.465556: I tensorflow/core/platform/cpu_feature_guard.cc:151] This TensorFlow binary is optimized with oneAPI Deep Neural Network Library (oneDNN) to use the following CPU instructions in performance-critical operations:  AVX2 FMA\n",
      "To enable them in other operations, rebuild TensorFlow with the appropriate compiler flags.\n"
     ]
    }
   ],
   "source": [
    "model = Sequential([\n",
    "    Conv2D(filters=32, kernel_size=(3,3), activation='relu', padding='same', input_shape=(224,224,3)),\n",
    "    MaxPool2D(pool_size=(2,2), strides=2),\n",
    "    Conv2D(filters=64, kernel_size=(3,3), activation='relu', padding='same'),\n",
    "    MaxPool2D(pool_size=(2,2), strides=2),    \n",
    "    Flatten(),\n",
    "    Dense(activation='softmax', units='2')\n",
    "])"
   ]
  },
  {
   "cell_type": "code",
   "execution_count": 6,
   "id": "0c98f9ec-e278-4db7-894e-036598b9fd5d",
   "metadata": {},
   "outputs": [
    {
     "name": "stdout",
     "output_type": "stream",
     "text": [
      "Model: \"sequential\"\n",
      "_________________________________________________________________\n",
      " Layer (type)                Output Shape              Param #   \n",
      "=================================================================\n",
      " conv2d (Conv2D)             (None, 224, 224, 32)      896       \n",
      "                                                                 \n",
      " max_pooling2d (MaxPooling2D  (None, 112, 112, 32)     0         \n",
      " )                                                               \n",
      "                                                                 \n",
      " conv2d_1 (Conv2D)           (None, 112, 112, 64)      18496     \n",
      "                                                                 \n",
      " max_pooling2d_1 (MaxPooling  (None, 56, 56, 64)       0         \n",
      " 2D)                                                             \n",
      "                                                                 \n",
      " flatten (Flatten)           (None, 200704)            0         \n",
      "                                                                 \n",
      " dense (Dense)               (None, 2)                 401410    \n",
      "                                                                 \n",
      "=================================================================\n",
      "Total params: 420,802\n",
      "Trainable params: 420,802\n",
      "Non-trainable params: 0\n",
      "_________________________________________________________________\n"
     ]
    }
   ],
   "source": [
    "model.summary()"
   ]
  },
  {
   "cell_type": "code",
   "execution_count": 7,
   "id": "66d11b7f-08fa-46aa-900a-bf529e28c7e8",
   "metadata": {},
   "outputs": [],
   "source": [
    "model.compile(optimizer=Adam(learning_rate=0.0001), loss='categorical_crossentropy', metrics=['accuracy'])"
   ]
  },
  {
   "cell_type": "code",
   "execution_count": 8,
   "id": "1c00c03e-7667-4e2b-8fe6-17b857bfe1cd",
   "metadata": {},
   "outputs": [
    {
     "name": "stdout",
     "output_type": "stream",
     "text": [
      "Epoch 1/5\n",
      "100/100 - 42s - loss: 18.4284 - accuracy: 0.5665 - val_loss: 3.3658 - val_accuracy: 0.5700 - 42s/epoch - 417ms/step\n",
      "Epoch 2/5\n",
      "100/100 - 44s - loss: 1.2436 - accuracy: 0.7460 - val_loss: 2.3320 - val_accuracy: 0.6200 - 44s/epoch - 441ms/step\n",
      "Epoch 3/5\n",
      "100/100 - 42s - loss: 0.4316 - accuracy: 0.8700 - val_loss: 1.5568 - val_accuracy: 0.6750 - 42s/epoch - 423ms/step\n",
      "Epoch 4/5\n",
      "100/100 - 45s - loss: 0.0870 - accuracy: 0.9690 - val_loss: 1.5809 - val_accuracy: 0.6580 - 45s/epoch - 455ms/step\n",
      "Epoch 5/5\n",
      "100/100 - 44s - loss: 0.0378 - accuracy: 0.9870 - val_loss: 1.5957 - val_accuracy: 0.6740 - 44s/epoch - 442ms/step\n"
     ]
    },
    {
     "data": {
      "text/plain": [
       "<keras.callbacks.History at 0x7fdcf02e89d0>"
      ]
     },
     "execution_count": 8,
     "metadata": {},
     "output_type": "execute_result"
    }
   ],
   "source": [
    "model.fit(x=train_batches, validation_data=valid_batches, epochs=5, verbose=2)"
   ]
  },
  {
   "cell_type": "markdown",
   "id": "04493704-a5ec-4ba6-99e3-5f8df41a2a62",
   "metadata": {},
   "source": [
    "Train accuracy = 0.98, whereas validation accuracy = 0.67 - this means we have huge overfitting."
   ]
  },
  {
   "cell_type": "markdown",
   "id": "deeab9ba-c52c-4e7d-a6c2-2542a9ff68a0",
   "metadata": {},
   "source": [
    "## Prediction and Confusion Matrix"
   ]
  },
  {
   "cell_type": "markdown",
   "id": "ed7ec0fc-bfce-44d5-8977-b521433c0ffd",
   "metadata": {},
   "source": [
    "Validation data set will be used as test set."
   ]
  },
  {
   "cell_type": "code",
   "execution_count": 10,
   "id": "c67bf7f3-c730-42b1-9ac4-12556ad02483",
   "metadata": {},
   "outputs": [
    {
     "name": "stdout",
     "output_type": "stream",
     "text": [
      "50/50 - 4s - 4s/epoch - 75ms/step\n"
     ]
    }
   ],
   "source": [
    "predictions = model.predict(x=valid_batches, verbose=2)"
   ]
  },
  {
   "cell_type": "code",
   "execution_count": 11,
   "id": "a2d31be4-0b44-4b7d-b713-f40f81630f76",
   "metadata": {},
   "outputs": [
    {
     "data": {
      "text/plain": [
       "array([[9.9616110e-01, 3.8388404e-03],\n",
       "       [9.9999750e-01, 2.5235654e-06],\n",
       "       [1.5042346e-03, 9.9849582e-01],\n",
       "       [2.8569287e-08, 1.0000000e+00],\n",
       "       [1.3321526e-06, 9.9999869e-01],\n",
       "       [9.5847613e-01, 4.1523829e-02],\n",
       "       [8.6026013e-01, 1.3973993e-01],\n",
       "       [9.9437863e-01, 5.6213741e-03],\n",
       "       [6.5761262e-01, 3.4238738e-01],\n",
       "       [5.7136308e-04, 9.9942857e-01]], dtype=float32)"
      ]
     },
     "execution_count": 11,
     "metadata": {},
     "output_type": "execute_result"
    }
   ],
   "source": [
    "predictions[:10]"
   ]
  },
  {
   "cell_type": "code",
   "execution_count": 22,
   "id": "eada7385-9b54-4563-8282-f9813307f4dd",
   "metadata": {},
   "outputs": [
    {
     "name": "stdout",
     "output_type": "stream",
     "text": [
      "(1000, 2)\n"
     ]
    },
    {
     "data": {
      "text/plain": [
       "array([[1., 0.],\n",
       "       [1., 0.],\n",
       "       [0., 1.],\n",
       "       [0., 1.],\n",
       "       [0., 1.],\n",
       "       [1., 0.],\n",
       "       [1., 0.],\n",
       "       [1., 0.],\n",
       "       [1., 0.],\n",
       "       [0., 1.]], dtype=float32)"
      ]
     },
     "execution_count": 22,
     "metadata": {},
     "output_type": "execute_result"
    }
   ],
   "source": [
    "rounded_predictions = np.round(predictions)\n",
    "print(rounded_predictions.shape)\n",
    "rounded_predictions[:10]"
   ]
  },
  {
   "cell_type": "code",
   "execution_count": 26,
   "id": "ba452d63-0675-4d81-a7e2-dedaff481e85",
   "metadata": {},
   "outputs": [
    {
     "data": {
      "text/plain": [
       "array([0, 0, 1, 1, 1, 0, 0, 0, 0, 1])"
      ]
     },
     "execution_count": 26,
     "metadata": {},
     "output_type": "execute_result"
    }
   ],
   "source": [
    "predicted_labels = np.argmax(rounded_predictions, axis=1)\n",
    "predicted_labels[:10]"
   ]
  },
  {
   "cell_type": "code",
   "execution_count": 27,
   "id": "a5646d36-626e-45da-b61e-3fef24f8afda",
   "metadata": {},
   "outputs": [
    {
     "data": {
      "text/plain": [
       "array([0, 0, 0, 0, 0, 0, 0, 0, 0, 0], dtype=int32)"
      ]
     },
     "execution_count": 27,
     "metadata": {},
     "output_type": "execute_result"
    }
   ],
   "source": [
    "valid_batches.classes[:10]"
   ]
  },
  {
   "cell_type": "code",
   "execution_count": 15,
   "id": "9f533bcb-3cac-4173-9b8b-4670e60b8907",
   "metadata": {},
   "outputs": [],
   "source": [
    "from sklearn.metrics import ConfusionMatrixDisplay"
   ]
  },
  {
   "cell_type": "code",
   "execution_count": 29,
   "id": "eba41884-bc5d-4c56-a61b-062ca5e55329",
   "metadata": {},
   "outputs": [
    {
     "data": {
      "text/plain": [
       "<sklearn.metrics._plot.confusion_matrix.ConfusionMatrixDisplay at 0x7fdc16de0fa0>"
      ]
     },
     "execution_count": 29,
     "metadata": {},
     "output_type": "execute_result"
    },
    {
     "data": {
      "image/png": "[encoded data removed]",
      "text/plain": [
       "<Figure size 432x288 with 2 Axes>"
      ]
     },
     "metadata": {
      "needs_background": "light"
     },
     "output_type": "display_data"
    }
   ],
   "source": [
    "ConfusionMatrixDisplay.from_predictions(y_true=valid_batches.classes, y_pred=predicted_labels)"
   ]
  },
  {
   "cell_type": "code",
   "execution_count": null,
   "id": "38545a23-34ea-437a-bcdc-86ba11cb7b07",
   "metadata": {},
   "outputs": [],
   "source": []
  }
 ],
 "metadata": {
  "kernelspec": {
   "display_name": "Python 3 (ipykernel)",
   "language": "python",
   "name": "python3"
  },
  "language_info": {
   "codemirror_mode": {
    "name": "ipython",
    "version": 3
   },
   "file_extension": ".py",
   "mimetype": "text/x-python",
   "name": "python",
   "nbconvert_exporter": "python",
   "pygments_lexer": "ipython3",
   "version": "3.9.7"
  }
 },
 "nbformat": 4,
 "nbformat_minor": 5
}
