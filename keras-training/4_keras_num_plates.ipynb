{
 "cells": [
  {
   "cell_type": "markdown",
   "id": "575190fc-dafd-43b4-9ce2-ba36171f0453",
   "metadata": {},
   "source": [
    "# Keras - Transfer Learning - Licence Plates Recognition"
   ]
  },
  {
   "cell_type": "code",
   "execution_count": 1,
   "id": "10a99a60-a3b5-4bcd-8436-168151f7bca7",
   "metadata": {},
   "outputs": [],
   "source": [
    "import numpy as np\n",
    "from random import randint\n",
    "from sklearn.utils import shuffle\n",
    "from sklearn.preprocessing import MinMaxScaler\n",
    "import os\n",
    "import glob\n",
    "import shutil\n",
    "import itertools\n",
    "import xml.etree.ElementTree as xet"
   ]
  },
  {
   "cell_type": "code",
   "execution_count": 2,
   "id": "6112dae8-74e1-4040-b217-23e94bb560e7",
   "metadata": {},
   "outputs": [],
   "source": [
    "import tensorflow as tf\n",
    "from tensorflow import keras\n",
    "from tensorflow.keras.models import Sequential\n",
    "from tensorflow.keras.layers import Activation, Dense, Conv2D, MaxPool2D, Flatten\n",
    "from tensorflow.keras.optimizers import Adam\n",
    "from tensorflow.keras.metrics import categorical_crossentropy\n",
    "from tensorflow.keras.preprocessing.image import ImageDataGenerator"
   ]
  },
  {
   "cell_type": "code",
   "execution_count": 3,
   "id": "67063971-88b8-4a2e-92ba-9f3a2f55cfda",
   "metadata": {},
   "outputs": [],
   "source": [
    "import pandas as pd"
   ]
  },
  {
   "cell_type": "code",
   "execution_count": 4,
   "id": "62d26176-bfc0-41d8-9acc-ad711468218b",
   "metadata": {},
   "outputs": [
    {
     "name": "stdout",
     "output_type": "stream",
     "text": [
      "TF version: 2.8.0\n"
     ]
    }
   ],
   "source": [
    "print(\"TF version:\", tf.__version__)\n",
    "#print(\"Hub version:\", hub.__version__)"
   ]
  },
  {
   "cell_type": "code",
   "execution_count": 5,
   "id": "ded5b609-bba1-4917-be26-99a4d469c851",
   "metadata": {},
   "outputs": [
    {
     "name": "stdout",
     "output_type": "stream",
     "text": [
      "GPU is NOT AVAILABLE\n"
     ]
    },
    {
     "name": "stderr",
     "output_type": "stream",
     "text": [
      "2022-03-28 22:43:14.542324: I tensorflow/stream_executor/cuda/cuda_gpu_executor.cc:936] successful NUMA node read from SysFS had negative value (-1), but there must be at least one NUMA node, so returning NUMA node zero\n",
      "2022-03-28 22:43:14.585544: W tensorflow/stream_executor/platform/default/dso_loader.cc:64] Could not load dynamic library 'libcudnn.so.8'; dlerror: libcudnn.so.8: cannot open shared object file: No such file or directory; LD_LIBRARY_PATH: :/usr/local/cuda/lib64\n",
      "2022-03-28 22:43:14.585560: W tensorflow/core/common_runtime/gpu/gpu_device.cc:1850] Cannot dlopen some GPU libraries. Please make sure the missing libraries mentioned above are installed properly if you would like to use GPU. Follow the guide at https://www.tensorflow.org/install/gpu for how to download and setup the required libraries for your platform.\n",
      "Skipping registering GPU devices...\n"
     ]
    }
   ],
   "source": [
    "phisical_devices = tf.config.list_physical_devices('GPU')\n",
    "print(\"GPU is\", \"available\" if len(phisical_devices) > 0 else \"NOT AVAILABLE\")"
   ]
  },
  {
   "cell_type": "code",
   "execution_count": 6,
   "id": "aa3c6362-dc5e-407e-a231-9d7a6439b8c4",
   "metadata": {},
   "outputs": [
    {
     "name": "stderr",
     "output_type": "stream",
     "text": [
      "2022-03-28 22:43:14.604524: I tensorflow/core/platform/cpu_feature_guard.cc:151] This TensorFlow binary is optimized with oneAPI Deep Neural Network Library (oneDNN) to use the following CPU instructions in performance-critical operations:  AVX2 FMA\n",
      "To enable them in other operations, rebuild TensorFlow with the appropriate compiler flags.\n"
     ]
    }
   ],
   "source": [
    "model = keras.applications.vgg16.VGG16()"
   ]
  },
  {
   "cell_type": "code",
   "execution_count": 7,
   "id": "458099dc-ff3b-4f97-a1b1-dae572fffe50",
   "metadata": {},
   "outputs": [],
   "source": [
    "model_modified = Sequential(name='vgg16_modified')\n",
    "for layer in model.layers[:-1] :\n",
    "    layer.trainable = False\n",
    "    model_modified.add(layer)"
   ]
  },
  {
   "cell_type": "code",
   "execution_count": 8,
   "id": "57d424b3-05f7-43fa-93d3-7fbb20b4998d",
   "metadata": {},
   "outputs": [],
   "source": [
    "model_modified.add(Dense(units=4, activation='softmax'))"
   ]
  },
  {
   "cell_type": "code",
   "execution_count": 9,
   "id": "17325635-972a-4471-9f33-28d43c108e2f",
   "metadata": {},
   "outputs": [
    {
     "name": "stdout",
     "output_type": "stream",
     "text": [
      "Model: \"vgg16_modified\"\n",
      "_________________________________________________________________\n",
      " Layer (type)                Output Shape              Param #   \n",
      "=================================================================\n",
      " block1_conv1 (Conv2D)       (None, 224, 224, 64)      1792      \n",
      "                                                                 \n",
      " block1_conv2 (Conv2D)       (None, 224, 224, 64)      36928     \n",
      "                                                                 \n",
      " block1_pool (MaxPooling2D)  (None, 112, 112, 64)      0         \n",
      "                                                                 \n",
      " block2_conv1 (Conv2D)       (None, 112, 112, 128)     73856     \n",
      "                                                                 \n",
      " block2_conv2 (Conv2D)       (None, 112, 112, 128)     147584    \n",
      "                                                                 \n",
      " block2_pool (MaxPooling2D)  (None, 56, 56, 128)       0         \n",
      "                                                                 \n",
      " block3_conv1 (Conv2D)       (None, 56, 56, 256)       295168    \n",
      "                                                                 \n",
      " block3_conv2 (Conv2D)       (None, 56, 56, 256)       590080    \n",
      "                                                                 \n",
      " block3_conv3 (Conv2D)       (None, 56, 56, 256)       590080    \n",
      "                                                                 \n",
      " block3_pool (MaxPooling2D)  (None, 28, 28, 256)       0         \n",
      "                                                                 \n",
      " block4_conv1 (Conv2D)       (None, 28, 28, 512)       1180160   \n",
      "                                                                 \n",
      " block4_conv2 (Conv2D)       (None, 28, 28, 512)       2359808   \n",
      "                                                                 \n",
      " block4_conv3 (Conv2D)       (None, 28, 28, 512)       2359808   \n",
      "                                                                 \n",
      " block4_pool (MaxPooling2D)  (None, 14, 14, 512)       0         \n",
      "                                                                 \n",
      " block5_conv1 (Conv2D)       (None, 14, 14, 512)       2359808   \n",
      "                                                                 \n",
      " block5_conv2 (Conv2D)       (None, 14, 14, 512)       2359808   \n",
      "                                                                 \n",
      " block5_conv3 (Conv2D)       (None, 14, 14, 512)       2359808   \n",
      "                                                                 \n",
      " block5_pool (MaxPooling2D)  (None, 7, 7, 512)         0         \n",
      "                                                                 \n",
      " flatten (Flatten)           (None, 25088)             0         \n",
      "                                                                 \n",
      " fc1 (Dense)                 (None, 4096)              102764544 \n",
      "                                                                 \n",
      " fc2 (Dense)                 (None, 4096)              16781312  \n",
      "                                                                 \n",
      " dense (Dense)               (None, 4)                 16388     \n",
      "                                                                 \n",
      "=================================================================\n",
      "Total params: 134,276,932\n",
      "Trainable params: 16,388\n",
      "Non-trainable params: 134,260,544\n",
      "_________________________________________________________________\n"
     ]
    }
   ],
   "source": [
    "model_modified.summary()"
   ]
  },
  {
   "cell_type": "code",
   "execution_count": 10,
   "id": "ba73f486-4cd4-4205-9ba2-760b2a01a9a9",
   "metadata": {},
   "outputs": [],
   "source": [
    "model_modified.compile(optimizer=Adam(learning_rate=0.0001), loss='categorical_crossentropy', metrics=['accuracy'])"
   ]
  },
  {
   "cell_type": "markdown",
   "id": "2983a428-2a9f-4fad-a812-3fce6fa7f771",
   "metadata": {},
   "source": [
    "## Preparing Data"
   ]
  },
  {
   "cell_type": "code",
   "execution_count": 11,
   "id": "ca748c73-d1a4-40bf-a9e4-4146e461d787",
   "metadata": {},
   "outputs": [],
   "source": [
    "train_path = 'data/licence_plates/train'\n",
    "valid_path = 'data/licence_plates/valid'\n",
    "test_path = 'data/licence_plates/test'"
   ]
  },
  {
   "cell_type": "code",
   "execution_count": 12,
   "id": "cc2cff77-e33f-4654-b8fb-8c8a480a889a",
   "metadata": {},
   "outputs": [],
   "source": [
    "train_images_paths = glob.glob(train_path + \"/*.jpeg\")\n",
    "train_labels_paths = glob.glob(train_path + \"/*.xml\")"
   ]
  },
  {
   "cell_type": "code",
   "execution_count": 13,
   "id": "a796a37c-1b6b-4f63-abbf-2749445f5e44",
   "metadata": {},
   "outputs": [
    {
     "name": "stdout",
     "output_type": "stream",
     "text": [
      "['data/licence_plates/train/N123.jpeg', 'data/licence_plates/train/N179.jpeg', 'data/licence_plates/train/N85.jpeg']\n",
      "['data/licence_plates/train/N152.xml', 'data/licence_plates/train/N49.xml', 'data/licence_plates/train/N130.xml']\n"
     ]
    }
   ],
   "source": [
    "print(train_images_paths[:3])\n",
    "print(train_labels_paths[:3])"
   ]
  },
  {
   "cell_type": "markdown",
   "id": "41bdde76-b9e7-4d5b-a318-eeb579de4e52",
   "metadata": {},
   "source": [
    "### Extracting labes from xml files"
   ]
  },
  {
   "cell_type": "code",
   "execution_count": 14,
   "id": "4e953c07-b743-40b8-b0ff-d8db63ca7946",
   "metadata": {},
   "outputs": [],
   "source": [
    "def get_bounding_box_from_xml_file(path):\n",
    "    parsed_xml_file = xet.parse(path)\n",
    "    root_element = parsed_xml_file.getroot()\n",
    "    object_element = root_element.find('object')\n",
    "    bndbox_element = object_element.find('bndbox')\n",
    "    \n",
    "    xmin = int(bndbox_element.find('xmin').text)\n",
    "    xmax = int(bndbox_element.find('xmax').text)\n",
    "    ymin = int(bndbox_element.find('ymin').text)\n",
    "    ymax = int(bndbox_element.find('ymax').text)\n",
    "    \n",
    "    return (xmin, xmax, ymin, ymax)\n",
    "\n",
    "def get_img_filename_from_xml_file(path):\n",
    "    parsed_xml_file = xet.parse(path)\n",
    "    root_element = parsed_xml_file.getroot()\n",
    "    filename = root_element.find('filename').text\n",
    "    return filename"
   ]
  },
  {
   "cell_type": "code",
   "execution_count": 15,
   "id": "d92cc71b-f0bd-400f-8bb8-ecbb4033c7f3",
   "metadata": {},
   "outputs": [
    {
     "data": {
      "text/plain": [
       "(265, 725, 247, 347)"
      ]
     },
     "execution_count": 15,
     "metadata": {},
     "output_type": "execute_result"
    }
   ],
   "source": [
    "# just to test the above functions\n",
    "out = get_bounding_box_from_xml_file(train_labels_paths[0])\n",
    "out"
   ]
  },
  {
   "cell_type": "code",
   "execution_count": 16,
   "id": "8151b25d-ddab-454d-940d-cef22cdd9599",
   "metadata": {},
   "outputs": [],
   "source": [
    "# first create an empty map\n",
    "labels_map = {'file_name':[], 'xmin':[], 'xmax':[], 'ymin':[], 'ymax':[]}\n",
    "\n",
    "# load data into the map\n",
    "\n",
    "i = 0\n",
    "for label_file in train_labels_paths:\n",
    "    \n",
    "    i+=1\n",
    "    bndbox = get_bounding_box_from_xml_file(label_file)\n",
    "    filename = get_img_filename_from_xml_file(label_file)\n",
    "    \n",
    "    # print(filename, bndbox)\n",
    "    \n",
    "    labels_map.get('file_name').append(filename)\n",
    "    labels_map.get('xmin').append(bndbox[0])\n",
    "    labels_map.get('xmax').append(bndbox[1])\n",
    "    labels_map.get('ymin').append(bndbox[2])\n",
    "    labels_map.get('ymax').append(bndbox[3])"
   ]
  },
  {
   "cell_type": "code",
   "execution_count": 17,
   "id": "d04f42d4-d2c3-4231-8816-5db1100f9306",
   "metadata": {},
   "outputs": [
    {
     "data": {
      "text/html": [
       "<div>\n",
       "<style scoped>\n",
       "    .dataframe tbody tr th:only-of-type {\n",
       "        vertical-align: middle;\n",
       "    }\n",
       "\n",
       "    .dataframe tbody tr th {\n",
       "        vertical-align: top;\n",
       "    }\n",
       "\n",
       "    .dataframe thead th {\n",
       "        text-align: right;\n",
       "    }\n",
       "</style>\n",
       "<table border=\"1\" class=\"dataframe\">\n",
       "  <thead>\n",
       "    <tr style=\"text-align: right;\">\n",
       "      <th></th>\n",
       "      <th>file_name</th>\n",
       "      <th>xmin</th>\n",
       "      <th>xmax</th>\n",
       "      <th>ymin</th>\n",
       "      <th>ymax</th>\n",
       "    </tr>\n",
       "  </thead>\n",
       "  <tbody>\n",
       "    <tr>\n",
       "      <th>0</th>\n",
       "      <td>N152.jpeg</td>\n",
       "      <td>265</td>\n",
       "      <td>725</td>\n",
       "      <td>247</td>\n",
       "      <td>347</td>\n",
       "    </tr>\n",
       "    <tr>\n",
       "      <th>1</th>\n",
       "      <td>N49.jpeg</td>\n",
       "      <td>196</td>\n",
       "      <td>352</td>\n",
       "      <td>135</td>\n",
       "      <td>173</td>\n",
       "    </tr>\n",
       "    <tr>\n",
       "      <th>2</th>\n",
       "      <td>N130.jpeg</td>\n",
       "      <td>419</td>\n",
       "      <td>513</td>\n",
       "      <td>173</td>\n",
       "      <td>213</td>\n",
       "    </tr>\n",
       "    <tr>\n",
       "      <th>3</th>\n",
       "      <td>N120.jpeg</td>\n",
       "      <td>647</td>\n",
       "      <td>736</td>\n",
       "      <td>332</td>\n",
       "      <td>387</td>\n",
       "    </tr>\n",
       "    <tr>\n",
       "      <th>4</th>\n",
       "      <td>N154.jpeg</td>\n",
       "      <td>106</td>\n",
       "      <td>245</td>\n",
       "      <td>157</td>\n",
       "      <td>196</td>\n",
       "    </tr>\n",
       "  </tbody>\n",
       "</table>\n",
       "</div>"
      ],
      "text/plain": [
       "   file_name  xmin  xmax  ymin  ymax\n",
       "0  N152.jpeg   265   725   247   347\n",
       "1   N49.jpeg   196   352   135   173\n",
       "2  N130.jpeg   419   513   173   213\n",
       "3  N120.jpeg   647   736   332   387\n",
       "4  N154.jpeg   106   245   157   196"
      ]
     },
     "execution_count": 17,
     "metadata": {},
     "output_type": "execute_result"
    }
   ],
   "source": [
    "df = pd.DataFrame(labels_map)\n",
    "df.head()"
   ]
  },
  {
   "cell_type": "code",
   "execution_count": 18,
   "id": "c3ce3cfe-e6ec-4ec3-ae4e-e87bf75b8f31",
   "metadata": {},
   "outputs": [
    {
     "data": {
      "text/html": [
       "<div>\n",
       "<style scoped>\n",
       "    .dataframe tbody tr th:only-of-type {\n",
       "        vertical-align: middle;\n",
       "    }\n",
       "\n",
       "    .dataframe tbody tr th {\n",
       "        vertical-align: top;\n",
       "    }\n",
       "\n",
       "    .dataframe thead th {\n",
       "        text-align: right;\n",
       "    }\n",
       "</style>\n",
       "<table border=\"1\" class=\"dataframe\">\n",
       "  <thead>\n",
       "    <tr style=\"text-align: right;\">\n",
       "      <th></th>\n",
       "      <th>file_name</th>\n",
       "      <th>xmin</th>\n",
       "      <th>xmax</th>\n",
       "      <th>ymin</th>\n",
       "      <th>ymax</th>\n",
       "      <th>img_path</th>\n",
       "    </tr>\n",
       "  </thead>\n",
       "  <tbody>\n",
       "    <tr>\n",
       "      <th>0</th>\n",
       "      <td>N152.jpeg</td>\n",
       "      <td>265</td>\n",
       "      <td>725</td>\n",
       "      <td>247</td>\n",
       "      <td>347</td>\n",
       "      <td>data/licence_plates/trainN152.jpeg</td>\n",
       "    </tr>\n",
       "    <tr>\n",
       "      <th>1</th>\n",
       "      <td>N49.jpeg</td>\n",
       "      <td>196</td>\n",
       "      <td>352</td>\n",
       "      <td>135</td>\n",
       "      <td>173</td>\n",
       "      <td>data/licence_plates/trainN49.jpeg</td>\n",
       "    </tr>\n",
       "    <tr>\n",
       "      <th>2</th>\n",
       "      <td>N130.jpeg</td>\n",
       "      <td>419</td>\n",
       "      <td>513</td>\n",
       "      <td>173</td>\n",
       "      <td>213</td>\n",
       "      <td>data/licence_plates/trainN130.jpeg</td>\n",
       "    </tr>\n",
       "    <tr>\n",
       "      <th>3</th>\n",
       "      <td>N120.jpeg</td>\n",
       "      <td>647</td>\n",
       "      <td>736</td>\n",
       "      <td>332</td>\n",
       "      <td>387</td>\n",
       "      <td>data/licence_plates/trainN120.jpeg</td>\n",
       "    </tr>\n",
       "    <tr>\n",
       "      <th>4</th>\n",
       "      <td>N154.jpeg</td>\n",
       "      <td>106</td>\n",
       "      <td>245</td>\n",
       "      <td>157</td>\n",
       "      <td>196</td>\n",
       "      <td>data/licence_plates/trainN154.jpeg</td>\n",
       "    </tr>\n",
       "  </tbody>\n",
       "</table>\n",
       "</div>"
      ],
      "text/plain": [
       "   file_name  xmin  xmax  ymin  ymax                            img_path\n",
       "0  N152.jpeg   265   725   247   347  data/licence_plates/trainN152.jpeg\n",
       "1   N49.jpeg   196   352   135   173   data/licence_plates/trainN49.jpeg\n",
       "2  N130.jpeg   419   513   173   213  data/licence_plates/trainN130.jpeg\n",
       "3  N120.jpeg   647   736   332   387  data/licence_plates/trainN120.jpeg\n",
       "4  N154.jpeg   106   245   157   196  data/licence_plates/trainN154.jpeg"
      ]
     },
     "execution_count": 18,
     "metadata": {},
     "output_type": "execute_result"
    }
   ],
   "source": [
    "# Add image file to the data frame\n",
    "file_names = df['file_name']\n",
    "new_image_paths = []\n",
    "for file_name in file_names:\n",
    "    new_image_paths.append(train_path + file_name)\n",
    "\n",
    "\n",
    "df['img_path'] = new_image_paths\n",
    "df.head()"
   ]
  },
  {
   "cell_type": "code",
   "execution_count": 19,
   "id": "a242e9c2-fc01-4e02-9b78-507ac499efa2",
   "metadata": {},
   "outputs": [],
   "source": [
    "def preprocess_image(image_path,resize=False):\n",
    "    img = cv2.imread(image_path)\n",
    "    img = cv2.cvtColor(img, cv2.COLOR_BGR2RGB)\n",
    "    img = img / 255\n",
    "    if resize:\n",
    "        img = cv2.resize(img, (224,224))\n",
    "    return img\n"
   ]
  },
  {
   "cell_type": "code",
   "execution_count": 19,
   "id": "2d679716-4ca4-4ac0-a785-165e17ff4687",
   "metadata": {},
   "outputs": [],
   "source": [
    "train_data_gen = ImageDataGenerator(preprocessing_function=tf.keras.applications.vgg16.preprocess_input)\n"
   ]
  },
  {
   "cell_type": "code",
   "execution_count": null,
   "id": "b4f0eb55-fccb-4c85-9a05-040e82dddde5",
   "metadata": {},
   "outputs": [],
   "source": [
    "train_data_gen.flow(x=, target_size=(224,224), classes=['cats', 'dogs'])"
   ]
  }
 ],
 "metadata": {
  "kernelspec": {
   "display_name": "Python 3 (ipykernel)",
   "language": "python",
   "name": "python3"
  },
  "language_info": {
   "codemirror_mode": {
    "name": "ipython",
    "version": 3
   },
   "file_extension": ".py",
   "mimetype": "text/x-python",
   "name": "python",
   "nbconvert_exporter": "python",
   "pygments_lexer": "ipython3",
   "version": "3.9.13"
  }
 },
 "nbformat": 4,
 "nbformat_minor": 5
}
