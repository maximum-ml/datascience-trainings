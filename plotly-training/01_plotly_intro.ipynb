{
 "cells": [
  {
   "cell_type": "markdown",
   "id": "96ac4448-7055-4e31-8c39-6c9fc534b47c",
   "metadata": {},
   "source": [
    "# Plotly Intro"
   ]
  },
  {
   "cell_type": "markdown",
   "id": "6c07117c-947e-4ede-a7a9-c9eade3bbb85",
   "metadata": {},
   "source": [
    "https://www.youtube.com/watch?v=GGL6U0k8WYA"
   ]
  },
  {
   "cell_type": "code",
   "execution_count": 2,
   "id": "cd4dc99b-5e50-4a34-a98e-0104dd849924",
   "metadata": {},
   "outputs": [],
   "source": [
    "#!pip install plotly\n",
    "#!pip install cufflinks"
   ]
  },
  {
   "cell_type": "code",
   "execution_count": 3,
   "id": "cb73720d-77da-417d-a7ce-ba10b3e55ba6",
   "metadata": {},
   "outputs": [
    {
     "data": {
      "text/plain": [
       "'5.9.0'"
      ]
     },
     "execution_count": 3,
     "metadata": {},
     "output_type": "execute_result"
    }
   ],
   "source": [
    "import plotly\n",
    "plotly.__version__"
   ]
  },
  {
   "cell_type": "code",
   "execution_count": 4,
   "id": "4ff4ba28-a020-4342-9264-a13dc132e7fb",
   "metadata": {},
   "outputs": [
    {
     "ename": "ModuleNotFoundError",
     "evalue": "No module named 'cufflinks'",
     "output_type": "error",
     "traceback": [
      "\u001b[0;31m---------------------------------------------------------------------------\u001b[0m",
      "\u001b[0;31mModuleNotFoundError\u001b[0m                       Traceback (most recent call last)",
      "Input \u001b[0;32mIn [4]\u001b[0m, in \u001b[0;36m<cell line: 1>\u001b[0;34m()\u001b[0m\n\u001b[0;32m----> 1\u001b[0m \u001b[38;5;28;01mimport\u001b[39;00m \u001b[38;5;21;01mcufflinks\u001b[39;00m\n\u001b[1;32m      2\u001b[0m cufflinks\u001b[38;5;241m.\u001b[39m__version__\n",
      "\u001b[0;31mModuleNotFoundError\u001b[0m: No module named 'cufflinks'"
     ]
    }
   ],
   "source": [
    "import cufflinks\n",
    "cufflinks.__version__"
   ]
  },
  {
   "cell_type": "code",
   "execution_count": null,
   "id": "48c9114a-56ee-48a8-9e4b-85ab786293ff",
   "metadata": {},
   "outputs": [],
   "source": []
  }
 ],
 "metadata": {
  "kernelspec": {
   "display_name": "Python 3 (ipykernel)",
   "language": "python",
   "name": "python3"
  },
  "language_info": {
   "codemirror_mode": {
    "name": "ipython",
    "version": 3
   },
   "file_extension": ".py",
   "mimetype": "text/x-python",
   "name": "python",
   "nbconvert_exporter": "python",
   "pygments_lexer": "ipython3",
   "version": "3.9.13"
  }
 },
 "nbformat": 4,
 "nbformat_minor": 5
}
