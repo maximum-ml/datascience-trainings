{
 "cells": [
  {
   "cell_type": "markdown",
   "id": "84d7630d-280f-4d29-8929-f75ef04e981b",
   "metadata": {},
   "source": [
    "# Linear & Logistic Regression"
   ]
  },
  {
   "cell_type": "code",
   "execution_count": 1,
   "id": "bfe23411-f381-4d49-96cc-abece632620a",
   "metadata": {},
   "outputs": [],
   "source": [
    "import torch\n",
    "import torch.nn as nn\n",
    "import numpy as np\n",
    "\n",
    "from sklearn import datasets\n",
    "from sklearn.preprocessing import StandardScaler\n",
    "from sklearn.model_selection import train_test_split\n",
    "\n",
    "import matplotlib.pyplot as plt"
   ]
  },
  {
   "cell_type": "code",
   "execution_count": 2,
   "id": "0aeb6c6c-08eb-4e1c-8d72-08bc616339e1",
   "metadata": {},
   "outputs": [],
   "source": [
    "# %matplotlib inline"
   ]
  },
  {
   "cell_type": "markdown",
   "id": "56ec6420-0524-4212-ad26-32cbdcc86fc0",
   "metadata": {},
   "source": [
    "### Linear Regression"
   ]
  },
  {
   "cell_type": "markdown",
   "id": "30a43a39-b45c-45b2-a596-d4c1d2cbdf2e",
   "metadata": {},
   "source": [
    "#### Prepare data"
   ]
  },
  {
   "cell_type": "code",
   "execution_count": 22,
   "id": "ab641e59-b39b-4a66-917c-735f88ed28be",
   "metadata": {},
   "outputs": [],
   "source": [
    "X_np, Y_np = datasets.make_regression(n_samples=100, n_features=1, noise=10, random_state=1)\n",
    "# (X_np, Y_np)[:][:10]"
   ]
  },
  {
   "cell_type": "code",
   "execution_count": 30,
   "id": "4af20f1c-2290-4bfd-a204-1b7b4fb6bc23",
   "metadata": {},
   "outputs": [
    {
     "name": "stdout",
     "output_type": "stream",
     "text": [
      "X shape:torch.Size([100, 1])\n",
      "Y shape:torch.Size([100])\n"
     ]
    }
   ],
   "source": [
    "X = torch.from_numpy(X_np.astype(np.float32))\n",
    "Y = torch.from_numpy(Y_np.astype(np.float32))\n",
    "\n",
    "print(f'X shape:{X.shape}')\n",
    "print(f'Y shape:{Y.shape}')      "
   ]
  },
  {
   "cell_type": "code",
   "execution_count": 31,
   "id": "703c5840-ca06-48d9-9fe8-8a33c504cc23",
   "metadata": {},
   "outputs": [
    {
     "name": "stdout",
     "output_type": "stream",
     "text": [
      "X shape:torch.Size([100, 1])\n",
      "Y shape:torch.Size([100, 1])\n"
     ]
    }
   ],
   "source": [
    "Y = Y.view(Y.shape[0], 1) # we have to adjust the shape of Y to comply with X\n",
    "print(f'X shape:{X.shape}')\n",
    "print(f'Y shape:{Y.shape}')   "
   ]
  },
  {
   "cell_type": "code",
   "execution_count": 32,
   "id": "36fa01db-681f-4a68-8dc3-865b90985c91",
   "metadata": {},
   "outputs": [
    {
     "data": {
      "text/plain": [
       "<matplotlib.collections.PathCollection at 0x7f345864fc70>"
      ]
     },
     "execution_count": 32,
     "metadata": {},
     "output_type": "execute_result"
    },
    {
     "data": {
      "image/png": "[encoded data removed]",
      "text/plain": [
       "<Figure size 432x288 with 1 Axes>"
      ]
     },
     "metadata": {
      "needs_background": "light"
     },
     "output_type": "display_data"
    }
   ],
   "source": [
    "plt.scatter(X, Y)"
   ]
  },
  {
   "cell_type": "code",
   "execution_count": 33,
   "id": "059f162b-a8c9-47a1-bcf4-06f49e1319f2",
   "metadata": {},
   "outputs": [
    {
     "data": {
      "text/plain": [
       "(100, 1)"
      ]
     },
     "execution_count": 33,
     "metadata": {},
     "output_type": "execute_result"
    }
   ],
   "source": [
    "nb_samples, nb_features = X.shape\n",
    "nb_samples, nb_features"
   ]
  },
  {
   "cell_type": "code",
   "execution_count": 34,
   "id": "b154e2dc-4f88-440f-bd79-32875ad4ab5c",
   "metadata": {},
   "outputs": [
    {
     "data": {
      "text/plain": [
       "1"
      ]
     },
     "execution_count": 34,
     "metadata": {},
     "output_type": "execute_result"
    }
   ],
   "source": [
    "nb_output = Y.shape[1]\n",
    "nb_output"
   ]
  },
  {
   "cell_type": "code",
   "execution_count": null,
   "id": "5313ac18-b165-4de7-b6c6-3c12387edf99",
   "metadata": {},
   "outputs": [],
   "source": []
  },
  {
   "cell_type": "markdown",
   "id": "10d37c34-377d-4cc1-850b-ee048441e081",
   "metadata": {},
   "source": [
    "#### Training"
   ]
  },
  {
   "cell_type": "code",
   "execution_count": 43,
   "id": "d359fe82-6b4b-4458-b419-94081f76cbea",
   "metadata": {},
   "outputs": [],
   "source": [
    "learning_rate = 0.05\n",
    "\n",
    "model = nn.Linear(nb_features, nb_output)\n",
    "loss_function = nn.MSELoss()\n",
    "optimizer = torch.optim.SGD(model.parameters(), lr=learning_rate)"
   ]
  },
  {
   "cell_type": "code",
   "execution_count": 45,
   "id": "f6068862-ce4a-4589-a5d3-cca5d8ba6e06",
   "metadata": {},
   "outputs": [
    {
     "name": "stdout",
     "output_type": "stream",
     "text": [
      "epoch=0, loss=4624.36963, W=11.77975, b=0.91656\n",
      "epoch=5, loss=2070.84424, W=35.26377, b=2.82590\n",
      "epoch=10, loss=957.70514, W=50.81665, b=3.46449\n",
      "epoch=15, loss=469.53204, W=61.12999, b=3.51765\n",
      "epoch=20, loss=254.40865, W=67.97663, b=3.33414\n",
      "epoch=25, loss=159.24872, W=72.52642, b=3.08306\n",
      "epoch=30, loss=117.02891, W=75.55257, b=2.83991\n",
      "epoch=35, loss=98.25336, W=77.56691, b=2.63321\n",
      "epoch=40, loss=89.88861, W=78.90868, b=2.46913\n",
      "epoch=45, loss=86.15684, W=79.80299, b=2.34423\n",
      "epoch=50, loss=84.49013, W=80.39939, b=2.25181\n",
      "epoch=55, loss=83.74512, W=80.79731, b=2.18478\n",
      "epoch=60, loss=83.41190, W=81.06291, b=2.13689\n",
      "epoch=65, loss=83.26279, W=81.24026, b=2.10307\n",
      "epoch=70, loss=83.19604, W=81.35873, b=2.07939\n",
      "epoch=75, loss=83.16615, W=81.43787, b=2.06293\n",
      "epoch=80, loss=83.15276, W=81.49077, b=2.05156\n",
      "epoch=85, loss=83.14676, W=81.52613, b=2.04374\n",
      "epoch=90, loss=83.14407, W=81.54977, b=2.03838\n",
      "epoch=95, loss=83.14288, W=81.56557, b=2.03472\n",
      "epoch=99, loss=83.14240, W=81.57435, b=2.03266\n"
     ]
    }
   ],
   "source": [
    "max_epochs = 100\n",
    "for epoch in range(max_epochs):\n",
    "    Y_pred = model(X)\n",
    "    loss = loss_function(Y, Y_pred)\n",
    "    \n",
    "    loss.backward()\n",
    "    \n",
    "    optimizer.step()\n",
    "    optimizer.zero_grad()\n",
    "    \n",
    "    if (epoch % 5 == 0 or epoch + 1 == max_epochs):\n",
    "        w = model.weight.item()\n",
    "        b = model.bias.item()\n",
    "        print(f'epoch={epoch}, loss={loss:.5f}, W={w:.5f}, b={b:.5f}')"
   ]
  },
  {
   "cell_type": "markdown",
   "id": "ee540714-19aa-49ad-9f1a-bfed7ec0ddeb",
   "metadata": {},
   "source": [
    "#### Plot results"
   ]
  },
  {
   "cell_type": "code",
   "execution_count": 51,
   "id": "352ac3d6-2766-493e-957a-848e98d2fbb5",
   "metadata": {},
   "outputs": [
    {
     "data": {
      "text/plain": [
       "[<matplotlib.lines.Line2D at 0x7f34570e42e0>]"
      ]
     },
     "execution_count": 51,
     "metadata": {},
     "output_type": "execute_result"
    },
    {
     "data": {
      "image/png": "[encoded data removed]",
      "text/plain": [
       "<Figure size 432x288 with 1 Axes>"
      ]
     },
     "metadata": {
      "needs_background": "light"
     },
     "output_type": "display_data"
    }
   ],
   "source": [
    "predicted_results = model(X).detach().numpy() # detaches from the computation graph\n",
    "\n",
    "plt.plot(X_np, Y_np, 'ro')\n",
    "plt.plot(X_np, predicted_results, 'b')"
   ]
  },
  {
   "cell_type": "markdown",
   "id": "75d3fc16-801f-4b7e-86fa-01454ca049e6",
   "metadata": {},
   "source": [
    "### Logistic Regression"
   ]
  },
  {
   "cell_type": "code",
   "execution_count": null,
   "id": "a0875500-1c43-45bc-9bb6-3663d1098427",
   "metadata": {},
   "outputs": [],
   "source": [
    "#TBD"
   ]
  },
  {
   "cell_type": "code",
   "execution_count": null,
   "id": "3fbce9e8-45dd-4611-931c-5c9717a73277",
   "metadata": {},
   "outputs": [],
   "source": []
  }
 ],
 "metadata": {
  "kernelspec": {
   "display_name": "Python 3 (ipykernel)",
   "language": "python",
   "name": "python3"
  },
  "language_info": {
   "codemirror_mode": {
    "name": "ipython",
    "version": 3
   },
   "file_extension": ".py",
   "mimetype": "text/x-python",
   "name": "python",
   "nbconvert_exporter": "python",
   "pygments_lexer": "ipython3",
   "version": "3.9.13"
  }
 },
 "nbformat": 4,
 "nbformat_minor": 5
}
