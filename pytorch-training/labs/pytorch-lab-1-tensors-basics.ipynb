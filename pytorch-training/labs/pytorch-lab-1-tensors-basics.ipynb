{
 "cells": [
  {
   "cell_type": "markdown",
   "id": "37a3f711-dd39-4746-bc51-d4e24756e767",
   "metadata": {},
   "source": [
    "# Pytorch - Tensor Basics"
   ]
  },
  {
   "cell_type": "code",
   "execution_count": 1,
   "id": "82ef4248-ca73-4211-aba3-729237321974",
   "metadata": {},
   "outputs": [],
   "source": [
    "import torch\n",
    "import numpy as np"
   ]
  },
  {
   "cell_type": "markdown",
   "id": "aae492b3-7305-4945-9fbe-eb060e2f68a5",
   "metadata": {},
   "source": [
    "### Tensor shape and size"
   ]
  },
  {
   "cell_type": "markdown",
   "id": "af584eb4-b610-4ac9-bbab-c604b14281d8",
   "metadata": {},
   "source": [
    "#### Empty tensor"
   ]
  },
  {
   "cell_type": "code",
   "execution_count": 13,
   "id": "cbaeaeec-ba58-4f81-b69d-6358939b49b2",
   "metadata": {},
   "outputs": [
    {
     "data": {
      "text/plain": [
       "tensor([])"
      ]
     },
     "execution_count": 13,
     "metadata": {},
     "output_type": "execute_result"
    }
   ],
   "source": [
    "x = torch.empty(0)\n",
    "x"
   ]
  },
  {
   "cell_type": "code",
   "execution_count": 15,
   "id": "291d3219-3be8-49f3-8763-f1b0496aed70",
   "metadata": {},
   "outputs": [
    {
     "data": {
      "text/plain": [
       "(torch.Size([0]), torch.Size([0]))"
      ]
     },
     "execution_count": 15,
     "metadata": {},
     "output_type": "execute_result"
    }
   ],
   "source": [
    "x.shape, x.size() # it it seems that shape & size() returns the same thing"
   ]
  },
  {
   "cell_type": "markdown",
   "id": "4e93c08a-11f7-43b3-9976-8788162a4495",
   "metadata": {},
   "source": [
    "#### 1-D Tensors"
   ]
  },
  {
   "cell_type": "code",
   "execution_count": 54,
   "id": "634e6c48-28f4-43c3-be67-3291dcb18daf",
   "metadata": {},
   "outputs": [
    {
     "data": {
      "text/plain": [
       "tensor([-3.2221e-24])"
      ]
     },
     "execution_count": 54,
     "metadata": {},
     "output_type": "execute_result"
    }
   ],
   "source": [
    "x = torch.empty(1) # the initial values are close to zero\n",
    "x"
   ]
  },
  {
   "cell_type": "code",
   "execution_count": 55,
   "id": "ed3542b3-c4b3-4749-a76e-118bc398b914",
   "metadata": {},
   "outputs": [
    {
     "data": {
      "text/plain": [
       "-3.2221055228188436e-24"
      ]
     },
     "execution_count": 55,
     "metadata": {},
     "output_type": "execute_result"
    }
   ],
   "source": [
    "x.item() # this can be used only if there is just one element in the tensor"
   ]
  },
  {
   "cell_type": "code",
   "execution_count": 52,
   "id": "6fcafe56-dd9a-4d34-a9ad-cd6942940ebb",
   "metadata": {},
   "outputs": [
    {
     "data": {
      "text/plain": [
       "tensor([-3.2221e-24,  4.5612e-41])"
      ]
     },
     "execution_count": 52,
     "metadata": {},
     "output_type": "execute_result"
    }
   ],
   "source": [
    "x = torch.empty(2)\n",
    "x"
   ]
  },
  {
   "cell_type": "code",
   "execution_count": 8,
   "id": "e8d70333-fb07-4a67-baed-25f04152bd5c",
   "metadata": {},
   "outputs": [
    {
     "data": {
      "text/plain": [
       "(torch.Size([2]), torch.Size([2]))"
      ]
     },
     "execution_count": 8,
     "metadata": {},
     "output_type": "execute_result"
    }
   ],
   "source": [
    "x.shape, x.size()"
   ]
  },
  {
   "cell_type": "markdown",
   "id": "bd1c30d0-55ec-4917-9fbd-6e456eae22a8",
   "metadata": {},
   "source": [
    "#### 2-D Tensors"
   ]
  },
  {
   "cell_type": "code",
   "execution_count": 9,
   "id": "226bd7d5-faf8-4442-b9c7-229f27ee6bdf",
   "metadata": {},
   "outputs": [
    {
     "data": {
      "text/plain": [
       "tensor([[-3.2221e-24,  4.5612e-41],\n",
       "        [-3.2221e-24,  4.5612e-41]])"
      ]
     },
     "execution_count": 9,
     "metadata": {},
     "output_type": "execute_result"
    }
   ],
   "source": [
    "torch.empty(2,2)"
   ]
  },
  {
   "cell_type": "code",
   "execution_count": 10,
   "id": "c23e61e2-578a-4b65-8fca-2367b9bb0df3",
   "metadata": {},
   "outputs": [
    {
     "data": {
      "text/plain": [
       "tensor([[0.0000e+00, 0.0000e+00, 0.0000e+00],\n",
       "        [0.0000e+00, 7.2288e-27, 3.0733e-41],\n",
       "        [0.0000e+00, 0.0000e+00, 0.0000e+00]])"
      ]
     },
     "execution_count": 10,
     "metadata": {},
     "output_type": "execute_result"
    }
   ],
   "source": [
    "x = torch.empty(3,3)\n",
    "x"
   ]
  },
  {
   "cell_type": "code",
   "execution_count": 11,
   "id": "ac937d58-8b8e-466b-8847-ad9561ceb395",
   "metadata": {},
   "outputs": [
    {
     "data": {
      "text/plain": [
       "(torch.Size([3, 3]), torch.Size([3, 3]))"
      ]
     },
     "execution_count": 11,
     "metadata": {},
     "output_type": "execute_result"
    }
   ],
   "source": [
    "x.shape, x.size()"
   ]
  },
  {
   "cell_type": "markdown",
   "id": "51d13597-a352-4bfb-8903-fdd844ecf951",
   "metadata": {},
   "source": [
    "#### 3-D Tensors"
   ]
  },
  {
   "cell_type": "code",
   "execution_count": 25,
   "id": "6859e621-70fc-4d21-8ee1-e1e576502cee",
   "metadata": {},
   "outputs": [
    {
     "data": {
      "text/plain": [
       "tensor([[[-2.2404e+28,  4.5656e-41],\n",
       "         [-2.2404e+28,  4.5656e-41],\n",
       "         [-2.2405e+28,  4.5656e-41]],\n",
       "\n",
       "        [[-2.2405e+28,  4.5656e-41],\n",
       "         [-2.2405e+28,  4.5656e-41],\n",
       "         [-2.2405e+28,  4.5656e-41]],\n",
       "\n",
       "        [[-2.2405e+28,  4.5656e-41],\n",
       "         [-2.2406e+28,  4.5656e-41],\n",
       "         [-2.2406e+28,  4.5656e-41]]])"
      ]
     },
     "execution_count": 25,
     "metadata": {},
     "output_type": "execute_result"
    }
   ],
   "source": [
    "x = torch.empty(3,3,2)\n",
    "x"
   ]
  },
  {
   "cell_type": "code",
   "execution_count": 26,
   "id": "2560f9c7-7a6a-4fbe-bc95-f4879bf4f677",
   "metadata": {},
   "outputs": [
    {
     "data": {
      "text/plain": [
       "torch.Size([3, 3, 2])"
      ]
     },
     "execution_count": 26,
     "metadata": {},
     "output_type": "execute_result"
    }
   ],
   "source": [
    "x.shape"
   ]
  },
  {
   "cell_type": "markdown",
   "id": "583ecd01-0934-4901-96f2-8bb28c3d2995",
   "metadata": {},
   "source": [
    "### Tensor initialisation"
   ]
  },
  {
   "cell_type": "code",
   "execution_count": 16,
   "id": "38be2346-00dc-409d-b9b5-c88ac372556a",
   "metadata": {},
   "outputs": [
    {
     "data": {
      "text/plain": [
       "tensor([[-3.2221e-24,  4.5612e-41],\n",
       "        [-3.2221e-24,  4.5612e-41]])"
      ]
     },
     "execution_count": 16,
     "metadata": {},
     "output_type": "execute_result"
    }
   ],
   "source": [
    "torch.empty(2, 2)"
   ]
  },
  {
   "cell_type": "code",
   "execution_count": 17,
   "id": "96ca72a2-a7aa-4a09-a81e-155e99f5bbf7",
   "metadata": {},
   "outputs": [
    {
     "data": {
      "text/plain": [
       "tensor([[0., 0.],\n",
       "        [0., 0.]])"
      ]
     },
     "execution_count": 17,
     "metadata": {},
     "output_type": "execute_result"
    }
   ],
   "source": [
    "torch.zeros(2, 2)"
   ]
  },
  {
   "cell_type": "code",
   "execution_count": 18,
   "id": "8753eb27-8297-4de3-bb2a-14474fe45adc",
   "metadata": {},
   "outputs": [
    {
     "data": {
      "text/plain": [
       "tensor([[1., 1.],\n",
       "        [1., 1.]])"
      ]
     },
     "execution_count": 18,
     "metadata": {},
     "output_type": "execute_result"
    }
   ],
   "source": [
    "torch.ones(2, 2)"
   ]
  },
  {
   "cell_type": "code",
   "execution_count": 25,
   "id": "3f1462f0-5d11-4e8b-8297-369fd28af6c3",
   "metadata": {},
   "outputs": [
    {
     "data": {
      "text/plain": [
       "tensor([[0.0294, 0.6452, 0.9954],\n",
       "        [0.7846, 0.7190, 0.8035],\n",
       "        [0.0901, 0.3813, 0.5536]])"
      ]
     },
     "execution_count": 25,
     "metadata": {},
     "output_type": "execute_result"
    }
   ],
   "source": [
    "torch.rand(3, 3) # random from [0, 1]"
   ]
  },
  {
   "cell_type": "code",
   "execution_count": 26,
   "id": "1d1ade0f-5ffd-423f-b3ed-d87f657f4543",
   "metadata": {},
   "outputs": [
    {
     "data": {
      "text/plain": [
       "tensor([1, 2, 3])"
      ]
     },
     "execution_count": 26,
     "metadata": {},
     "output_type": "execute_result"
    }
   ],
   "source": [
    "torch.tensor([1, 2, 3])"
   ]
  },
  {
   "cell_type": "code",
   "execution_count": 28,
   "id": "f4293ac3-c69e-483e-8d1c-4e76aabd15a5",
   "metadata": {},
   "outputs": [
    {
     "data": {
      "text/plain": [
       "tensor([[1, 2],\n",
       "        [3, 4]])"
      ]
     },
     "execution_count": 28,
     "metadata": {},
     "output_type": "execute_result"
    }
   ],
   "source": [
    "torch.tensor([[1, 2], [3, 4]])"
   ]
  },
  {
   "cell_type": "markdown",
   "id": "450d9261-b972-4b0c-ae26-f374db7bb83a",
   "metadata": {},
   "source": [
    "#### Init from __numpy__ array"
   ]
  },
  {
   "cell_type": "code",
   "execution_count": 2,
   "id": "2c7dd59c-298c-495c-b24e-3103c00d9682",
   "metadata": {},
   "outputs": [
    {
     "data": {
      "text/plain": [
       "array([1., 1., 1., 1., 1.])"
      ]
     },
     "execution_count": 2,
     "metadata": {},
     "output_type": "execute_result"
    }
   ],
   "source": [
    "np_x = np.ones(5)\n",
    "np_x"
   ]
  },
  {
   "cell_type": "code",
   "execution_count": 10,
   "id": "63a32fb6-9f96-4243-b929-05679680c79a",
   "metadata": {},
   "outputs": [
    {
     "data": {
      "text/plain": [
       "tensor([4., 4., 4., 4., 4.], dtype=torch.float64)"
      ]
     },
     "execution_count": 10,
     "metadata": {},
     "output_type": "execute_result"
    }
   ],
   "source": [
    "x = torch.from_numpy(np_x) # IMPORTANT! - x keeps reference to np_x (the data is not copied) assuming the tensor is on CPU (can be different on GPU)\n",
    "x"
   ]
  },
  {
   "cell_type": "code",
   "execution_count": 11,
   "id": "2b28b4fd-d8ef-4f03-ad95-c408d4086797",
   "metadata": {},
   "outputs": [
    {
     "data": {
      "text/plain": [
       "(tensor([5., 5., 5., 5., 5.], dtype=torch.float64),\n",
       " array([5., 5., 5., 5., 5.]))"
      ]
     },
     "execution_count": 11,
     "metadata": {},
     "output_type": "execute_result"
    }
   ],
   "source": [
    "x.add_(1) # underscode means the operation is done in place\n",
    "x, np_x # both x and np_x was modified"
   ]
  },
  {
   "cell_type": "markdown",
   "id": "fcfed3ed-cbb0-4216-993f-161977e93d9c",
   "metadata": {},
   "source": [
    "### Tensor on device"
   ]
  },
  {
   "cell_type": "code",
   "execution_count": 19,
   "id": "28704e9c-9263-475f-bf49-a50fb936c0be",
   "metadata": {},
   "outputs": [
    {
     "data": {
      "text/plain": [
       "device(type='cuda')"
      ]
     },
     "execution_count": 19,
     "metadata": {},
     "output_type": "execute_result"
    }
   ],
   "source": [
    "device_cuda = torch.device(\"cuda\")\n",
    "device_cuda"
   ]
  },
  {
   "cell_type": "code",
   "execution_count": 20,
   "id": "16e0fe25-fb90-4b53-9433-888fea55d20a",
   "metadata": {},
   "outputs": [
    {
     "data": {
      "text/plain": [
       "device(type='cpu')"
      ]
     },
     "execution_count": 20,
     "metadata": {},
     "output_type": "execute_result"
    }
   ],
   "source": [
    "device_cpu = torch.device(\"cpu\")\n",
    "device_cpu"
   ]
  },
  {
   "cell_type": "markdown",
   "id": "e06a51ab-67f8-4616-95db-aa3deaa3b91b",
   "metadata": {},
   "source": [
    "#### Define tensor on the specific device"
   ]
  },
  {
   "cell_type": "code",
   "execution_count": 21,
   "id": "f34e5173-c0ba-46a1-b6f6-4093249546ea",
   "metadata": {},
   "outputs": [
    {
     "data": {
      "text/plain": [
       "tensor([1., 1., 1., 1., 1.])"
      ]
     },
     "execution_count": 21,
     "metadata": {},
     "output_type": "execute_result"
    }
   ],
   "source": [
    "x = torch.ones(5, device=device_cpu) # this won't always work for cuda (cuda must be enabled)\n",
    "x"
   ]
  },
  {
   "cell_type": "markdown",
   "id": "4eaf60ff-74e6-43eb-866e-5f157d97b737",
   "metadata": {},
   "source": [
    "#### Move a tensor to a device"
   ]
  },
  {
   "cell_type": "code",
   "execution_count": 22,
   "id": "7efda0dd-14c5-4ca9-9383-83d92831ff5f",
   "metadata": {},
   "outputs": [
    {
     "data": {
      "text/plain": [
       "tensor([1., 1., 1., 1., 1.])"
      ]
     },
     "execution_count": 22,
     "metadata": {},
     "output_type": "execute_result"
    }
   ],
   "source": [
    "x.to(device_cpu) # for cuda, CUDA must be defined and enabled\n",
    "x"
   ]
  },
  {
   "cell_type": "markdown",
   "id": "0021ed75-7121-45a5-9de8-04bafe595544",
   "metadata": {},
   "source": [
    "### Tensor data types"
   ]
  },
  {
   "cell_type": "code",
   "execution_count": null,
   "id": "8ee3ebc7-93ad-4418-acf3-94f347b3088d",
   "metadata": {},
   "outputs": [],
   "source": []
  },
  {
   "cell_type": "code",
   "execution_count": null,
   "id": "59418ca4-a440-44c1-bba3-92828b80a83b",
   "metadata": {},
   "outputs": [],
   "source": []
  },
  {
   "cell_type": "markdown",
   "id": "12969631-2af0-4ee6-9c9f-2332ac801417",
   "metadata": {},
   "source": [
    "### Operations on Tensors"
   ]
  },
  {
   "cell_type": "code",
   "execution_count": 32,
   "id": "ca0e2040-7c33-47c2-86a9-2ca60dbcbc06",
   "metadata": {},
   "outputs": [
    {
     "data": {
      "text/plain": [
       "(tensor([[1, 2],\n",
       "         [1, 2]]),\n",
       " tensor([[3, 3],\n",
       "         [5, 5]]))"
      ]
     },
     "execution_count": 32,
     "metadata": {},
     "output_type": "execute_result"
    }
   ],
   "source": [
    "x = torch.tensor([[1, 2], [1, 2]])\n",
    "y = torch.tensor([[3,3], [5, 5]])\n",
    "x, y"
   ]
  },
  {
   "cell_type": "markdown",
   "id": "599ef246-dc3e-438d-bf1a-369743ad6046",
   "metadata": {},
   "source": [
    "#### Adding tesors (corresponding elements ared added to each other)"
   ]
  },
  {
   "cell_type": "code",
   "execution_count": 34,
   "id": "d5a69ec5-499f-4106-bc77-5106ac2407a5",
   "metadata": {},
   "outputs": [
    {
     "data": {
      "text/plain": [
       "tensor([[4, 5],\n",
       "        [6, 7]])"
      ]
     },
     "execution_count": 34,
     "metadata": {},
     "output_type": "execute_result"
    }
   ],
   "source": [
    "z = x + y\n",
    "z"
   ]
  },
  {
   "cell_type": "code",
   "execution_count": 44,
   "id": "268a4fad-ad4d-4182-9d24-72c344b67f0e",
   "metadata": {},
   "outputs": [
    {
     "data": {
      "text/plain": [
       "tensor([[4, 5],\n",
       "        [6, 7]])"
      ]
     },
     "execution_count": 44,
     "metadata": {},
     "output_type": "execute_result"
    }
   ],
   "source": [
    "z = x.add(y)\n",
    "z"
   ]
  },
  {
   "cell_type": "code",
   "execution_count": 46,
   "id": "ea6c6c73-74b1-4237-81e4-ef4071e5957d",
   "metadata": {},
   "outputs": [
    {
     "data": {
      "text/plain": [
       "tensor([[2, 3],\n",
       "        [2, 3]])"
      ]
     },
     "execution_count": 46,
     "metadata": {},
     "output_type": "execute_result"
    }
   ],
   "source": [
    "z = x + 1 # add single value to each element\n",
    "z"
   ]
  },
  {
   "cell_type": "code",
   "execution_count": 49,
   "id": "877236ee-1527-4e85-b4bb-ba4e5eea50ae",
   "metadata": {},
   "outputs": [
    {
     "data": {
      "text/plain": [
       "tensor([[2, 4],\n",
       "        [2, 4]])"
      ]
     },
     "execution_count": 49,
     "metadata": {},
     "output_type": "execute_result"
    }
   ],
   "source": [
    "z = x + torch.tensor([1, 2]) # add by rows\n",
    "z"
   ]
  },
  {
   "cell_type": "code",
   "execution_count": 51,
   "id": "9b723dc7-6183-4404-a279-c53cd2b43b33",
   "metadata": {},
   "outputs": [],
   "source": [
    " # add by rows TODO"
   ]
  },
  {
   "cell_type": "code",
   "execution_count": null,
   "id": "f081fb03-12c0-41e1-a45d-dfc4e3c5e5d7",
   "metadata": {},
   "outputs": [],
   "source": []
  },
  {
   "cell_type": "markdown",
   "id": "9b85a447-9344-442f-808c-3e40582d911d",
   "metadata": {},
   "source": [
    "#### Multiplication "
   ]
  },
  {
   "cell_type": "code",
   "execution_count": 39,
   "id": "1e2f480f-66bf-4e13-871c-b4bd9ea7b570",
   "metadata": {},
   "outputs": [
    {
     "data": {
      "text/plain": [
       "tensor([[ 3,  6],\n",
       "        [ 5, 10]])"
      ]
     },
     "execution_count": 39,
     "metadata": {},
     "output_type": "execute_result"
    }
   ],
   "source": [
    "z = x * y\n",
    "z"
   ]
  },
  {
   "cell_type": "code",
   "execution_count": 42,
   "id": "cfeb60fc-bc49-45d4-8e50-dc9c7a61703a",
   "metadata": {},
   "outputs": [
    {
     "data": {
      "text/plain": [
       "tensor([[ 3,  6],\n",
       "        [ 5, 10]])"
      ]
     },
     "execution_count": 42,
     "metadata": {},
     "output_type": "execute_result"
    }
   ],
   "source": [
    "z = x.mul(y)\n",
    "z"
   ]
  },
  {
   "cell_type": "code",
   "execution_count": 41,
   "id": "eea5dbcf-715a-4099-85a6-7d6ff1b6f491",
   "metadata": {},
   "outputs": [
    {
     "data": {
      "text/plain": [
       "tensor([[ 3,  6],\n",
       "        [ 5, 10]])"
      ]
     },
     "execution_count": 41,
     "metadata": {},
     "output_type": "execute_result"
    }
   ],
   "source": [
    "z = x.multiply(y)\n",
    "z"
   ]
  },
  {
   "cell_type": "markdown",
   "id": "ff09a18e-954b-4750-9fd6-32a09d71023b",
   "metadata": {},
   "source": [
    "#### Division"
   ]
  },
  {
   "cell_type": "code",
   "execution_count": 38,
   "id": "2861b222-ed5f-4484-82b0-9d80fa3d129e",
   "metadata": {},
   "outputs": [
    {
     "data": {
      "text/plain": [
       "tensor([[0.3333, 0.6667],\n",
       "        [0.2000, 0.4000]])"
      ]
     },
     "execution_count": 38,
     "metadata": {},
     "output_type": "execute_result"
    }
   ],
   "source": [
    "z = x / y\n",
    "z"
   ]
  },
  {
   "cell_type": "code",
   "execution_count": 43,
   "id": "b90f13c2-efd9-47b7-81a3-27ac5ab7f2bc",
   "metadata": {},
   "outputs": [
    {
     "data": {
      "text/plain": [
       "tensor([[0.3333, 0.6667],\n",
       "        [0.2000, 0.4000]])"
      ]
     },
     "execution_count": 43,
     "metadata": {},
     "output_type": "execute_result"
    }
   ],
   "source": [
    "z = x.div(y)\n",
    "z"
   ]
  },
  {
   "cell_type": "code",
   "execution_count": null,
   "id": "45e3c1db-244b-48ef-88b1-0c4d25b9b235",
   "metadata": {},
   "outputs": [],
   "source": []
  },
  {
   "cell_type": "markdown",
   "id": "1fc63f30-3353-472e-8074-86c0347e3c38",
   "metadata": {},
   "source": [
    "### Tensor reshaping"
   ]
  },
  {
   "cell_type": "code",
   "execution_count": 56,
   "id": "2be85c19-5be0-47d8-baee-45215c076ffb",
   "metadata": {},
   "outputs": [
    {
     "data": {
      "text/plain": [
       "tensor([[1., 1., 1., 1.],\n",
       "        [1., 1., 1., 1.],\n",
       "        [1., 1., 1., 1.],\n",
       "        [1., 1., 1., 1.]])"
      ]
     },
     "execution_count": 56,
     "metadata": {},
     "output_type": "execute_result"
    }
   ],
   "source": [
    "x = torch.ones(4, 4)\n",
    "x"
   ]
  },
  {
   "cell_type": "code",
   "execution_count": 60,
   "id": "0049d94a-e02e-40af-93c4-9c3c7226b6e5",
   "metadata": {},
   "outputs": [
    {
     "data": {
      "text/plain": [
       "tensor([1., 1., 1., 1., 1., 1., 1., 1., 1., 1., 1., 1., 1., 1., 1., 1.])"
      ]
     },
     "execution_count": 60,
     "metadata": {},
     "output_type": "execute_result"
    }
   ],
   "source": [
    "torch.reshape(x, (16,)) # the second arg must be a tuple"
   ]
  },
  {
   "cell_type": "code",
   "execution_count": 62,
   "id": "d0b1f8d2-47b5-4ec0-aa76-6efb9b5c7259",
   "metadata": {},
   "outputs": [
    {
     "data": {
      "text/plain": [
       "tensor([[1., 1.],\n",
       "        [1., 1.],\n",
       "        [1., 1.],\n",
       "        [1., 1.],\n",
       "        [1., 1.],\n",
       "        [1., 1.],\n",
       "        [1., 1.],\n",
       "        [1., 1.]])"
      ]
     },
     "execution_count": 62,
     "metadata": {},
     "output_type": "execute_result"
    }
   ],
   "source": [
    "x.view(8,2) # reshaping by using view method"
   ]
  },
  {
   "cell_type": "code",
   "execution_count": 64,
   "id": "45642f60-8823-4f7a-889f-d596c5db59f6",
   "metadata": {},
   "outputs": [
    {
     "data": {
      "text/plain": [
       "tensor([[[1., 1.],\n",
       "         [1., 1.]],\n",
       "\n",
       "        [[1., 1.],\n",
       "         [1., 1.]],\n",
       "\n",
       "        [[1., 1.],\n",
       "         [1., 1.]],\n",
       "\n",
       "        [[1., 1.],\n",
       "         [1., 1.]]])"
      ]
     },
     "execution_count": 64,
     "metadata": {},
     "output_type": "execute_result"
    }
   ],
   "source": [
    "x.view(-1, 2, 2) # -1 means that the last dimention should be calculated based on the the given ones"
   ]
  },
  {
   "cell_type": "code",
   "execution_count": null,
   "id": "439b970b-609c-4cea-9307-bafc68aa017d",
   "metadata": {},
   "outputs": [],
   "source": []
  },
  {
   "cell_type": "code",
   "execution_count": null,
   "id": "4585fab3-5bc9-47a6-9263-899b9fa23413",
   "metadata": {},
   "outputs": [],
   "source": []
  }
 ],
 "metadata": {
  "kernelspec": {
   "display_name": "Python 3 (ipykernel)",
   "language": "python",
   "name": "python3"
  },
  "language_info": {
   "codemirror_mode": {
    "name": "ipython",
    "version": 3
   },
   "file_extension": ".py",
   "mimetype": "text/x-python",
   "name": "python",
   "nbconvert_exporter": "python",
   "pygments_lexer": "ipython3",
   "version": "3.9.7"
  }
 },
 "nbformat": 4,
 "nbformat_minor": 5
}
