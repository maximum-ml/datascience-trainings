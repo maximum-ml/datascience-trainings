{
 "cells": [
  {
   "cell_type": "markdown",
   "id": "33592f35-1246-4726-bffe-f52480e5ec88",
   "metadata": {},
   "source": [
    "# Simple Python Code Labs"
   ]
  },
  {
   "cell_type": "markdown",
   "id": "01fd0712-2f18-4513-a012-017d8ae198f7",
   "metadata": {},
   "source": [
    "## Code Lab 1"
   ]
  },
  {
   "cell_type": "markdown",
   "id": "3a911aac-1895-4fe9-a950-14b142d679ad",
   "metadata": {},
   "source": [
    "Group strings build with the same set of letters. For example:\\\n",
    "Given a list of words ['abc', 'cba', 'cdn', 'ndc', 'dcn', 'xyz']\\\n",
    "Produce a list of lists [['abc', 'cba'], ['cdn', 'ndc', 'dcn'], ['xyz']] - if letters in the word matches then the word goes into the same sub-list"
   ]
  },
  {
   "cell_type": "code",
   "execution_count": 1,
   "id": "70493fa9-3f54-4a1d-981f-e8f224b0d5bf",
   "metadata": {},
   "outputs": [],
   "source": [
    "input =  ['abc', 'cba', 'cdn', 'ndc', 'dcn', 'xyz']"
   ]
  },
  {
   "cell_type": "code",
   "execution_count": 2,
   "id": "002e392d-1c5b-42c2-bea2-1ada4c92020b",
   "metadata": {},
   "outputs": [],
   "source": [
    "def group_words(words) :\n",
    "    map = {}\n",
    "    for word in words:\n",
    "        sorted_word = ''.join(sorted(word))\n",
    "        map.setdefault(sorted_word, []).append(word)\n",
    "    return list(map.values())"
   ]
  },
  {
   "cell_type": "code",
   "execution_count": 3,
   "id": "407a02f5-a583-49e1-81cf-0b3149af5769",
   "metadata": {},
   "outputs": [
    {
     "data": {
      "text/plain": [
       "[['abc', 'cba'], ['cdn', 'ndc', 'dcn'], ['xyz']]"
      ]
     },
     "execution_count": 3,
     "metadata": {},
     "output_type": "execute_result"
    }
   ],
   "source": [
    "out = group_words(input)\n",
    "out"
   ]
  },
  {
   "cell_type": "code",
   "execution_count": null,
   "id": "25dfa3a5-8e24-48aa-9e59-cb8aa57e5fea",
   "metadata": {},
   "outputs": [],
   "source": []
  },
  {
   "cell_type": "markdown",
   "id": "8f629c64-8197-469a-b946-5ad2b87918a3",
   "metadata": {},
   "source": [
    "## Code Lab 2\n",
    "\n",
    "__Goal__:\\\n",
    "Count all words in a string."
   ]
  },
  {
   "cell_type": "code",
   "execution_count": 13,
   "id": "127a950d-2a30-4ed7-ad11-bd096eadabe6",
   "metadata": {},
   "outputs": [],
   "source": [
    "input1 = \"Count all words in a string.\"\n",
    "input2 = \"Count all  words in a string.\"\n"
   ]
  },
  {
   "cell_type": "code",
   "execution_count": 18,
   "id": "2c577ea8-1ffc-4cfc-a72e-cece5588893d",
   "metadata": {},
   "outputs": [],
   "source": [
    "def count_words(input: str) -> int:\n",
    "    all_tokens = input.split(' ')\n",
    "    non_empty_tokens = list(filter(lambda x: x != '', all_tokens))\n",
    "    return len(non_empty_tokens)\n",
    "    "
   ]
  },
  {
   "cell_type": "code",
   "execution_count": 19,
   "id": "f479f91b-c88f-4544-8022-58032b100940",
   "metadata": {},
   "outputs": [
    {
     "data": {
      "text/plain": [
       "6"
      ]
     },
     "execution_count": 19,
     "metadata": {},
     "output_type": "execute_result"
    }
   ],
   "source": [
    "output1 = count_words(input1)\n",
    "output1"
   ]
  },
  {
   "cell_type": "code",
   "execution_count": 20,
   "id": "f4be2c7f-7489-4e62-a5fa-215de8871478",
   "metadata": {},
   "outputs": [
    {
     "data": {
      "text/plain": [
       "6"
      ]
     },
     "execution_count": 20,
     "metadata": {},
     "output_type": "execute_result"
    }
   ],
   "source": [
    "output2 = count_words(input2)\n",
    "output2"
   ]
  },
  {
   "cell_type": "markdown",
   "id": "81dd8b16-9702-41da-b835-3ddf8dc2450e",
   "metadata": {},
   "source": [
    "## Code Lab 3\n",
    "\n",
    "__Goal__\n",
    "\n",
    "Find all pairs of integers from a given input list l that sum up to a given number n.\\\n",
    "Example: \n",
    "l = [1,2,3,4,5,6,7,8,9]\n",
    "n = 6\n",
    "\n",
    "Expected output: [1,5], [2,4]\n"
   ]
  },
  {
   "cell_type": "code",
   "execution_count": 24,
   "id": "b614d3cc-bfae-4694-ad27-584b2ad00ab9",
   "metadata": {},
   "outputs": [],
   "source": [
    "def find_pairs(numbers: list, sum: int) -> list:\n",
    "    numbers.sort()\n",
    "    result = []\n",
    "    for idx1, num1 in enumerate(numbers):\n",
    "        if num1 >= sum:\n",
    "            break\n",
    "        else:\n",
    "            for idx2 in range(idx1 + 1, len(numbers)):\n",
    "                num2 = numbers[idx2]\n",
    "                if num1 + num2 == sum:\n",
    "                    result.append((num1, num2))\n",
    "                elif num1 + num2 > sum:\n",
    "                    break\n",
    "            \n",
    "    return result;"
   ]
  },
  {
   "cell_type": "code",
   "execution_count": 25,
   "id": "7c4573cd-cadf-49ae-8299-4fbf72aa36f4",
   "metadata": {},
   "outputs": [],
   "source": [
    "l =  [1,2,3,4,5,6,7,8,9]\n",
    "n = 6"
   ]
  },
  {
   "cell_type": "code",
   "execution_count": 26,
   "id": "4e4c4975-66e7-4d9a-bade-d2bda78e8381",
   "metadata": {},
   "outputs": [
    {
     "data": {
      "text/plain": [
       "[(1, 5), (2, 4)]"
      ]
     },
     "execution_count": 26,
     "metadata": {},
     "output_type": "execute_result"
    }
   ],
   "source": [
    "result = find_pairs(l, n)\n",
    "result"
   ]
  },
  {
   "cell_type": "code",
   "execution_count": null,
   "id": "4b9b0572-570e-45b2-90fa-409dc880dec9",
   "metadata": {},
   "outputs": [],
   "source": []
  }
 ],
 "metadata": {
  "kernelspec": {
   "display_name": "Python 3 (ipykernel)",
   "language": "python",
   "name": "python3"
  },
  "language_info": {
   "codemirror_mode": {
    "name": "ipython",
    "version": 3
   },
   "file_extension": ".py",
   "mimetype": "text/x-python",
   "name": "python",
   "nbconvert_exporter": "python",
   "pygments_lexer": "ipython3",
   "version": "3.9.7"
  }
 },
 "nbformat": 4,
 "nbformat_minor": 5
}
