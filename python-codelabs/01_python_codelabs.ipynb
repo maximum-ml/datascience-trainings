{
 "cells": [
  {
   "cell_type": "markdown",
   "id": "33592f35-1246-4726-bffe-f52480e5ec88",
   "metadata": {},
   "source": [
    "# Simple Python Code Labs"
   ]
  },
  {
   "cell_type": "markdown",
   "id": "01fd0712-2f18-4513-a012-017d8ae198f7",
   "metadata": {},
   "source": [
    "## Code Lab 1"
   ]
  },
  {
   "cell_type": "markdown",
   "id": "3a911aac-1895-4fe9-a950-14b142d679ad",
   "metadata": {},
   "source": [
    "Given a list of words ['abc', 'cba', 'cdn', 'ndc', 'dcn', 'xyz']\\\n",
    "Produce a list of lists [['abc', 'cba'], ['cdn', 'ndc', 'dcn'], ['xyz']] - if letters in the word matches then the word goes into the same sub-list"
   ]
  },
  {
   "cell_type": "code",
   "execution_count": 3,
   "id": "70493fa9-3f54-4a1d-981f-e8f224b0d5bf",
   "metadata": {},
   "outputs": [],
   "source": [
    "input =  ['abc', 'cba', 'cdn', 'ndc', 'dcn', 'xyz']"
   ]
  },
  {
   "cell_type": "code",
   "execution_count": 6,
   "id": "002e392d-1c5b-42c2-bea2-1ada4c92020b",
   "metadata": {},
   "outputs": [],
   "source": [
    "def group_words(words) :\n",
    "    map = {}\n",
    "    for word in words:\n",
    "        sorted_word = ''.join(sorted(word))\n",
    "        map.setdefault(sorted_word, []).append(word)\n",
    "    return list(map.values())"
   ]
  },
  {
   "cell_type": "code",
   "execution_count": 7,
   "id": "407a02f5-a583-49e1-81cf-0b3149af5769",
   "metadata": {},
   "outputs": [
    {
     "data": {
      "text/plain": [
       "[['abc', 'cba'], ['cdn', 'ndc', 'dcn'], ['xyz']]"
      ]
     },
     "execution_count": 7,
     "metadata": {},
     "output_type": "execute_result"
    }
   ],
   "source": [
    "out = group_words(input)\n",
    "out"
   ]
  },
  {
   "cell_type": "code",
   "execution_count": null,
   "id": "25dfa3a5-8e24-48aa-9e59-cb8aa57e5fea",
   "metadata": {},
   "outputs": [],
   "source": []
  }
 ],
 "metadata": {
  "kernelspec": {
   "display_name": "Python 3 (ipykernel)",
   "language": "python",
   "name": "python3"
  },
  "language_info": {
   "codemirror_mode": {
    "name": "ipython",
    "version": 3
   },
   "file_extension": ".py",
   "mimetype": "text/x-python",
   "name": "python",
   "nbconvert_exporter": "python",
   "pygments_lexer": "ipython3",
   "version": "3.8.10"
  }
 },
 "nbformat": 4,
 "nbformat_minor": 5
}
