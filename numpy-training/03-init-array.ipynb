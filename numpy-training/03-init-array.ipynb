{
 "cells": [
  {
   "cell_type": "markdown",
   "id": "2d2d3cba-a954-4e54-a254-b949ce65bcf5",
   "metadata": {},
   "source": [
    "# Numpy - Quick Array Init"
   ]
  },
  {
   "cell_type": "code",
   "execution_count": 2,
   "id": "73cddd71-cee6-48a2-a65b-dfb1194e68fa",
   "metadata": {},
   "outputs": [],
   "source": [
    "import numpy as np"
   ]
  },
  {
   "cell_type": "markdown",
   "id": "444d58f3-4742-4433-80f3-314318e62eb1",
   "metadata": {},
   "source": [
    "### Zeros"
   ]
  },
  {
   "cell_type": "code",
   "execution_count": 4,
   "id": "c7fc4edd-5079-44c3-b2c4-4db871c5ceb4",
   "metadata": {},
   "outputs": [
    {
     "data": {
      "text/plain": [
       "array([[[0., 0., 0.],\n",
       "        [0., 0., 0.],\n",
       "        [0., 0., 0.],\n",
       "        [0., 0., 0.],\n",
       "        [0., 0., 0.]],\n",
       "\n",
       "       [[0., 0., 0.],\n",
       "        [0., 0., 0.],\n",
       "        [0., 0., 0.],\n",
       "        [0., 0., 0.],\n",
       "        [0., 0., 0.]]])"
      ]
     },
     "execution_count": 4,
     "metadata": {},
     "output_type": "execute_result"
    }
   ],
   "source": [
    "zeros = np.zeros((2,5,3)) # initialize 2x5x3 matrix of 0s\n",
    "zeros"
   ]
  },
  {
   "cell_type": "markdown",
   "id": "c9b444de-38ca-4eee-9a33-e5fb9e42768e",
   "metadata": {},
   "source": [
    "### Ones"
   ]
  },
  {
   "cell_type": "code",
   "execution_count": 26,
   "id": "29c03af4-f832-40b3-985b-31647f0a1d41",
   "metadata": {},
   "outputs": [
    {
     "data": {
      "text/plain": [
       "array([[1., 1., 1., 1.],\n",
       "       [1., 1., 1., 1.],\n",
       "       [1., 1., 1., 1.],\n",
       "       [1., 1., 1., 1.]])"
      ]
     },
     "execution_count": 26,
     "metadata": {},
     "output_type": "execute_result"
    }
   ],
   "source": [
    "ones = np.ones((4,4))   # init with 1.0 (floating point number)\n",
    "ones"
   ]
  },
  {
   "cell_type": "markdown",
   "id": "62ae8f2f-5ff3-4a04-bffa-ca51048be047",
   "metadata": {},
   "source": [
    "### Full"
   ]
  },
  {
   "cell_type": "code",
   "execution_count": 27,
   "id": "bd7639f9-3b03-4ddd-8924-0cf10ae405ef",
   "metadata": {},
   "outputs": [
    {
     "data": {
      "text/plain": [
       "array([[5, 5, 5, 5],\n",
       "       [5, 5, 5, 5],\n",
       "       [5, 5, 5, 5],\n",
       "       [5, 5, 5, 5]])"
      ]
     },
     "execution_count": 27,
     "metadata": {},
     "output_type": "execute_result"
    }
   ],
   "source": [
    "full = np.full((4,4), 5) # init with number (int32 by default)\n",
    "full"
   ]
  },
  {
   "cell_type": "code",
   "execution_count": 28,
   "id": "d5d6e75b-0a95-4173-84b4-7f4a487a925b",
   "metadata": {},
   "outputs": [
    {
     "data": {
      "text/plain": [
       "array([[9., 9., 9., 9.],\n",
       "       [9., 9., 9., 9.],\n",
       "       [9., 9., 9., 9.],\n",
       "       [9., 9., 9., 9.]], dtype=float32)"
      ]
     },
     "execution_count": 28,
     "metadata": {},
     "output_type": "execute_result"
    }
   ],
   "source": [
    "full = np.full((4,4), 9, dtype='float32') # init with float number\n",
    "full"
   ]
  },
  {
   "cell_type": "markdown",
   "id": "f2c3161d-7953-4806-8ec5-74e1b7630c9e",
   "metadata": {},
   "source": [
    "### FullLike"
   ]
  },
  {
   "cell_type": "code",
   "execution_count": 22,
   "id": "64186a14-331c-492f-8027-31cd08279c73",
   "metadata": {},
   "outputs": [
    {
     "data": {
      "text/plain": [
       "array([[0., 0., 0., 0.],\n",
       "       [0., 0., 0., 0.],\n",
       "       [0., 0., 0., 0.],\n",
       "       [0., 0., 0., 0.]], dtype=float32)"
      ]
     },
     "execution_count": 22,
     "metadata": {},
     "output_type": "execute_result"
    }
   ],
   "source": [
    "full_like = np.full_like(full, 0)   # tworzy tablicę o takim samym rozmiarze i typie danych\n",
    "full_like"
   ]
  },
  {
   "cell_type": "markdown",
   "id": "f70c7a84-419b-4047-a989-a0d41d440a0c",
   "metadata": {},
   "source": [
    "### Identity"
   ]
  },
  {
   "cell_type": "code",
   "execution_count": 25,
   "id": "c00c6665-0dbd-44a2-b1ca-d2b3ba0a6fd7",
   "metadata": {},
   "outputs": [
    {
     "data": {
      "text/plain": [
       "array([[1, 0, 0, 0, 0],\n",
       "       [0, 1, 0, 0, 0],\n",
       "       [0, 0, 1, 0, 0],\n",
       "       [0, 0, 0, 1, 0],\n",
       "       [0, 0, 0, 0, 1]], dtype=int32)"
      ]
     },
     "execution_count": 25,
     "metadata": {},
     "output_type": "execute_result"
    }
   ],
   "source": [
    "identity = np.identity(5, dtype='int32')\n",
    "identity"
   ]
  },
  {
   "cell_type": "code",
   "execution_count": null,
   "id": "03aa25f0-05d4-48a9-a146-58ee935020d7",
   "metadata": {},
   "outputs": [],
   "source": []
  }
 ],
 "metadata": {
  "kernelspec": {
   "display_name": "Python 3 (ipykernel)",
   "language": "python",
   "name": "python3"
  },
  "language_info": {
   "codemirror_mode": {
    "name": "ipython",
    "version": 3
   },
   "file_extension": ".py",
   "mimetype": "text/x-python",
   "name": "python",
   "nbconvert_exporter": "python",
   "pygments_lexer": "ipython3",
   "version": "3.8.10"
  }
 },
 "nbformat": 4,
 "nbformat_minor": 5
}
