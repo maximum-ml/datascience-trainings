{
 "cells": [
  {
   "cell_type": "markdown",
   "id": "0905e7a0-0915-465a-b7f4-75febaf0a707",
   "metadata": {},
   "source": [
    "# Numpy - Basic Operations"
   ]
  },
  {
   "cell_type": "code",
   "execution_count": 2,
   "id": "d2c534cc-e755-4dd8-8cae-4210fc1a486f",
   "metadata": {},
   "outputs": [],
   "source": [
    "import numpy as np"
   ]
  },
  {
   "cell_type": "code",
   "execution_count": 23,
   "id": "85b275aa-810d-4f6d-926f-dceaba60f0c9",
   "metadata": {},
   "outputs": [],
   "source": [
    "a = [1, 2, 3]\n",
    "b = [10, 20, 30]\n",
    "c= [[10, 20, 30], [40, 50, 60]]"
   ]
  },
  {
   "cell_type": "markdown",
   "id": "e676be33-7020-4810-99fc-5720c2b1fb4b",
   "metadata": {},
   "source": [
    "### Basic operations on arrays (to compare)"
   ]
  },
  {
   "cell_type": "code",
   "execution_count": 24,
   "id": "02c483f7-628b-452a-a620-fd048d45d1c7",
   "metadata": {},
   "outputs": [
    {
     "data": {
      "text/plain": [
       "[1, 2, 3, 10, 20, 30]"
      ]
     },
     "execution_count": 24,
     "metadata": {},
     "output_type": "execute_result"
    }
   ],
   "source": [
    "x = a + b\n",
    "x"
   ]
  },
  {
   "cell_type": "code",
   "execution_count": 25,
   "id": "1837d97b-ac7b-4b56-bef3-d30e1085aae3",
   "metadata": {},
   "outputs": [
    {
     "data": {
      "text/plain": [
       "[1, 2, 3, [10, 20, 30], [40, 50, 60]]"
      ]
     },
     "execution_count": 25,
     "metadata": {},
     "output_type": "execute_result"
    }
   ],
   "source": [
    "x = a + c\n",
    "x"
   ]
  },
  {
   "cell_type": "code",
   "execution_count": 26,
   "id": "01eda5d2-c8f5-4f55-9619-1a7b401f17fd",
   "metadata": {},
   "outputs": [
    {
     "data": {
      "text/plain": [
       "[1, 2, 3, 1, 2, 3]"
      ]
     },
     "execution_count": 26,
     "metadata": {},
     "output_type": "execute_result"
    }
   ],
   "source": [
    "x = a * 2\n",
    "x"
   ]
  },
  {
   "cell_type": "code",
   "execution_count": 27,
   "id": "414d4767-7776-4ce6-8fc7-dbc4d3e6fa93",
   "metadata": {},
   "outputs": [
    {
     "data": {
      "text/plain": [
       "[[10, 20, 30], [40, 50, 60], [10, 20, 30], [40, 50, 60]]"
      ]
     },
     "execution_count": 27,
     "metadata": {},
     "output_type": "execute_result"
    }
   ],
   "source": [
    "x = c * 2\n",
    "x"
   ]
  },
  {
   "cell_type": "markdown",
   "id": "c7df7679-26f4-4371-be96-37ed643a01bc",
   "metadata": {},
   "source": [
    "### Basic operations on np.array "
   ]
  },
  {
   "cell_type": "code",
   "execution_count": 30,
   "id": "d94f056e-a187-44b4-8a32-df5596c4b5dc",
   "metadata": {},
   "outputs": [],
   "source": [
    "na = np.array(a)\n",
    "nb = np.array(b)\n",
    "nc = np.array(c)"
   ]
  },
  {
   "cell_type": "code",
   "execution_count": 45,
   "id": "f5c3363c-1533-4de4-9307-c132587e601b",
   "metadata": {},
   "outputs": [
    {
     "data": {
      "text/plain": [
       "array([11, 22, 33])"
      ]
     },
     "execution_count": 45,
     "metadata": {},
     "output_type": "execute_result"
    }
   ],
   "source": [
    "na + nb # add element-by-element"
   ]
  },
  {
   "cell_type": "code",
   "execution_count": 46,
   "id": "2c0ccd9e-625a-471d-86d6-a1077fdb9f54",
   "metadata": {},
   "outputs": [
    {
     "data": {
      "text/plain": [
       "array([11, 22, 33])"
      ]
     },
     "execution_count": 46,
     "metadata": {},
     "output_type": "execute_result"
    }
   ],
   "source": [
    "np.add(na, nb)"
   ]
  },
  {
   "cell_type": "code",
   "execution_count": 37,
   "id": "529c0806-b801-4f44-b928-80ce77bb9255",
   "metadata": {},
   "outputs": [
    {
     "data": {
      "text/plain": [
       "array([11, 12, 13])"
      ]
     },
     "execution_count": 37,
     "metadata": {},
     "output_type": "execute_result"
    }
   ],
   "source": [
    "na + 10 # add int value to each element"
   ]
  },
  {
   "cell_type": "code",
   "execution_count": 38,
   "id": "4d85aaa0-ab9a-4544-8279-9772528406e2",
   "metadata": {},
   "outputs": [
    {
     "data": {
      "text/plain": [
       "array([2, 4, 6])"
      ]
     },
     "execution_count": 38,
     "metadata": {},
     "output_type": "execute_result"
    }
   ],
   "source": [
    "na * 2 # multiply each element"
   ]
  },
  {
   "cell_type": "code",
   "execution_count": 43,
   "id": "a766680b-1f31-44dd-beea-996fbcd72164",
   "metadata": {},
   "outputs": [
    {
     "data": {
      "text/plain": [
       "array([[11, 22, 33],\n",
       "       [41, 52, 63]])"
      ]
     },
     "execution_count": 43,
     "metadata": {},
     "output_type": "execute_result"
    }
   ],
   "source": [
    "na + nc # add elem-by-elem in the last left-side dimention"
   ]
  },
  {
   "cell_type": "code",
   "execution_count": 47,
   "id": "9b7c2897-9ffa-4a12-a8af-82ffe0dacc73",
   "metadata": {},
   "outputs": [
    {
     "data": {
      "text/plain": [
       "array([10, 40, 90])"
      ]
     },
     "execution_count": 47,
     "metadata": {},
     "output_type": "execute_result"
    }
   ],
   "source": [
    "na * nb"
   ]
  },
  {
   "cell_type": "code",
   "execution_count": 49,
   "id": "3f833f65-6a30-4223-b2b9-68d221d64e7a",
   "metadata": {},
   "outputs": [
    {
     "data": {
      "text/plain": [
       "array([10, 40, 90])"
      ]
     },
     "execution_count": 49,
     "metadata": {},
     "output_type": "execute_result"
    }
   ],
   "source": [
    "np.multiply(na, nb)"
   ]
  },
  {
   "cell_type": "code",
   "execution_count": 62,
   "id": "353f42eb-28e2-4580-aac1-216aee4612b8",
   "metadata": {},
   "outputs": [
    {
     "data": {
      "text/plain": [
       "(2, 3)"
      ]
     },
     "execution_count": 62,
     "metadata": {},
     "output_type": "execute_result"
    }
   ],
   "source": [
    "nc.shape"
   ]
  },
  {
   "cell_type": "markdown",
   "id": "4b01dd1a-60ea-4697-a797-20dfce849a25",
   "metadata": {},
   "source": [
    "### Transpose"
   ]
  },
  {
   "cell_type": "code",
   "execution_count": 58,
   "id": "866dee54-9d99-41bc-a632-016764d63a14",
   "metadata": {},
   "outputs": [
    {
     "data": {
      "text/plain": [
       "(3, 2)"
      ]
     },
     "execution_count": 58,
     "metadata": {},
     "output_type": "execute_result"
    }
   ],
   "source": [
    "nc.T.shape"
   ]
  },
  {
   "cell_type": "code",
   "execution_count": 60,
   "id": "c1fc5649-5aa9-4b69-a399-7fe0c9cf5893",
   "metadata": {},
   "outputs": [
    {
     "data": {
      "text/plain": [
       "(array([1, 2, 3]), (3,))"
      ]
     },
     "execution_count": 60,
     "metadata": {},
     "output_type": "execute_result"
    }
   ],
   "source": [
    "na, na.shape"
   ]
  },
  {
   "cell_type": "code",
   "execution_count": 71,
   "id": "2caf13c3-a220-478a-9973-4c230c8215cb",
   "metadata": {},
   "outputs": [
    {
     "data": {
      "text/plain": [
       "(array([1, 2, 3]), (3,))"
      ]
     },
     "execution_count": 71,
     "metadata": {},
     "output_type": "execute_result"
    }
   ],
   "source": [
    "na.T, na.T.shape # for one-dim array transpose opperation does not change anything"
   ]
  },
  {
   "cell_type": "markdown",
   "id": "d2fc8b40-22b7-4481-89f3-c225139c45fb",
   "metadata": {},
   "source": [
    "### Reshape"
   ]
  },
  {
   "cell_type": "code",
   "execution_count": 74,
   "id": "f71d6d2a-fb87-4055-be1e-08a0679e7200",
   "metadata": {},
   "outputs": [
    {
     "data": {
      "text/plain": [
       "array([[10, 20, 30],\n",
       "       [40, 50, 60]])"
      ]
     },
     "execution_count": 74,
     "metadata": {},
     "output_type": "execute_result"
    }
   ],
   "source": [
    "nc"
   ]
  },
  {
   "cell_type": "code",
   "execution_count": 76,
   "id": "963c9149-b178-4239-9a7d-211657acf6b7",
   "metadata": {},
   "outputs": [
    {
     "data": {
      "text/plain": [
       "(2, 3)"
      ]
     },
     "execution_count": 76,
     "metadata": {},
     "output_type": "execute_result"
    }
   ],
   "source": [
    "nc.shape"
   ]
  },
  {
   "cell_type": "code",
   "execution_count": 81,
   "id": "264a0546-7545-4cc8-972c-1eda9ea43590",
   "metadata": {},
   "outputs": [
    {
     "data": {
      "text/plain": [
       "array([[10, 20],\n",
       "       [30, 40],\n",
       "       [50, 60]])"
      ]
     },
     "execution_count": 81,
     "metadata": {},
     "output_type": "execute_result"
    }
   ],
   "source": [
    "nc_reshaped = nc.reshape(3, 2) # it does not change the original arrays\n",
    "nc_reshaped  "
   ]
  },
  {
   "cell_type": "code",
   "execution_count": 84,
   "id": "09db7216-a345-40ab-8bcf-6ea3c4911c49",
   "metadata": {},
   "outputs": [
    {
     "data": {
      "text/plain": [
       "array([[10, 40],\n",
       "       [20, 50],\n",
       "       [30, 60]])"
      ]
     },
     "execution_count": 84,
     "metadata": {},
     "output_type": "execute_result"
    }
   ],
   "source": [
    "nc.T # transpose does not work the same way as reshape(3,2)"
   ]
  },
  {
   "cell_type": "code",
   "execution_count": 86,
   "id": "4c385405-570f-4d57-b34c-40aeb0e4e360",
   "metadata": {},
   "outputs": [],
   "source": [
    "nc[0, 0] = 1"
   ]
  },
  {
   "cell_type": "code",
   "execution_count": 87,
   "id": "19caa175-31cc-435a-b8e2-22ebf9cf1a40",
   "metadata": {},
   "outputs": [
    {
     "data": {
      "text/plain": [
       "array([[ 1, 20, 30],\n",
       "       [40, 50, 60]])"
      ]
     },
     "execution_count": 87,
     "metadata": {},
     "output_type": "execute_result"
    }
   ],
   "source": [
    "nc"
   ]
  },
  {
   "cell_type": "code",
   "execution_count": 91,
   "id": "6ec4359a-601d-410b-9980-e2a169f9bd25",
   "metadata": {},
   "outputs": [
    {
     "data": {
      "text/plain": [
       "array([[ 1, 20],\n",
       "       [30, 40],\n",
       "       [50, 60]])"
      ]
     },
     "execution_count": 91,
     "metadata": {},
     "output_type": "execute_result"
    }
   ],
   "source": [
    "nc_reshaped # IMPORTANT - nc_reshaped is not a separate instnce of nc (it's only a kind of a view of the original array)"
   ]
  },
  {
   "cell_type": "code",
   "execution_count": 93,
   "id": "1e68dbec-b2cc-4a57-8dd7-8a3ae151d2b7",
   "metadata": {},
   "outputs": [
    {
     "data": {
      "text/plain": [
       "array([[ 1, 20, 30, 40, 50, 60]])"
      ]
     },
     "execution_count": 93,
     "metadata": {},
     "output_type": "execute_result"
    }
   ],
   "source": [
    "nc_reshaped = np.reshape(nc, (1,6))\n",
    "nc_reshaped"
   ]
  },
  {
   "cell_type": "code",
   "execution_count": 95,
   "id": "047d2c89-ea6b-46f4-81b1-2c9ebeffe153",
   "metadata": {},
   "outputs": [
    {
     "data": {
      "text/plain": [
       "array([[ 1, 20, 30, 40, 50, 60]])"
      ]
     },
     "execution_count": 95,
     "metadata": {},
     "output_type": "execute_result"
    }
   ],
   "source": [
    "nc_reshaped = np.reshape(nc, (1,-1)) # minus at the latest positions means the value is inferred from the earlier once\n",
    "nc_reshaped"
   ]
  },
  {
   "cell_type": "code",
   "execution_count": 97,
   "id": "afa5bb3f-5b9e-4d37-9e85-d1affa2f253f",
   "metadata": {},
   "outputs": [
    {
     "data": {
      "text/plain": [
       "array([[ 1, 20],\n",
       "       [30, 40],\n",
       "       [50, 60]])"
      ]
     },
     "execution_count": 97,
     "metadata": {},
     "output_type": "execute_result"
    }
   ],
   "source": [
    "nc_reshaped = np.reshape(nc, (3,-1))\n",
    "nc_reshaped"
   ]
  },
  {
   "cell_type": "code",
   "execution_count": 98,
   "id": "52924bf4-0fb0-46bb-a050-b8ae38357ece",
   "metadata": {},
   "outputs": [
    {
     "data": {
      "text/plain": [
       "array([[ 1],\n",
       "       [20],\n",
       "       [30],\n",
       "       [40],\n",
       "       [50],\n",
       "       [60]])"
      ]
     },
     "execution_count": 98,
     "metadata": {},
     "output_type": "execute_result"
    }
   ],
   "source": [
    "nc_reshaped = np.reshape(nc, (6,-1))\n",
    "nc_reshaped"
   ]
  },
  {
   "cell_type": "markdown",
   "id": "8b4e53ce-3621-4372-8b0a-ff299fbb8ac8",
   "metadata": {},
   "source": [
    "### Conditional operation"
   ]
  },
  {
   "cell_type": "code",
   "execution_count": 99,
   "id": "06f2e5dc-b988-4367-b212-b4389c88db76",
   "metadata": {},
   "outputs": [
    {
     "data": {
      "text/plain": [
       "array([False,  True,  True])"
      ]
     },
     "execution_count": 99,
     "metadata": {},
     "output_type": "execute_result"
    }
   ],
   "source": [
    "x = na > 1\n",
    "x"
   ]
  },
  {
   "cell_type": "code",
   "execution_count": 103,
   "id": "99698e1d-86ae-4120-bad4-8b978f549e3b",
   "metadata": {},
   "outputs": [
    {
     "data": {
      "text/plain": [
       "array([[False, False,  True],\n",
       "       [ True,  True,  True]])"
      ]
     },
     "execution_count": 103,
     "metadata": {},
     "output_type": "execute_result"
    }
   ],
   "source": [
    "nc >= 30"
   ]
  },
  {
   "cell_type": "code",
   "execution_count": 104,
   "id": "e6f1962a-1b33-454e-8422-01f0c7c07841",
   "metadata": {},
   "outputs": [
    {
     "data": {
      "text/plain": [
       "(array([0, 1, 1, 1]), array([2, 0, 1, 2]))"
      ]
     },
     "execution_count": 104,
     "metadata": {},
     "output_type": "execute_result"
    }
   ],
   "source": [
    "np.where(nc>=30) # returns the indexes of True value as a tuple"
   ]
  },
  {
   "cell_type": "code",
   "execution_count": 70,
   "id": "78e86c01-7dff-42a8-996a-ead1868904be",
   "metadata": {},
   "outputs": [
    {
     "data": {
      "text/plain": [
       "array([-1,  1,  1])"
      ]
     },
     "execution_count": 70,
     "metadata": {},
     "output_type": "execute_result"
    }
   ],
   "source": [
    "x = np.where(na > 1, 1, -1) # Synatax: np.where(condition, value if true, value if false)\n",
    "x"
   ]
  },
  {
   "cell_type": "markdown",
   "id": "acf84de4-08f5-40e1-9cff-b7eca0360ea5",
   "metadata": {},
   "source": [
    "### IsIn"
   ]
  },
  {
   "cell_type": "code",
   "execution_count": 101,
   "id": "3f7e7257-e59c-4d4c-956d-1f91badb00c5",
   "metadata": {},
   "outputs": [
    {
     "data": {
      "text/plain": [
       "array([False, False,  True,  True,  True, False,  True, False,  True])"
      ]
     },
     "execution_count": 101,
     "metadata": {},
     "output_type": "execute_result"
    }
   ],
   "source": [
    "a = np.array([1 ,3, 5, 6, 7, 8, 5, 2, 6])\n",
    "x = (5,6,7)\n",
    "mask = np.isin(a, x)\n",
    "mask"
   ]
  },
  {
   "cell_type": "code",
   "execution_count": null,
   "id": "bd27c4b8-779a-4a98-ba18-3cca10dd3a88",
   "metadata": {},
   "outputs": [],
   "source": []
  }
 ],
 "metadata": {
  "kernelspec": {
   "display_name": "Python 3 (ipykernel)",
   "language": "python",
   "name": "python3"
  },
  "language_info": {
   "codemirror_mode": {
    "name": "ipython",
    "version": 3
   },
   "file_extension": ".py",
   "mimetype": "text/x-python",
   "name": "python",
   "nbconvert_exporter": "python",
   "pygments_lexer": "ipython3",
   "version": "3.8.10"
  }
 },
 "nbformat": 4,
 "nbformat_minor": 5
}
