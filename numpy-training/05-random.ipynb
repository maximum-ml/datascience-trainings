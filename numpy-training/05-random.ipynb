{
 "cells": [
  {
   "cell_type": "markdown",
   "id": "7498def8-c56f-48ff-9872-cdb387d84414",
   "metadata": {},
   "source": [
    "# Numpy - Random"
   ]
  },
  {
   "cell_type": "code",
   "execution_count": 2,
   "id": "361eafc4-e4b4-43cd-8722-d64fb673a2f6",
   "metadata": {},
   "outputs": [],
   "source": [
    "import numpy as np"
   ]
  },
  {
   "cell_type": "code",
   "execution_count": 3,
   "id": "caa194c7-95ba-4538-86db-45e2545437ba",
   "metadata": {},
   "outputs": [
    {
     "data": {
      "text/plain": [
       "array([0.73103817, 0.75769354, 0.89150343, 0.63178204, 0.50219495])"
      ]
     },
     "execution_count": 3,
     "metadata": {},
     "output_type": "execute_result"
    }
   ],
   "source": [
    "r1 = np.random.rand(5) \n",
    "r1"
   ]
  },
  {
   "cell_type": "code",
   "execution_count": 4,
   "id": "11528320-5717-4cba-8086-0e834e8183c9",
   "metadata": {},
   "outputs": [
    {
     "data": {
      "text/plain": [
       "array([[0.12072664, 0.84579316],\n",
       "       [0.42474602, 0.42803488]])"
      ]
     },
     "execution_count": 4,
     "metadata": {},
     "output_type": "execute_result"
    }
   ],
   "source": [
    "r2 = np.random.rand(2, 2)\n",
    "r2"
   ]
  },
  {
   "cell_type": "code",
   "execution_count": 5,
   "id": "668f6005-96ad-4fa1-a847-f99f5f6af68b",
   "metadata": {},
   "outputs": [
    {
     "data": {
      "text/plain": [
       "array([[[0.58728934, 0.91092597],\n",
       "        [0.80824948, 0.41326213],\n",
       "        [0.08253326, 0.57849882]],\n",
       "\n",
       "       [[0.65221558, 0.04199827],\n",
       "        [0.5182924 , 0.02740379],\n",
       "        [0.96796282, 0.57839273]]])"
      ]
     },
     "execution_count": 5,
     "metadata": {},
     "output_type": "execute_result"
    }
   ],
   "source": [
    "r3 = np.random.rand(2, 3, 2)\n",
    "r3"
   ]
  },
  {
   "cell_type": "code",
   "execution_count": 6,
   "id": "911fdf46-1241-45ef-9c11-700e764c4832",
   "metadata": {},
   "outputs": [
    {
     "name": "stdout",
     "output_type": "stream",
     "text": [
      "FRAME:[[0.58728934 0.91092597]\n",
      " [0.80824948 0.41326213]\n",
      " [0.08253326 0.57849882]]\n",
      "FRAME:[[0.65221558 0.04199827]\n",
      " [0.5182924  0.02740379]\n",
      " [0.96796282 0.57839273]]\n"
     ]
    }
   ],
   "source": []
  },
  {
   "cell_type": "code",
   "execution_count": null,
   "id": "f8b4412f-c36e-4d0c-a3b0-83e63494b5cf",
   "metadata": {},
   "outputs": [],
   "source": []
  }
 ],
 "metadata": {
  "kernelspec": {
   "display_name": "Python 3 (ipykernel)",
   "language": "python",
   "name": "python3"
  },
  "language_info": {
   "codemirror_mode": {
    "name": "ipython",
    "version": 3
   },
   "file_extension": ".py",
   "mimetype": "text/x-python",
   "name": "python",
   "nbconvert_exporter": "python",
   "pygments_lexer": "ipython3",
   "version": "3.8.10"
  }
 },
 "nbformat": 4,
 "nbformat_minor": 5
}
