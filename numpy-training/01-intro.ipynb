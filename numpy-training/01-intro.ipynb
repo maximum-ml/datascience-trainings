{
 "cells": [
  {
   "cell_type": "markdown",
   "id": "741d99b8-64ea-456c-a917-264e636a3c17",
   "metadata": {},
   "source": [
    "# Numpy - Intro"
   ]
  },
  {
   "cell_type": "markdown",
   "id": "38c315bb-b594-4851-a7bc-5c32da4b615d",
   "metadata": {},
   "source": [
    "### Basic attributes of list and ndarray"
   ]
  },
  {
   "cell_type": "code",
   "execution_count": 2,
   "id": "5889b827-ff13-4add-9d04-75573e188d65",
   "metadata": {},
   "outputs": [],
   "source": [
    "a = [1, 2, 3]"
   ]
  },
  {
   "cell_type": "code",
   "execution_count": 8,
   "id": "7f0c4570-cbe6-4ea2-8644-68167dc6422c",
   "metadata": {},
   "outputs": [
    {
     "name": "stdout",
     "output_type": "stream",
     "text": [
      "a=[1, 2, 3]\n",
      "len(a)=3\n",
      "type(a)=<class 'list'>\n"
     ]
    }
   ],
   "source": [
    "print(f'a={a}')\n",
    "print(f'len(a)={len(a)}')\n",
    "print(f'type(a)={type(a)}')"
   ]
  },
  {
   "cell_type": "code",
   "execution_count": 15,
   "id": "5a7d77df-8d06-4e96-855e-783938a9e1f1",
   "metadata": {},
   "outputs": [],
   "source": [
    "b = [[10, 20, 30], [40, 50, 60]]"
   ]
  },
  {
   "cell_type": "code",
   "execution_count": 16,
   "id": "0cd1be0b-f1ea-4584-854e-d098bf6b3ebb",
   "metadata": {},
   "outputs": [
    {
     "name": "stdout",
     "output_type": "stream",
     "text": [
      "b=[[10, 20, 30], [40, 50, 60]]\n",
      "len(b)=2\n",
      "type(b)=<class 'list'>\n"
     ]
    }
   ],
   "source": [
    "print(f'b={b}')\n",
    "print(f'len(b)={len(b)}')\n",
    "print(f'type(b)={type(b)}')"
   ]
  },
  {
   "cell_type": "code",
   "execution_count": 17,
   "id": "c52b5e2b-686c-4a6d-92c5-3f8bc313a527",
   "metadata": {},
   "outputs": [],
   "source": [
    "import numpy as np"
   ]
  },
  {
   "cell_type": "code",
   "execution_count": 18,
   "id": "f6294136-3438-4029-ac9d-c0212ded3417",
   "metadata": {},
   "outputs": [
    {
     "data": {
      "text/plain": [
       "array([[10, 20, 30],\n",
       "       [40, 50, 60]])"
      ]
     },
     "execution_count": 18,
     "metadata": {},
     "output_type": "execute_result"
    }
   ],
   "source": [
    "nb = np.array(b)\n",
    "nb"
   ]
  },
  {
   "cell_type": "code",
   "execution_count": 19,
   "id": "6802cbb8-4d15-4e31-ac9d-8369d94e2865",
   "metadata": {},
   "outputs": [
    {
     "name": "stdout",
     "output_type": "stream",
     "text": [
      "len(nb)=2\n",
      "type(nb)=<class 'numpy.ndarray'>\n"
     ]
    }
   ],
   "source": [
    "print(f'len(nb)={len(nb)}')\n",
    "print(f'type(nb)={type(nb)}')"
   ]
  },
  {
   "cell_type": "markdown",
   "id": "32ea9445-c5ef-4060-ba1a-8caff8e60020",
   "metadata": {},
   "source": [
    "### size, shape"
   ]
  },
  {
   "cell_type": "code",
   "execution_count": 24,
   "id": "7e43fb23-8f24-418b-ba1a-2ace54de9626",
   "metadata": {},
   "outputs": [
    {
     "data": {
      "text/plain": [
       "6"
      ]
     },
     "execution_count": 24,
     "metadata": {},
     "output_type": "execute_result"
    }
   ],
   "source": [
    "nb.size"
   ]
  },
  {
   "cell_type": "code",
   "execution_count": 25,
   "id": "f6966017-173c-45a2-975d-52a0c5b64475",
   "metadata": {},
   "outputs": [
    {
     "data": {
      "text/plain": [
       "(2, 3)"
      ]
     },
     "execution_count": 25,
     "metadata": {},
     "output_type": "execute_result"
    }
   ],
   "source": [
    "nb.shape"
   ]
  },
  {
   "cell_type": "code",
   "execution_count": null,
   "id": "b48757e8-2ca2-4421-a9e1-fa304a7e5e90",
   "metadata": {},
   "outputs": [],
   "source": []
  }
 ],
 "metadata": {
  "kernelspec": {
   "display_name": "Python 3 (ipykernel)",
   "language": "python",
   "name": "python3"
  },
  "language_info": {
   "codemirror_mode": {
    "name": "ipython",
    "version": 3
   },
   "file_extension": ".py",
   "mimetype": "text/x-python",
   "name": "python",
   "nbconvert_exporter": "python",
   "pygments_lexer": "ipython3",
   "version": "3.9.13"
  }
 },
 "nbformat": 4,
 "nbformat_minor": 5
}
