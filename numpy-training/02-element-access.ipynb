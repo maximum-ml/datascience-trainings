{
 "cells": [
  {
   "cell_type": "markdown",
   "id": "e4fa1396-06e8-4733-b91d-a21bdd4d8e9a",
   "metadata": {},
   "source": [
    "# Numpy - Element Access"
   ]
  },
  {
   "cell_type": "code",
   "execution_count": 2,
   "id": "e99320ce-8948-4ab0-9877-a38e8107ee03",
   "metadata": {},
   "outputs": [],
   "source": [
    "import numpy as np"
   ]
  },
  {
   "cell_type": "code",
   "execution_count": 4,
   "id": "294a1dda-2237-4134-a2d7-3a148f136496",
   "metadata": {},
   "outputs": [],
   "source": [
    "a = np.array([[10, 20, 30], [40, 50, 60]])"
   ]
  },
  {
   "cell_type": "code",
   "execution_count": 6,
   "id": "d952f14c-94eb-4685-b58b-e772d3e0dc7e",
   "metadata": {},
   "outputs": [
    {
     "data": {
      "text/plain": [
       "10"
      ]
     },
     "execution_count": 6,
     "metadata": {},
     "output_type": "execute_result"
    }
   ],
   "source": [
    "x1 = a[0][0] # the same approach as for python list\n",
    "x1"
   ]
  },
  {
   "cell_type": "code",
   "execution_count": 9,
   "id": "c1c1ea5f-dab9-42a2-9f37-689a8ce1fc78",
   "metadata": {},
   "outputs": [
    {
     "data": {
      "text/plain": [
       "10"
      ]
     },
     "execution_count": 9,
     "metadata": {},
     "output_type": "execute_result"
    }
   ],
   "source": [
    "x1 = a[0, 0] # this is an alternate way (it won't work for a list)\n",
    "x1"
   ]
  },
  {
   "cell_type": "code",
   "execution_count": 12,
   "id": "54859816-2878-4bb9-a8b8-1fdf7520a61b",
   "metadata": {},
   "outputs": [
    {
     "data": {
      "text/plain": [
       "array([20, 50])"
      ]
     },
     "execution_count": 12,
     "metadata": {},
     "output_type": "execute_result"
    }
   ],
   "source": [
    "col = a[:, 1] # get the whole second column\n",
    "col"
   ]
  },
  {
   "cell_type": "code",
   "execution_count": 14,
   "id": "2413d3b4-1553-4128-9fa4-674c66f119d0",
   "metadata": {},
   "outputs": [
    {
     "data": {
      "text/plain": [
       "array([40, 50, 60])"
      ]
     },
     "execution_count": 14,
     "metadata": {},
     "output_type": "execute_result"
    }
   ],
   "source": [
    "row = a[1, :] # get the whole row\n",
    "row"
   ]
  },
  {
   "cell_type": "code",
   "execution_count": 15,
   "id": "0de7dcbf-40f9-48da-b78c-78579e1000a4",
   "metadata": {},
   "outputs": [
    {
     "data": {
      "text/plain": [
       "array([0, 1, 2, 3, 4, 5, 6, 7, 8, 9])"
      ]
     },
     "execution_count": 15,
     "metadata": {},
     "output_type": "execute_result"
    }
   ],
   "source": [
    "b = np.array([0, 1 , 2, 3, 4, 5, 6, 7, 8, 9])\n",
    "b"
   ]
  },
  {
   "cell_type": "code",
   "execution_count": 16,
   "id": "f2ca0a14-ac00-461d-8db1-d1b15aa816c3",
   "metadata": {},
   "outputs": [
    {
     "data": {
      "text/plain": [
       "array([0, 3, 6])"
      ]
     },
     "execution_count": 16,
     "metadata": {},
     "output_type": "execute_result"
    }
   ],
   "source": [
    "b[0:9:3] # [start_index(inclusive):end_index(exclusive), step]"
   ]
  },
  {
   "cell_type": "code",
   "execution_count": 17,
   "id": "39ed06b6-e61e-4f30-add8-3fc1f4b1bc6b",
   "metadata": {},
   "outputs": [
    {
     "name": "stdout",
     "output_type": "stream",
     "text": [
      "FRAME:[10 20 30]\n",
      "FRAME:[40 50 60]\n"
     ]
    }
   ],
   "source": [
    "for frame in a:\n",
    "    print(f'FRAME:{frame}')"
   ]
  },
  {
   "cell_type": "code",
   "execution_count": null,
   "id": "07e98140-b6d9-4eab-bb00-c89ec7153d77",
   "metadata": {},
   "outputs": [],
   "source": []
  }
 ],
 "metadata": {
  "kernelspec": {
   "display_name": "Python 3 (ipykernel)",
   "language": "python",
   "name": "python3"
  },
  "language_info": {
   "codemirror_mode": {
    "name": "ipython",
    "version": 3
   },
   "file_extension": ".py",
   "mimetype": "text/x-python",
   "name": "python",
   "nbconvert_exporter": "python",
   "pygments_lexer": "ipython3",
   "version": "3.8.10"
  }
 },
 "nbformat": 4,
 "nbformat_minor": 5
}
